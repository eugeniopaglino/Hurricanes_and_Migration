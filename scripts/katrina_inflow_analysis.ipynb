{
 "cells": [
  {
   "cell_type": "markdown",
   "metadata": {},
   "source": [
    "# Katrina Inflow Analysis\n",
    "## Organising the Dataset\n",
    "We import ```pandas```, ```numpy```, ```csv```, and ```os``` libraries"
   ]
  },
  {
   "cell_type": "code",
   "execution_count": 1,
   "metadata": {},
   "outputs": [],
   "source": [
    "import pandas as pd\n",
    "import numpy as np\n",
    "import csv\n",
    "import os"
   ]
  },
  {
   "cell_type": "markdown",
   "metadata": {},
   "source": [
    "We store the path to the ```IRS_migration_data``` repository folder in a string variable"
   ]
  },
  {
   "cell_type": "code",
   "execution_count": 2,
   "metadata": {},
   "outputs": [],
   "source": [
    "repo_path = os.getcwd()[0:len(os.getcwd())-7]"
   ]
  },
  {
   "cell_type": "markdown",
   "metadata": {},
   "source": [
    "We also create a new ```tables``` folder in which we will store the tables produced by this script, it will be a subfolder of your ```IRS_migration_data``` repository. If such a folder already exists, a new one will not be created."
   ]
  },
  {
   "cell_type": "code",
   "execution_count": 22,
   "metadata": {},
   "outputs": [],
   "source": [
    "results_path = repo_path + 'tables/'\n",
    "if not os.path.exists(results_path):\n",
    "    os.makedirs(results_path)"
   ]
  },
  {
   "cell_type": "markdown",
   "metadata": {},
   "source": [
    "We upload the data on outflows from a csv file. It covers the period 1998-2015."
   ]
  },
  {
   "cell_type": "code",
   "execution_count": 5,
   "metadata": {},
   "outputs": [],
   "source": [
    "inflow_df = pd.read_csv(repo_path + 'inflows/inflow.csv')"
   ]
  },
  {
   "cell_type": "markdown",
   "metadata": {},
   "source": [
    "We print the first 10 lines of the dataframe wew just created to see how it is structured"
   ]
  },
  {
   "cell_type": "code",
   "execution_count": 6,
   "metadata": {},
   "outputs": [
    {
     "data": {
      "text/html": [
       "<div>\n",
       "<style scoped>\n",
       "    .dataframe tbody tr th:only-of-type {\n",
       "        vertical-align: middle;\n",
       "    }\n",
       "\n",
       "    .dataframe tbody tr th {\n",
       "        vertical-align: top;\n",
       "    }\n",
       "\n",
       "    .dataframe thead th {\n",
       "        text-align: right;\n",
       "    }\n",
       "</style>\n",
       "<table border=\"1\" class=\"dataframe\">\n",
       "  <thead>\n",
       "    <tr style=\"text-align: right;\">\n",
       "      <th></th>\n",
       "      <th>year</th>\n",
       "      <th>state_code_dest</th>\n",
       "      <th>county_code_dest</th>\n",
       "      <th>destination</th>\n",
       "      <th>state_code_origin</th>\n",
       "      <th>county_code_origin</th>\n",
       "      <th>origin</th>\n",
       "      <th>state_abbrv</th>\n",
       "      <th>county_name</th>\n",
       "      <th>return_num</th>\n",
       "      <th>exmpt_num</th>\n",
       "      <th>aggr_agi</th>\n",
       "    </tr>\n",
       "  </thead>\n",
       "  <tbody>\n",
       "    <tr>\n",
       "      <th>0</th>\n",
       "      <td>1998-1999</td>\n",
       "      <td>0</td>\n",
       "      <td>0</td>\n",
       "      <td>0</td>\n",
       "      <td>96</td>\n",
       "      <td>0</td>\n",
       "      <td>96000</td>\n",
       "      <td>US</td>\n",
       "      <td>Total Mig - US &amp; For</td>\n",
       "      <td>6916177</td>\n",
       "      <td>13132561</td>\n",
       "      <td>272835496</td>\n",
       "    </tr>\n",
       "    <tr>\n",
       "      <th>1</th>\n",
       "      <td>1998-1999</td>\n",
       "      <td>0</td>\n",
       "      <td>0</td>\n",
       "      <td>0</td>\n",
       "      <td>97</td>\n",
       "      <td>0</td>\n",
       "      <td>97000</td>\n",
       "      <td>US</td>\n",
       "      <td>Total Mig - US</td>\n",
       "      <td>6711480</td>\n",
       "      <td>12800546</td>\n",
       "      <td>268111409</td>\n",
       "    </tr>\n",
       "    <tr>\n",
       "      <th>2</th>\n",
       "      <td>1998-1999</td>\n",
       "      <td>0</td>\n",
       "      <td>0</td>\n",
       "      <td>0</td>\n",
       "      <td>97</td>\n",
       "      <td>1</td>\n",
       "      <td>97001</td>\n",
       "      <td>US</td>\n",
       "      <td>Total Mig - US Same St</td>\n",
       "      <td>3803650</td>\n",
       "      <td>7221528</td>\n",
       "      <td>143410291</td>\n",
       "    </tr>\n",
       "    <tr>\n",
       "      <th>3</th>\n",
       "      <td>1998-1999</td>\n",
       "      <td>0</td>\n",
       "      <td>0</td>\n",
       "      <td>0</td>\n",
       "      <td>97</td>\n",
       "      <td>3</td>\n",
       "      <td>97003</td>\n",
       "      <td>US</td>\n",
       "      <td>Total Mig - US Diff St</td>\n",
       "      <td>2907830</td>\n",
       "      <td>5579018</td>\n",
       "      <td>124701118</td>\n",
       "    </tr>\n",
       "    <tr>\n",
       "      <th>4</th>\n",
       "      <td>1998-1999</td>\n",
       "      <td>0</td>\n",
       "      <td>0</td>\n",
       "      <td>0</td>\n",
       "      <td>98</td>\n",
       "      <td>0</td>\n",
       "      <td>98000</td>\n",
       "      <td>US</td>\n",
       "      <td>Total Mig - Foreign</td>\n",
       "      <td>204697</td>\n",
       "      <td>332015</td>\n",
       "      <td>4724087</td>\n",
       "    </tr>\n",
       "  </tbody>\n",
       "</table>\n",
       "</div>"
      ],
      "text/plain": [
       "        year  state_code_dest  county_code_dest  destination  \\\n",
       "0  1998-1999                0                 0            0   \n",
       "1  1998-1999                0                 0            0   \n",
       "2  1998-1999                0                 0            0   \n",
       "3  1998-1999                0                 0            0   \n",
       "4  1998-1999                0                 0            0   \n",
       "\n",
       "   state_code_origin  county_code_origin  origin state_abbrv  \\\n",
       "0                 96                   0   96000          US   \n",
       "1                 97                   0   97000          US   \n",
       "2                 97                   1   97001          US   \n",
       "3                 97                   3   97003          US   \n",
       "4                 98                   0   98000          US   \n",
       "\n",
       "              county_name  return_num  exmpt_num   aggr_agi  \n",
       "0    Total Mig - US & For     6916177   13132561  272835496  \n",
       "1          Total Mig - US     6711480   12800546  268111409  \n",
       "2  Total Mig - US Same St     3803650    7221528  143410291  \n",
       "3  Total Mig - US Diff St     2907830    5579018  124701118  \n",
       "4     Total Mig - Foreign      204697     332015    4724087  "
      ]
     },
     "execution_count": 6,
     "metadata": {},
     "output_type": "execute_result"
    }
   ],
   "source": [
    "inflow_df.head()"
   ]
  },
  {
   "cell_type": "markdown",
   "metadata": {},
   "source": [
    "We store in a numpy array the unique fip codes of destination and origin counties"
   ]
  },
  {
   "cell_type": "code",
   "execution_count": 7,
   "metadata": {},
   "outputs": [],
   "source": [
    "destinations = inflow_df[(inflow_df['state_code_dest']<=56) & ((inflow_df['state_code_origin']<=56))]\n",
    "destination_codes = pd.unique(destinations['destination'].values)\n",
    "origin_codes = np.append(destination_codes, [58000,59000,57009])"
   ]
  },
  {
   "cell_type": "markdown",
   "metadata": {},
   "source": [
    "We upload the cleaned and restructured datasets for the nine period we will analyse:\n",
    "    \n",
    "* before Katrina (1999-2004);\n",
    "* and after Katrina (2007-2009)."
   ]
  },
  {
   "cell_type": "code",
   "execution_count": 8,
   "metadata": {},
   "outputs": [],
   "source": [
    "pre_1 = pd.read_csv(repo_path + 'inflows/9900in.csv')\n",
    "pre_1.rename(columns={'Unnamed: 0':''}, inplace=True)\n",
    "pre_1.set_index([''], inplace=True)\n",
    "new_col_names = list(map(int, pre_1.columns.values))\n",
    "pre_1.columns = new_col_names\n",
    "\n",
    "pre_2 = pd.read_csv(repo_path + 'inflows/0001in.csv')\n",
    "pre_2.rename(columns={'Unnamed: 0':''}, inplace=True)\n",
    "pre_2.set_index([''], inplace=True)\n",
    "new_col_names = list(map(int, pre_2.columns.values))\n",
    "pre_2.columns = new_col_names\n",
    "\n",
    "pre_3 = pd.read_csv(repo_path + 'inflows/0102in.csv')\n",
    "pre_3.rename(columns={'Unnamed: 0':''}, inplace=True)\n",
    "pre_3.set_index([''], inplace=True)\n",
    "new_col_names = list(map(int, pre_3.columns.values))\n",
    "pre_3.columns = new_col_names\n",
    "\n",
    "pre_4 = pd.read_csv(repo_path + 'inflows/0203in.csv')\n",
    "pre_4.rename(columns={'Unnamed: 0':''}, inplace=True)\n",
    "pre_4.set_index([''], inplace=True)\n",
    "new_col_names = list(map(int, pre_4.columns.values))\n",
    "pre_4.columns = new_col_names\n",
    "\n",
    "pre_5 = pd.read_csv(repo_path + 'inflows/0304in.csv')\n",
    "pre_5.rename(columns={'Unnamed: 0':''}, inplace=True)\n",
    "pre_5.set_index([''], inplace=True)\n",
    "new_col_names = list(map(int, pre_5.columns.values))\n",
    "pre_5.columns = new_col_names\n",
    "\n",
    "pre_6 = pd.read_csv(repo_path + 'inflows/0405in.csv')\n",
    "pre_6.rename(columns={'Unnamed: 0':''}, inplace=True)\n",
    "pre_6.set_index([''], inplace=True)\n",
    "new_col_names = list(map(int, pre_6.columns.values))\n",
    "pre_6.columns = new_col_names\n",
    "\n",
    "re_1 = pd.read_csv(repo_path + 'inflows/0708in.csv')\n",
    "re_1.rename(columns={'Unnamed: 0':''}, inplace=True)\n",
    "re_1.set_index([''], inplace=True)\n",
    "new_col_names = list(map(int, re_1.columns.values))\n",
    "re_1.columns = new_col_names\n",
    "\n",
    "re_2 = pd.read_csv(repo_path + 'inflows/0809in.csv')\n",
    "re_2.rename(columns={'Unnamed: 0':''}, inplace=True)\n",
    "re_2.set_index([''], inplace=True)\n",
    "new_col_names = list(map(int, re_2.columns.values))\n",
    "re_2.columns = new_col_names\n",
    "\n",
    "re_3 = pd.read_csv(repo_path + 'inflows/0910in.csv')\n",
    "re_3.rename(columns={'Unnamed: 0':''}, inplace=True)\n",
    "re_3.set_index([''], inplace=True)\n",
    "new_col_names = list(map(int, re_3.columns.values))\n",
    "re_3.columns = new_col_names"
   ]
  },
  {
   "cell_type": "markdown",
   "metadata": {},
   "source": [
    "We import a set of csv files that contain the fip codes for different groups of counties we will use in the analysis."
   ]
  },
  {
   "cell_type": "code",
   "execution_count": 10,
   "metadata": {},
   "outputs": [],
   "source": [
    "disaster_kat_counties_df = pd.read_csv(repo_path + 'county_groups/disaster_kat_counties.csv', usecols = ['fip_code'])\n",
    "nearby_kat_counties_df = pd.read_csv(repo_path + 'county_groups/nearby_kat_counties.csv', usecols = ['fip_code'])\n",
    "distant_kat_counties_df = pd.read_csv(repo_path + 'county_groups/distant_kat_counties.csv', usecols = ['fip_code'])\n",
    "urban_nc_counties_df = pd.read_csv(repo_path + 'county_groups/urban_nc_counties.csv', usecols = ['fip_code'])"
   ]
  },
  {
   "cell_type": "markdown",
   "metadata": {},
   "source": [
    "We now convert the dataframes into lists and we add one list with all the counties"
   ]
  },
  {
   "cell_type": "code",
   "execution_count": 11,
   "metadata": {},
   "outputs": [],
   "source": [
    "disaster_kat_counties = list(disaster_kat_counties_df['fip_code'])\n",
    "nearby_kat_counties = list(nearby_kat_counties_df['fip_code'])\n",
    "distant_kat_counties = list(distant_kat_counties_df['fip_code'])\n",
    "urban_nc_counties = list(urban_nc_counties_df['fip_code'])\n",
    "all_nc_counties = disaster_kat_counties + nearby_kat_counties + distant_kat_counties"
   ]
  },
  {
   "cell_type": "markdown",
   "metadata": {},
   "source": [
    "Finally, using list comprehension, we divide all the groups we have defined so far into urban and rural areas by looking at their 2010 Census population. If the proportion living in rural areas is equal or above 50% we classify the county as rural otherwise as urban."
   ]
  },
  {
   "cell_type": "code",
   "execution_count": 12,
   "metadata": {},
   "outputs": [],
   "source": [
    "disaster_kat_urban_counties = [x for x in disaster_kat_counties if x in urban_nc_counties]\n",
    "nearby_kat_urban_counties = [x for x in nearby_kat_counties if x in urban_nc_counties]\n",
    "distant_kat_urban_counties = [x for x in distant_kat_counties if x in urban_nc_counties]"
   ]
  },
  {
   "cell_type": "markdown",
   "metadata": {},
   "source": [
    "We now summarize the number of counties in each group:"
   ]
  },
  {
   "cell_type": "code",
   "execution_count": 13,
   "metadata": {},
   "outputs": [
    {
     "name": "stdout",
     "output_type": "stream",
     "text": [
      "There are 36 disaster counties, of which 31 are urban.\n",
      "There are 124 nearby counties, of which 63 are urban.\n",
      "There are 2952 distant counties, of which 1153 are urban.\n",
      "There is a total of 3112 counties, of which 1247 are urban and the remaining 1865 are rural.\n"
     ]
    }
   ],
   "source": [
    "print('There are', len(disaster_kat_counties), 'disaster counties, of which', \n",
    "      len(disaster_kat_urban_counties), 'are urban.' )\n",
    "\n",
    "print('There are', len(nearby_kat_counties), 'nearby counties, of which', \n",
    "      len(nearby_kat_urban_counties), 'are urban.' )\n",
    "\n",
    "print('There are', len(distant_kat_counties), 'distant counties, of which', \n",
    "      len(distant_kat_urban_counties), 'are urban.' )\n",
    "\n",
    "print('There is a total of', len(all_nc_counties), 'counties, of which', \n",
    "      len(urban_nc_counties), 'are urban and the remaining',\n",
    "      len(all_nc_counties) - len(urban_nc_counties), 'are rural.' )"
   ]
  },
  {
   "cell_type": "markdown",
   "metadata": {},
   "source": [
    "## Ties Analysis\n",
    "We create six dataframes, one for each year considered, where we have the ties connecting each county to the others. Here a tie is defined as the presence of a flow of any size between two counties. The final result is a matrix for each period whose rows and columns are all the counties in the dataset and where a 1 indicates the presence of a tie between the two counties and a 0 its absence. We consider a tie to exist if a positive flow was recorded at least in one of the years composing the before and after periods."
   ]
  },
  {
   "cell_type": "code",
   "execution_count": 14,
   "metadata": {},
   "outputs": [],
   "source": [
    "pre_1_ties_kat = pre_1.drop([58000,59000,57009],axis=1).where(pre_1==0,1)\n",
    "pre_2_ties_kat = pre_2.drop([58000,59000,57009],axis=1).where(pre_2==0,1)\n",
    "pre_3_ties_kat = pre_3.drop([58000,59000,57009],axis=1).where(pre_3==0,1)\n",
    "pre_4_ties_kat = pre_4.drop([58000,59000,57009],axis=1).where(pre_4==0,1)\n",
    "pre_5_ties_kat = pre_5.drop([58000,59000,57009],axis=1).where(pre_5==0,1)\n",
    "pre_6_ties_kat = pre_6.drop([58000,59000,57009],axis=1).where(pre_6==0,1)\n",
    "\n",
    "re_1_ties_kat = re_1.drop([58000,59000,57009],axis=1).where(re_1==0,1)\n",
    "re_2_ties_kat = re_2.drop([58000,59000,57009],axis=1).where(re_2==0,1)\n",
    "re_3_ties_kat = re_3.drop([58000,59000,57009],axis=1).where(re_3==0,1)"
   ]
  },
  {
   "cell_type": "code",
   "execution_count": 15,
   "metadata": {},
   "outputs": [],
   "source": [
    "pre_ties_kat = (pre_1_ties_kat + pre_2_ties_kat + pre_3_ties_kat + pre_4_ties_kat + pre_5_ties_kat + pre_6_ties_kat)\n",
    "pre_ties_kat = pre_ties_kat.where(pre_ties_kat==0,1)\n",
    "\n",
    "re_ties_kat = (re_1_ties_kat + re_2_ties_kat + re_3_ties_kat)\n",
    "re_ties_kat = re_ties_kat.where(re_ties_kat==0,1)"
   ]
  },
  {
   "cell_type": "markdown",
   "metadata": {},
   "source": [
    "The final result is a matrix for each period whose rows and columns are all the counties in the dataset and where a 1 indicates the presence of a tie between the two counties and a 0 its absence. We consider a tie to exist if a positive flow was recorded at least in one of the three years composing the before and after periods."
   ]
  },
  {
   "cell_type": "code",
   "execution_count": 16,
   "metadata": {},
   "outputs": [],
   "source": [
    "ties_kat = re_ties_kat - pre_ties_kat\n",
    "uties_pre_kat = ties_kat.where(ties_kat==-1,0)*-1\n",
    "uties_re_kat = ties_kat.where(ties_kat==1,0)"
   ]
  },
  {
   "cell_type": "code",
   "execution_count": 17,
   "metadata": {},
   "outputs": [],
   "source": [
    "for i in uties_pre_kat.index:\n",
    "    uties_pre_kat.loc[i, i] = 0\n",
    "for i in uties_re_kat.index:\n",
    "    uties_re_kat.loc[i, i] = 0"
   ]
  },
  {
   "cell_type": "markdown",
   "metadata": {},
   "source": [
    "We set up the table headers"
   ]
  },
  {
   "cell_type": "code",
   "execution_count": 18,
   "metadata": {},
   "outputs": [],
   "source": [
    "counties_groups_kat = ['All','Disaster Affected','Nearby','Distant',\n",
    "                   'All (Urban)', 'Disaster Affected (Urban)', 'Nearby (Urban)','Distant (Urban)']\n",
    "periods = ['Pre-Disaster','Recovery','% Change']"
   ]
  },
  {
   "cell_type": "markdown",
   "metadata": {},
   "source": [
    "We initialise the table"
   ]
  },
  {
   "cell_type": "code",
   "execution_count": 19,
   "metadata": {},
   "outputs": [],
   "source": [
    "ties_df_kat = pd.DataFrame(0, index=counties_groups_kat, columns=periods)"
   ]
  },
  {
   "cell_type": "markdown",
   "metadata": {},
   "source": [
    "Finally we fill it"
   ]
  },
  {
   "cell_type": "code",
   "execution_count": 20,
   "metadata": {},
   "outputs": [
    {
     "data": {
      "text/html": [
       "<div>\n",
       "<style scoped>\n",
       "    .dataframe tbody tr th:only-of-type {\n",
       "        vertical-align: middle;\n",
       "    }\n",
       "\n",
       "    .dataframe tbody tr th {\n",
       "        vertical-align: top;\n",
       "    }\n",
       "\n",
       "    .dataframe thead th {\n",
       "        text-align: right;\n",
       "    }\n",
       "</style>\n",
       "<table border=\"1\" class=\"dataframe\">\n",
       "  <thead>\n",
       "    <tr style=\"text-align: right;\">\n",
       "      <th></th>\n",
       "      <th>Pre-Disaster</th>\n",
       "      <th>Recovery</th>\n",
       "      <th>% Change</th>\n",
       "    </tr>\n",
       "  </thead>\n",
       "  <tbody>\n",
       "    <tr>\n",
       "      <th>All</th>\n",
       "      <td>457.0</td>\n",
       "      <td>444.0</td>\n",
       "      <td>-2.8</td>\n",
       "    </tr>\n",
       "    <tr>\n",
       "      <th>Disaster Affected</th>\n",
       "      <td>46.0</td>\n",
       "      <td>30.0</td>\n",
       "      <td>-34.8</td>\n",
       "    </tr>\n",
       "    <tr>\n",
       "      <th>Nearby</th>\n",
       "      <td>72.0</td>\n",
       "      <td>98.0</td>\n",
       "      <td>36.1</td>\n",
       "    </tr>\n",
       "    <tr>\n",
       "      <th>Distant</th>\n",
       "      <td>339.0</td>\n",
       "      <td>316.0</td>\n",
       "      <td>-6.8</td>\n",
       "    </tr>\n",
       "    <tr>\n",
       "      <th>All (Urban)</th>\n",
       "      <td>384.0</td>\n",
       "      <td>379.0</td>\n",
       "      <td>-1.3</td>\n",
       "    </tr>\n",
       "    <tr>\n",
       "      <th>Disaster Affected (Urban)</th>\n",
       "      <td>44.0</td>\n",
       "      <td>27.0</td>\n",
       "      <td>-38.6</td>\n",
       "    </tr>\n",
       "    <tr>\n",
       "      <th>Nearby (Urban)</th>\n",
       "      <td>50.0</td>\n",
       "      <td>73.0</td>\n",
       "      <td>46.0</td>\n",
       "    </tr>\n",
       "    <tr>\n",
       "      <th>Distant (Urban)</th>\n",
       "      <td>290.0</td>\n",
       "      <td>279.0</td>\n",
       "      <td>-3.8</td>\n",
       "    </tr>\n",
       "  </tbody>\n",
       "</table>\n",
       "</div>"
      ],
      "text/plain": [
       "                           Pre-Disaster  Recovery  % Change\n",
       "All                               457.0     444.0      -2.8\n",
       "Disaster Affected                  46.0      30.0     -34.8\n",
       "Nearby                             72.0      98.0      36.1\n",
       "Distant                           339.0     316.0      -6.8\n",
       "All (Urban)                       384.0     379.0      -1.3\n",
       "Disaster Affected (Urban)          44.0      27.0     -38.6\n",
       "Nearby (Urban)                     50.0      73.0      46.0\n",
       "Distant (Urban)                   290.0     279.0      -3.8"
      ]
     },
     "execution_count": 20,
     "metadata": {},
     "output_type": "execute_result"
    }
   ],
   "source": [
    "ties_df_kat.loc['All',\n",
    "            'Pre-Disaster'] = uties_pre_kat.loc[disaster_kat_counties, \n",
    "                                                all_nc_counties].sum(axis=1).sum(axis=0)\n",
    "ties_df_kat.loc['All',\n",
    "            'Recovery'] = uties_re_kat.loc[disaster_kat_counties, \n",
    "                                           all_nc_counties].sum(axis=1).sum(axis=0)\n",
    "\n",
    "ties_df_kat.loc['Disaster Affected',\n",
    "            'Pre-Disaster'] = uties_pre_kat.loc[disaster_kat_counties,\n",
    "                                                disaster_kat_counties].sum(axis=1).sum(axis=0)\n",
    "ties_df_kat.loc['Disaster Affected',\n",
    "            'Recovery'] = uties_re_kat.loc[disaster_kat_counties,\n",
    "                                           disaster_kat_counties].sum(axis=1).sum(axis=0)\n",
    "\n",
    "ties_df_kat.loc['Nearby',\n",
    "            'Pre-Disaster'] = uties_pre_kat.loc[disaster_kat_counties,\n",
    "                                                nearby_kat_counties].sum(axis=1).sum(axis=0)\n",
    "ties_df_kat.loc['Nearby',\n",
    "            'Recovery'] = uties_re_kat.loc[disaster_kat_counties,\n",
    "                                           nearby_kat_counties].sum(axis=1).sum(axis=0)\n",
    "\n",
    "ties_df_kat.loc['Distant',\n",
    "            'Pre-Disaster'] = uties_pre_kat.loc[disaster_kat_counties,\n",
    "                                                distant_kat_counties].sum(axis=1).sum(axis=0)\n",
    "ties_df_kat.loc['Distant',\n",
    "            'Recovery'] = uties_re_kat.loc[disaster_kat_counties,\n",
    "                                           distant_kat_counties].sum(axis=1).sum(axis=0)\n",
    "\n",
    "ties_df_kat.loc['All (Urban)',\n",
    "            'Pre-Disaster'] = uties_pre_kat.loc[disaster_kat_counties,\n",
    "                                                urban_nc_counties].sum(axis=1).sum(axis=0)\n",
    "ties_df_kat.loc['All (Urban)',\n",
    "            'Recovery'] = uties_re_kat.loc[disaster_kat_counties,\n",
    "                                           urban_nc_counties].sum(axis=1).sum(axis=0)\n",
    "\n",
    "ties_df_kat.loc['Disaster Affected (Urban)',\n",
    "            'Pre-Disaster'] = uties_pre_kat.loc[disaster_kat_counties,\n",
    "                                                disaster_kat_urban_counties].sum(axis=1).sum(axis=0)\n",
    "ties_df_kat.loc['Disaster Affected (Urban)',\n",
    "            'Recovery'] = uties_re_kat.loc[disaster_kat_counties,\n",
    "                                           disaster_kat_urban_counties].sum(axis=1).sum(axis=0)\n",
    "\n",
    "ties_df_kat.loc['Nearby (Urban)',\n",
    "            'Pre-Disaster'] = uties_pre_kat.loc[disaster_kat_counties,\n",
    "                                                nearby_kat_urban_counties].sum(axis=1).sum(axis=0)\n",
    "ties_df_kat.loc['Nearby (Urban)',\n",
    "            'Recovery'] = uties_re_kat.loc[disaster_kat_counties,\n",
    "                                           nearby_kat_urban_counties].sum(axis=1).sum(axis=0)\n",
    "\n",
    "ties_df_kat.loc['Distant (Urban)',\n",
    "            'Pre-Disaster'] = uties_pre_kat.loc[disaster_kat_counties,\n",
    "                                                distant_kat_urban_counties].sum(axis=1).sum(axis=0)\n",
    "ties_df_kat.loc['Distant (Urban)',\n",
    "            'Recovery'] = uties_re_kat.loc[disaster_kat_counties,\n",
    "                                           distant_kat_urban_counties].sum(axis=1).sum(axis=0)\n",
    "\n",
    "ties_df_kat.loc[:,'% Change'] = (ties_df_kat.loc[:,'Recovery'] - ties_df_kat.loc[:,'Pre-Disaster'])/ties_df_kat.loc[:,'Pre-Disaster']*100\n",
    "\n",
    "ties_df_kat.loc[:,'% Change'] = ties_df_kat.loc[:,'% Change'].round(decimals=1)\n",
    "ties_df_kat\n"
   ]
  },
  {
   "cell_type": "markdown",
   "metadata": {},
   "source": [
    "To export the table to a csv file, uncomment the following line"
   ]
  },
  {
   "cell_type": "code",
   "execution_count": 23,
   "metadata": {},
   "outputs": [],
   "source": [
    "#ties_df_kat.to_csv(results_path + 'inties_table_kat.csv')"
   ]
  },
  {
   "cell_type": "markdown",
   "metadata": {},
   "source": [
    "## Flows Analysis\n",
    "We create to dataframes with the same structure as the ones with the ties but containing average flows for the two periods respectively"
   ]
  },
  {
   "cell_type": "code",
   "execution_count": 24,
   "metadata": {},
   "outputs": [],
   "source": [
    "pre_avg_kat = (pre_1 + pre_2 + pre_3 + pre_4 + pre_5 + pre_6)/6\n",
    "re_avg_kat = (re_1 + re_2 + re_3)/3\n",
    "\n",
    "pre_avg_kat = pre_avg_kat.round(decimals=0)\n",
    "re_avg_kat = re_avg_kat.round(decimals=0)\n",
    "\n",
    "pre_flows_kat = pre_avg_kat\n",
    "re_flows_kat = re_avg_kat"
   ]
  },
  {
   "cell_type": "markdown",
   "metadata": {},
   "source": [
    "We remove flows in the main diagonal as these represent household that remained in the same counties and are thus not interesting in our migration analysis "
   ]
  },
  {
   "cell_type": "code",
   "execution_count": 25,
   "metadata": {},
   "outputs": [],
   "source": [
    "for i in pre_flows_kat.index:\n",
    "    pre_flows_kat.loc[i, i] = 0\n",
    "for i in re_flows_kat.index:\n",
    "    re_flows_kat.loc[i, i] = 0"
   ]
  },
  {
   "cell_type": "markdown",
   "metadata": {},
   "source": [
    "We initialise the flows table as before"
   ]
  },
  {
   "cell_type": "code",
   "execution_count": 26,
   "metadata": {},
   "outputs": [],
   "source": [
    "flows_df_kat = pd.DataFrame(0, index=counties_groups_kat, columns=periods)"
   ]
  },
  {
   "cell_type": "markdown",
   "metadata": {},
   "source": [
    "and now we fill it"
   ]
  },
  {
   "cell_type": "code",
   "execution_count": 37,
   "metadata": {},
   "outputs": [
    {
     "data": {
      "text/html": [
       "<div>\n",
       "<style scoped>\n",
       "    .dataframe tbody tr th:only-of-type {\n",
       "        vertical-align: middle;\n",
       "    }\n",
       "\n",
       "    .dataframe tbody tr th {\n",
       "        vertical-align: top;\n",
       "    }\n",
       "\n",
       "    .dataframe thead th {\n",
       "        text-align: right;\n",
       "    }\n",
       "</style>\n",
       "<table border=\"1\" class=\"dataframe\">\n",
       "  <thead>\n",
       "    <tr style=\"text-align: right;\">\n",
       "      <th></th>\n",
       "      <th>Pre-Disaster</th>\n",
       "      <th>Recovery</th>\n",
       "      <th>% Change</th>\n",
       "    </tr>\n",
       "  </thead>\n",
       "  <tbody>\n",
       "    <tr>\n",
       "      <th>All</th>\n",
       "      <td>121259.0</td>\n",
       "      <td>144847.0</td>\n",
       "      <td>19.5</td>\n",
       "    </tr>\n",
       "    <tr>\n",
       "      <th>Disaster Affected</th>\n",
       "      <td>49969.0</td>\n",
       "      <td>54030.0</td>\n",
       "      <td>8.1</td>\n",
       "    </tr>\n",
       "    <tr>\n",
       "      <th>Nearby</th>\n",
       "      <td>23595.0</td>\n",
       "      <td>30868.0</td>\n",
       "      <td>30.8</td>\n",
       "    </tr>\n",
       "    <tr>\n",
       "      <th>Distant</th>\n",
       "      <td>47695.0</td>\n",
       "      <td>59949.0</td>\n",
       "      <td>25.7</td>\n",
       "    </tr>\n",
       "    <tr>\n",
       "      <th>All (Urban)</th>\n",
       "      <td>114080.0</td>\n",
       "      <td>136567.0</td>\n",
       "      <td>19.7</td>\n",
       "    </tr>\n",
       "    <tr>\n",
       "      <th>Disaster Affected (Urban)</th>\n",
       "      <td>49624.0</td>\n",
       "      <td>53606.0</td>\n",
       "      <td>8.0</td>\n",
       "    </tr>\n",
       "    <tr>\n",
       "      <th>Nearby (Urban)</th>\n",
       "      <td>19421.0</td>\n",
       "      <td>26004.0</td>\n",
       "      <td>33.9</td>\n",
       "    </tr>\n",
       "    <tr>\n",
       "      <th>Distant (Urban)</th>\n",
       "      <td>45035.0</td>\n",
       "      <td>56957.0</td>\n",
       "      <td>26.5</td>\n",
       "    </tr>\n",
       "  </tbody>\n",
       "</table>\n",
       "</div>"
      ],
      "text/plain": [
       "                           Pre-Disaster  Recovery  % Change\n",
       "All                            121259.0  144847.0      19.5\n",
       "Disaster Affected               49969.0   54030.0       8.1\n",
       "Nearby                          23595.0   30868.0      30.8\n",
       "Distant                         47695.0   59949.0      25.7\n",
       "All (Urban)                    114080.0  136567.0      19.7\n",
       "Disaster Affected (Urban)       49624.0   53606.0       8.0\n",
       "Nearby (Urban)                  19421.0   26004.0      33.9\n",
       "Distant (Urban)                 45035.0   56957.0      26.5"
      ]
     },
     "execution_count": 37,
     "metadata": {},
     "output_type": "execute_result"
    }
   ],
   "source": [
    "flows_df_kat.loc['All',\n",
    "            'Pre-Disaster'] = pre_avg_kat.loc[disaster_kat_counties,\n",
    "                                              all_nc_counties].sum(axis=1).sum(axis=0)\n",
    "flows_df_kat.loc['All',\n",
    "            'Recovery'] = re_avg_kat.loc[disaster_kat_counties,\n",
    "                                         all_nc_counties].sum(axis=1).sum(axis=0)\n",
    "\n",
    "flows_df_kat.loc['Disaster Affected',\n",
    "            'Pre-Disaster'] = pre_avg_kat.loc[disaster_kat_counties, \n",
    "                                              disaster_kat_counties].sum(axis=1).sum(axis=0)\n",
    "\n",
    "flows_df_kat.loc['Disaster Affected',\n",
    "            'Recovery'] = re_avg_kat.loc[disaster_kat_counties, \n",
    "                                         disaster_kat_counties].sum(axis=1).sum(axis=0)\n",
    "\n",
    "flows_df_kat.loc['Nearby',\n",
    "            'Pre-Disaster'] = pre_avg_kat.loc[disaster_kat_counties, \n",
    "                                              nearby_kat_counties].sum(axis=1).sum(axis=0)\n",
    "flows_df_kat.loc['Nearby',\n",
    "            'Recovery'] = re_avg_kat.loc[disaster_kat_counties, \n",
    "                                         nearby_kat_counties].sum(axis=1).sum(axis=0)\n",
    "\n",
    "flows_df_kat.loc['Distant',\n",
    "            'Pre-Disaster'] = pre_avg_kat.loc[disaster_kat_counties, \n",
    "                                              distant_kat_counties].sum(axis=1).sum(axis=0)\n",
    "flows_df_kat.loc['Distant',\n",
    "            'Recovery'] = re_avg_kat.loc[disaster_kat_counties, \n",
    "                                         distant_kat_counties].sum(axis=1).sum(axis=0)\n",
    "\n",
    "flows_df_kat.loc['All (Urban)',\n",
    "            'Pre-Disaster'] = pre_avg_kat.loc[disaster_kat_counties, \n",
    "                                              urban_nc_counties].sum(axis=1).sum(axis=0)\n",
    "flows_df_kat.loc['All (Urban)',\n",
    "            'Recovery'] = re_avg_kat.loc[disaster_kat_counties, \n",
    "                                         urban_nc_counties].sum(axis=1).sum(axis=0)\n",
    "\n",
    "flows_df_kat.loc['Disaster Affected (Urban)',\n",
    "            'Pre-Disaster'] = pre_avg_kat.loc[disaster_kat_counties, \n",
    "                                              disaster_kat_urban_counties].sum(axis=1).sum(axis=0)\n",
    "flows_df_kat.loc['Disaster Affected (Urban)',\n",
    "            'Recovery'] = re_avg_kat.loc[disaster_kat_counties, \n",
    "                                         disaster_kat_urban_counties].sum(axis=1).sum(axis=0)\n",
    "\n",
    "flows_df_kat.loc['Nearby (Urban)',\n",
    "            'Pre-Disaster'] = pre_avg_kat.loc[disaster_kat_counties, \n",
    "                                              nearby_kat_urban_counties].sum(axis=1).sum(axis=0)\n",
    "flows_df_kat.loc['Nearby (Urban)',\n",
    "            'Recovery'] = re_avg_kat.loc[disaster_kat_counties, \n",
    "                                         nearby_kat_urban_counties].sum(axis=1).sum(axis=0)\n",
    "\n",
    "flows_df_kat.loc['Distant (Urban)',\n",
    "            'Pre-Disaster'] = pre_avg_kat.loc[disaster_kat_counties, \n",
    "                                              distant_kat_urban_counties].sum(axis=1).sum(axis=0)\n",
    "flows_df_kat.loc['Distant (Urban)',\n",
    "            'Recovery'] = re_avg_kat.loc[disaster_kat_counties, \n",
    "                                         distant_kat_urban_counties].sum(axis=1).sum(axis=0)\n",
    "\n",
    "flows_df_kat.loc[:,'% Change'] = (flows_df_kat.loc[:,'Recovery'] - flows_df_kat.loc[:,'Pre-Disaster'])/flows_df_kat.loc[:,'Pre-Disaster']*100\n",
    "\n",
    "flows_df_kat.loc[:,'% Change'] = flows_df_kat.loc[:,'% Change'].round(decimals=1)\n",
    "\n",
    "flows_df_kat"
   ]
  },
  {
   "cell_type": "markdown",
   "metadata": {},
   "source": [
    "To export the table to a csv file, uncomment the following line"
   ]
  },
  {
   "cell_type": "code",
   "execution_count": 38,
   "metadata": {},
   "outputs": [],
   "source": [
    "#flows_df_kat.to_csv(results_path + 'inflows_table_katrina.csv')"
   ]
  }
 ],
 "metadata": {
  "kernelspec": {
   "display_name": "Python 3",
   "language": "python",
   "name": "python3"
  },
  "language_info": {
   "codemirror_mode": {
    "name": "ipython",
    "version": 3
   },
   "file_extension": ".py",
   "mimetype": "text/x-python",
   "name": "python",
   "nbconvert_exporter": "python",
   "pygments_lexer": "ipython3",
   "version": "3.6.7"
  }
 },
 "nbformat": 4,
 "nbformat_minor": 2
}
