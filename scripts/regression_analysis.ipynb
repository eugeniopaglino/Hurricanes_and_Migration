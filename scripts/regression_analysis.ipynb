{
 "cells": [
  {
   "cell_type": "markdown",
   "metadata": {},
   "source": [
    "# Regression Analysis\n",
    "## Preliminary Set-Up\n",
    "This do-file analyses the impact of Hurricanes Katrina and Sandy on the migration systems of the affected area by using first a modified gravity model, that compares variation in inflows to \n",
    "disaster affected and nearby counties after the Hurricanes, and then a difference-in-differences model with fixed-effects for sending-receiving county pairs, to understand whether there is evidence of recovery migration when comparing the nearby and the disaster-affected counties."
   ]
  },
  {
   "cell_type": "code",
   "execution_count": null,
   "metadata": {},
   "outputs": [],
   "source": [
    "set more off, permanently\n",
    "set matsize 11000"
   ]
  },
  {
   "cell_type": "markdown",
   "metadata": {},
   "source": [
    "Here you should add the directory where the ```gravity_data.csv``` file produced by the ```regression_analysis``` notebook is located."
   ]
  },
  {
   "cell_type": "code",
   "execution_count": null,
   "metadata": {},
   "outputs": [],
   "source": [
    "cd \"your/directory\""
   ]
  },
  {
   "cell_type": "markdown",
   "metadata": {},
   "source": [
    "We import the dataset"
   ]
  },
  {
   "cell_type": "code",
   "execution_count": null,
   "metadata": {},
   "outputs": [],
   "source": [
    "clear all\n",
    "import delimited \"gravity_data.csv\""
   ]
  },
  {
   "cell_type": "markdown",
   "metadata": {},
   "source": [
    "We generate a numeric version of the year variable. The year string variable containes pairs of years like year1-year2, the numeric variable extracts only year1, which is the year to which most of the migration flows refer to."
   ]
  },
  {
   "cell_type": "code",
   "execution_count": null,
   "metadata": {},
   "outputs": [],
   "source": [
    "generate year_num = substr(year,1,4)\n",
    "destring year_num, replace"
   ]
  },
  {
   "cell_type": "markdown",
   "metadata": {},
   "source": [
    "We generate dummy variables for time (before and after the Hurricane) and treatment (being in disaster affected counties for the Hurricane) for each Hurricane."
   ]
  },
  {
   "cell_type": "code",
   "execution_count": null,
   "metadata": {},
   "outputs": [],
   "source": [
    "generate time_sandy = 0\n",
    "replace time_sandy = 1 if inlist(year, \"2012-2013\", \"2013-2014\")\n",
    "\n",
    "generate time_kat = 0\n",
    "replace time_kat = 1 if inlist(year, \"2005-2006\", \"2006-2007\", \"2007-2008\")\n",
    "\n",
    "generate treatment_sandy = 0\n",
    "replace treatment_sandy = 1 if sandy_group_dest == \"disaster\"\n",
    "\n",
    "generate treatment_kat = 0\n",
    "replace treatment_kat = 1 if kat_group_dest == \"disaster\""
   ]
  },
  {
   "cell_type": "markdown",
   "metadata": {},
   "source": [
    "We also generate the time*treatment interaction to denote the flows which refer to disaster-affected counties after the Hurricane. This is our treatment group."
   ]
  },
  {
   "cell_type": "code",
   "execution_count": null,
   "metadata": {},
   "outputs": [],
   "source": [
    "generate treated_kat = 0\n",
    "replace treated_kat = 1 if (treatment_kat == 1 & time_kat == 1)\n",
    "\n",
    "generate treated_sandy = 0\n",
    "replace treated_sandy = 1 if (treatment_sandy == 1 & time_sandy == 1)"
   ]
  },
  {
   "cell_type": "markdown",
   "metadata": {},
   "source": [
    "We generate a dummy for each sending-receiving county pair"
   ]
  },
  {
   "cell_type": "code",
   "execution_count": null,
   "metadata": {},
   "outputs": [],
   "source": [
    "egen sending_receiving = group(destination origin)"
   ]
  },
  {
   "cell_type": "markdown",
   "metadata": {},
   "source": [
    "We apply a log transformation to the following variables:\n",
    "\n",
    "1. ```return_num```: which is an estimate of the number of households that moved from one county to the other;\n",
    "2. ```exmpt_num```: which is an estimate of the number of individuals that moved from one county to the other;\n",
    "3. ```pop_destination_hh```: which is an estimate of the number of households at the destination;\n",
    "4. ```pop_origin_hh```: which is an estimate of the number of households at the origin;\n",
    "5. ```pop_destination_in```: which is an estimate of the number of individuals at the destination;\n",
    "6. ```pop_origin_in```: which is an estimate of the number of individuals at the origin;\n",
    "\t\t\t\t"
   ]
  },
  {
   "cell_type": "code",
   "execution_count": null,
   "metadata": {},
   "outputs": [],
   "source": [
    "replace return_num = log(return_num)\n",
    "replace exmpt_num = log(exmpt_num)\n",
    "replace pop_destination_hh = log(pop_destination_hh)\n",
    "replace pop_origin_hh = log(pop_origin_hh)\n",
    "replace pop_destination_in = log(pop_destination_in)\n",
    "replace pop_origin_in = log(pop_origin_in)"
   ]
  },
  {
   "cell_type": "markdown",
   "metadata": {},
   "source": [
    "We sort the dataset and remove duplicates"
   ]
  },
  {
   "cell_type": "code",
   "execution_count": null,
   "metadata": {},
   "outputs": [],
   "source": [
    "sort sending_receiving year_num\n",
    "quietly by sending_receiving year_num:  gen dup = cond(_N==1,0,_n)\n",
    "drop if dup>1"
   ]
  },
  {
   "cell_type": "markdown",
   "metadata": {},
   "source": [
    "We set ```sending_receiving``` as the panel variable and ```year_num``` as the time variable"
   ]
  },
  {
   "cell_type": "code",
   "execution_count": null,
   "metadata": {},
   "outputs": [],
   "source": [
    "xtset sending_receiving year_num"
   ]
  },
  {
   "cell_type": "markdown",
   "metadata": {},
   "source": [
    "We can now proceed with the analysis. First I will perform the analsysis for Katrina, then the one for Sandy. The regression results are written to a ```.csv``` file."
   ]
  },
  {
   "cell_type": "markdown",
   "metadata": {},
   "source": [
    "## Katrina Replication Analysis\n",
    "### Gravity Model\n",
    "#### Disaster-All"
   ]
  },
  {
   "cell_type": "code",
   "execution_count": null,
   "metadata": {},
   "outputs": [],
   "source": [
    "eststo: xtreg exmpt_num pop_origin_in pop_destination_in i.time_kat ///\n",
    "\t\t\tif ((inlist(year, \"1999-2000\", \"2000-2001\", \"2001-2002\", ///\n",
    "\t\t\t\t\t\t\t  \"2002-2003\", \"2003-2004\", \"2004-2005\", ///\n",
    "\t\t\t\t\t\t\t  \"2007-2008\", \"2008-2009\", \"2009-2010\")) & ///\n",
    "\t\t\t(kat_group_dest == \"disaster\")), ///\n",
    "\t\t\tvce(robust) fe"
   ]
  },
  {
   "cell_type": "markdown",
   "metadata": {},
   "source": [
    "#### Disaster-Disaster"
   ]
  },
  {
   "cell_type": "code",
   "execution_count": null,
   "metadata": {},
   "outputs": [],
   "source": [
    "eststo: xtreg exmpt_num pop_origin_in pop_destination_in i.time_kat ///\n",
    "\t\t\tif ((inlist(year, \"1999-2000\", \"2000-2001\", \"2001-2002\", ///\n",
    "\t\t\t\t\t\t\t  \"2002-2003\", \"2003-2004\", \"2004-2005\", ///\n",
    "\t\t\t\t\t\t\t  \"2007-2008\", \"2008-2009\", \"2009-2010\")) & ///\n",
    "\t\t\t(inlist(kat_group_dest, \"disaster\")) & ///\n",
    "\t\t\t(kat_group_origin == \"disaster\")), ///\n",
    "\t\t\tvce(robust) fe"
   ]
  },
  {
   "cell_type": "markdown",
   "metadata": {},
   "source": [
    "#### Disaster-Nearby"
   ]
  },
  {
   "cell_type": "code",
   "execution_count": null,
   "metadata": {},
   "outputs": [],
   "source": [
    "eststo: xtreg exmpt_num pop_origin_in pop_destination_in i.time_kat ///\n",
    "\t\t\tif ((inlist(year, \"1999-2000\", \"2000-2001\", \"2001-2002\", ///\n",
    "\t\t\t\t\t\t\t  \"2002-2003\", \"2003-2004\", \"2004-2005\", ///\n",
    "\t\t\t\t\t\t\t  \"2007-2008\", \"2008-2009\", \"2009-2010\")) & ///\n",
    "\t\t\t(inlist(kat_group_dest, \"disaster\")) & ///\n",
    "\t\t\t(kat_group_origin == \"nearby\")), ///\n",
    "\t\t\tvce(robust) fe"
   ]
  },
  {
   "cell_type": "markdown",
   "metadata": {},
   "source": [
    "#### Disaster-Distant"
   ]
  },
  {
   "cell_type": "code",
   "execution_count": null,
   "metadata": {},
   "outputs": [],
   "source": [
    "eststo: xtreg exmpt_num pop_origin_in pop_destination_in i.time_kat ///\n",
    "\t\t\tif ((inlist(year, \"1999-2000\", \"2000-2001\", \"2001-2002\", ///\n",
    "\t\t\t\t\t\t\t  \"2002-2003\", \"2003-2004\", \"2004-2005\", ///\n",
    "\t\t\t\t\t\t\t  \"2007-2008\", \"2008-2009\", \"2009-2010\")) & ///\n",
    "\t\t\t(inlist(kat_group_dest, \"disaster\")) & ///\n",
    "\t\t\t(kat_group_origin == \"distant\")), ///\n",
    "\t\t\tvce(robust) fe"
   ]
  },
  {
   "cell_type": "markdown",
   "metadata": {},
   "source": [
    "#### Disaster-All (Urban)"
   ]
  },
  {
   "cell_type": "code",
   "execution_count": null,
   "metadata": {},
   "outputs": [],
   "source": [
    "eststo: xtreg exmpt_num pop_origin_in pop_destination_in i.time_kat ///\n",
    "\t\t\tif ((inlist(year, \"1999-2000\", \"2000-2001\", \"2001-2002\", ///\n",
    "\t\t\t\t\t\t\t  \"2002-2003\", \"2003-2004\", \"2004-2005\", ///\n",
    "\t\t\t\t\t\t\t  \"2007-2008\", \"2008-2009\", \"2009-2010\")) & ///\n",
    "\t\t\t(inlist(kat_group_dest, \"disaster\")) & ///\n",
    "\t\t\t(urban_origin == \"urban\")), ///\n",
    "\t\t\tvce(robust) fe"
   ]
  },
  {
   "cell_type": "markdown",
   "metadata": {},
   "source": [
    "#### Disaster-Disaster (Urban)"
   ]
  },
  {
   "cell_type": "code",
   "execution_count": null,
   "metadata": {},
   "outputs": [],
   "source": [
    "eststo: xtreg exmpt_num pop_origin_in pop_destination_in i.time_kat ///\n",
    "\t\t\tif ((inlist(year, \"1999-2000\", \"2000-2001\", \"2001-2002\", ///\n",
    "\t\t\t\t\t\t\t  \"2002-2003\", \"2003-2004\", \"2004-2005\", ///\n",
    "\t\t\t\t\t\t\t  \"2007-2008\", \"2008-2009\", \"2009-2010\")) & ///\n",
    "\t\t\t(inlist(kat_group_dest, \"disaster\")) & ///\n",
    "\t\t\t(urban_origin == \"urban\") & ///\n",
    "\t\t\t(kat_group_origin == \"disaster\")), ///\n",
    "\t\t\tvce(robust) fe"
   ]
  },
  {
   "cell_type": "markdown",
   "metadata": {},
   "source": [
    "#### Disaster-Nearby (Urban)"
   ]
  },
  {
   "cell_type": "code",
   "execution_count": null,
   "metadata": {},
   "outputs": [],
   "source": [
    "eststo: xtreg exmpt_num pop_origin_in pop_destination_in i.time_kat ///\n",
    "\t\t\tif ((inlist(year, \"1999-2000\", \"2000-2001\", \"2001-2002\", ///\n",
    "\t\t\t\t\t\t\t  \"2002-2003\", \"2003-2004\", \"2004-2005\", ///\n",
    "\t\t\t\t\t\t\t  \"2007-2008\", \"2008-2009\", \"2009-2010\")) & ///\n",
    "\t\t\t(inlist(kat_group_dest, \"disaster\")) & ///\n",
    "\t\t\t(urban_origin == \"urban\") & ///\n",
    "\t\t\t(kat_group_origin == \"nearby\")), ///\n",
    "\t\t\tvce(robust) fe"
   ]
  },
  {
   "cell_type": "markdown",
   "metadata": {},
   "source": [
    "#### Disaster-Distant (Urban)"
   ]
  },
  {
   "cell_type": "code",
   "execution_count": null,
   "metadata": {},
   "outputs": [],
   "source": [
    "eststo: xtreg exmpt_num pop_origin_in pop_destination_in i.time_kat ///\n",
    "\t\t\tif ((inlist(year, \"1999-2000\", \"2000-2001\", \"2001-2002\", ///\n",
    "\t\t\t\t\t\t\t  \"2002-2003\", \"2003-2004\", \"2004-2005\", ///\n",
    "\t\t\t\t\t\t\t  \"2007-2008\", \"2008-2009\", \"2009-2010\")) & ///\n",
    "\t\t\t(inlist(kat_group_dest, \"disaster\")) & ///\n",
    "\t\t\t(urban_origin == \"urban\") & ///\n",
    "\t\t\t(kat_group_origin == \"distant\")), ///\n",
    "\t\t\tvce(robust) fe"
   ]
  },
  {
   "cell_type": "markdown",
   "metadata": {},
   "source": [
    "#### Storing the estimates"
   ]
  },
  {
   "cell_type": "code",
   "execution_count": null,
   "metadata": {},
   "outputs": [],
   "source": [
    "esttab using \"gravity_disaster_kat.csv\", ///\n",
    "\t\treplace ar2 csv noomitted nolines label se\n",
    "\t\n",
    "eststo clear"
   ]
  },
  {
   "cell_type": "markdown",
   "metadata": {},
   "source": [
    "#### Nearby-All"
   ]
  },
  {
   "cell_type": "code",
   "execution_count": null,
   "metadata": {},
   "outputs": [],
   "source": [
    "eststo: xtreg exmpt_num pop_origin_in pop_destination_in i.time_kat ///\n",
    "\t\t\tif ((inlist(year, \"1999-2000\", \"2000-2001\", \"2001-2002\", ///\n",
    "\t\t\t\t\t\t\t  \"2002-2003\", \"2003-2004\", \"2004-2005\", ///\n",
    "\t\t\t\t\t\t\t  \"2007-2008\", \"2008-2009\", \"2009-2010\")) & ///\n",
    "\t\t\t(kat_group_dest == \"nearby\")), ///\n",
    "\t\t\tvce(robust) fe"
   ]
  },
  {
   "cell_type": "markdown",
   "metadata": {},
   "source": [
    "#### Nearby-Disaster"
   ]
  },
  {
   "cell_type": "code",
   "execution_count": null,
   "metadata": {},
   "outputs": [],
   "source": [
    "eststo: xtreg exmpt_num pop_origin_in pop_destination_in i.time_kat ///\n",
    "\t\t\tif ((inlist(year, \"1999-2000\", \"2000-2001\", \"2001-2002\", ///\n",
    "\t\t\t\t\t\t\t  \"2002-2003\", \"2003-2004\", \"2004-2005\", ///\n",
    "\t\t\t\t\t\t\t  \"2007-2008\", \"2008-2009\", \"2009-2010\")) & ///\n",
    "\t\t\t(inlist(kat_group_dest, \"nearby\")) & ///\n",
    "\t\t\t(kat_group_origin == \"disaster\")), ///\n",
    "\t\t\tvce(robust) fe"
   ]
  },
  {
   "cell_type": "markdown",
   "metadata": {},
   "source": [
    "#### Nearby-Nearby"
   ]
  },
  {
   "cell_type": "code",
   "execution_count": null,
   "metadata": {},
   "outputs": [],
   "source": [
    "eststo: xtreg exmpt_num pop_origin_in pop_destination_in i.time_kat ///\n",
    "\t\t\tif ((inlist(year, \"1999-2000\", \"2000-2001\", \"2001-2002\", ///\n",
    "\t\t\t\t\t\t\t  \"2002-2003\", \"2003-2004\", \"2004-2005\", ///\n",
    "\t\t\t\t\t\t\t  \"2007-2008\", \"2008-2009\", \"2009-2010\")) & ///\n",
    "\t\t\t(inlist(kat_group_dest, \"nearby\")) & ///\n",
    "\t\t\t(kat_group_origin == \"nearby\")), ///\n",
    "\t\t\tvce(robust) fe"
   ]
  },
  {
   "cell_type": "markdown",
   "metadata": {},
   "source": [
    "#### Nearby-Distant"
   ]
  },
  {
   "cell_type": "code",
   "execution_count": null,
   "metadata": {},
   "outputs": [],
   "source": [
    "eststo: xtreg exmpt_num pop_origin_in pop_destination_in i.time_kat ///\n",
    "\t\t\tif ((inlist(year, \"1999-2000\", \"2000-2001\", \"2001-2002\", ///\n",
    "\t\t\t\t\t\t\t  \"2002-2003\", \"2003-2004\", \"2004-2005\", ///\n",
    "\t\t\t\t\t\t\t  \"2007-2008\", \"2008-2009\", \"2009-2010\")) & ///\n",
    "\t\t\t(inlist(kat_group_dest, \"nearby\")) & ///\n",
    "\t\t\t(kat_group_origin == \"distant\")), ///\n",
    "\t\t\tvce(robust) fe"
   ]
  },
  {
   "cell_type": "markdown",
   "metadata": {},
   "source": [
    "#### Nearby-All (Urban)"
   ]
  },
  {
   "cell_type": "code",
   "execution_count": null,
   "metadata": {},
   "outputs": [],
   "source": [
    "eststo: xtreg exmpt_num pop_origin_in pop_destination_in i.time_kat ///\n",
    "\t\t\tif ((inlist(year, \"1999-2000\", \"2000-2001\", \"2001-2002\", ///\n",
    "\t\t\t\t\t\t\t  \"2002-2003\", \"2003-2004\", \"2004-2005\", ///\n",
    "\t\t\t\t\t\t\t  \"2007-2008\", \"2008-2009\", \"2009-2010\")) & ///\n",
    "\t\t\t(inlist(kat_group_dest, \"nearby\")) & ///\n",
    "\t\t\t(urban_origin == \"urban\")), ///\n",
    "\t\t\tvce(robust) fe"
   ]
  },
  {
   "cell_type": "markdown",
   "metadata": {},
   "source": [
    "#### Nearby-Disaster (Urban)"
   ]
  },
  {
   "cell_type": "code",
   "execution_count": null,
   "metadata": {},
   "outputs": [],
   "source": [
    "eststo: xtreg exmpt_num pop_origin_in pop_destination_in i.time_kat ///\n",
    "\t\t\tif ((inlist(year, \"1999-2000\", \"2000-2001\", \"2001-2002\", ///\n",
    "\t\t\t\t\t\t\t  \"2002-2003\", \"2003-2004\", \"2004-2005\", ///\n",
    "\t\t\t\t\t\t\t  \"2007-2008\", \"2008-2009\", \"2009-2010\")) & ///\n",
    "\t\t\t(inlist(kat_group_dest, \"nearby\")) & ///\n",
    "\t\t\t(urban_origin == \"urban\") & ///\n",
    "\t\t\t(kat_group_origin == \"disaster\")), ///\n",
    "\t\t\tvce(robust) fe"
   ]
  },
  {
   "cell_type": "markdown",
   "metadata": {},
   "source": [
    "#### Nearby-Nearby (Urban)"
   ]
  },
  {
   "cell_type": "code",
   "execution_count": null,
   "metadata": {},
   "outputs": [],
   "source": [
    "eststo: xtreg exmpt_num pop_origin_in pop_destination_in i.time_kat ///\n",
    "\t\t\tif ((inlist(year, \"1999-2000\", \"2000-2001\", \"2001-2002\", ///\n",
    "\t\t\t\t\t\t\t  \"2002-2003\", \"2003-2004\", \"2004-2005\", ///\n",
    "\t\t\t\t\t\t\t  \"2007-2008\", \"2008-2009\", \"2009-2010\")) & ///\n",
    "\t\t\t(inlist(kat_group_dest, \"nearby\")) & ///\n",
    "\t\t\t(urban_origin == \"urban\") & ///\n",
    "\t\t\t(kat_group_origin == \"nearby\")), ///\n",
    "\t\t\tvce(robust) fe"
   ]
  },
  {
   "cell_type": "markdown",
   "metadata": {},
   "source": [
    "#### Nearby-Distant (Urban)"
   ]
  },
  {
   "cell_type": "code",
   "execution_count": null,
   "metadata": {},
   "outputs": [],
   "source": [
    "eststo: xtreg exmpt_num pop_origin_in pop_destination_in i.time_kat ///\n",
    "\t\t\tif ((inlist(year, \"1999-2000\", \"2000-2001\", \"2001-2002\", ///\n",
    "\t\t\t\t\t\t\t  \"2002-2003\", \"2003-2004\", \"2004-2005\", ///\n",
    "\t\t\t\t\t\t\t  \"2007-2008\", \"2008-2009\", \"2009-2010\")) & ///\n",
    "\t\t\t(inlist(kat_group_dest, \"nearby\")) & ///\n",
    "\t\t\t(urban_origin == \"urban\") & ///\n",
    "\t\t\t(kat_group_origin == \"distant\")), ///\n",
    "\t\t\tvce(robust) fe"
   ]
  },
  {
   "cell_type": "markdown",
   "metadata": {},
   "source": [
    "#### Storing the estimates"
   ]
  },
  {
   "cell_type": "code",
   "execution_count": null,
   "metadata": {},
   "outputs": [],
   "source": [
    "esttab using \"gravity_nearby_kat.csv\", ///\n",
    "\t\treplace ar2 csv noomitted nolines label se\n",
    "\t\n",
    "eststo clear"
   ]
  },
  {
   "cell_type": "markdown",
   "metadata": {},
   "source": [
    "### Difference-in-Differences Model\n",
    "#### All"
   ]
  },
  {
   "cell_type": "code",
   "execution_count": null,
   "metadata": {},
   "outputs": [],
   "source": [
    "eststo: xtreg exmpt_num pop_origin_in pop_destination_in i.time_kat i.treated_kat ///\n",
    "\t\t   if (inlist(year, \"1999-2000\", \"2000-2001\", \"2001-2002\", ///\n",
    "\t\t\t\t\t\t\t\"2002-2003\", \"2003-2004\", \"2004-2005\", ///\n",
    "\t\t\t\t\t\t\t\"2005-2006\", \"2006-2007\", \"2007-2008\") & ///\n",
    "\t\t   inlist(kat_group_dest, \"disaster\", \"nearby\")), ///\n",
    "\t\t   vce(robust) fe"
   ]
  },
  {
   "cell_type": "markdown",
   "metadata": {},
   "source": [
    "#### Disaster"
   ]
  },
  {
   "cell_type": "code",
   "execution_count": null,
   "metadata": {},
   "outputs": [],
   "source": [
    "eststo: xtreg exmpt_num pop_origin_in pop_destination_in i.time_kat i.treated_kat ///\n",
    "\t\t   if (inlist(year, \"1999-2000\", \"2000-2001\", \"2001-2002\", ///\n",
    "\t\t\t\t\t\t\t\"2002-2003\", \"2003-2004\", \"2004-2005\", ///\n",
    "\t\t\t\t\t\t\t\"2005-2006\", \"2006-2007\", \"2007-2008\") & ///\n",
    "\t\t   inlist(kat_group_dest, \"disaster\", \"nearby\") & ///\n",
    "\t\t   (kat_group_origin == \"disaster\")), ///\n",
    "\t\t   vce(robust) fe"
   ]
  },
  {
   "cell_type": "markdown",
   "metadata": {},
   "source": [
    "#### Nearby"
   ]
  },
  {
   "cell_type": "code",
   "execution_count": null,
   "metadata": {},
   "outputs": [],
   "source": [
    "eststo: xtreg exmpt_num pop_origin_in pop_destination_in i.time_kat i.treated_kat ///\n",
    "\t\t   if (inlist(year, \"1999-2000\", \"2000-2001\", \"2001-2002\", ///\n",
    "\t\t\t\t\t\t\t\"2002-2003\", \"2003-2004\", \"2004-2005\", ///\n",
    "\t\t\t\t\t\t\t\"2005-2006\", \"2006-2007\", \"2007-2008\") & ///\n",
    "\t\t   inlist(kat_group_dest, \"disaster\", \"nearby\") & ///\n",
    "\t\t   (urban_origin == \"urban\") & ///\n",
    "\t\t   (kat_group_origin == \"nearby\")), ///\n",
    "\t\t   vce(robust) fe"
   ]
  },
  {
   "cell_type": "markdown",
   "metadata": {},
   "source": [
    "#### Distant"
   ]
  },
  {
   "cell_type": "code",
   "execution_count": null,
   "metadata": {},
   "outputs": [],
   "source": [
    "eststo: xtreg exmpt_num pop_origin_in pop_destination_in i.time_kat i.treated_kat ///\n",
    "\t\t   if (inlist(year, \"1999-2000\", \"2000-2001\", \"2001-2002\", ///\n",
    "\t\t\t\t\t\t\t\"2002-2003\", \"2003-2004\", \"2004-2005\", ///\n",
    "\t\t\t\t\t\t\t\"2005-2006\", \"2006-2007\", \"2007-2008\") & ///\n",
    "\t\t   inlist(kat_group_dest, \"disaster\", \"nearby\") & ///\n",
    "\t\t   (urban_origin == \"urban\") & ///\n",
    "\t\t   (kat_group_origin == \"distant\")), ///\n",
    "\t\t   vce(robust) fe"
   ]
  },
  {
   "cell_type": "markdown",
   "metadata": {},
   "source": [
    "#### All (Urban)"
   ]
  },
  {
   "cell_type": "code",
   "execution_count": null,
   "metadata": {},
   "outputs": [],
   "source": [
    "eststo: xtreg exmpt_num pop_origin_in pop_destination_in i.time_kat i.treated_kat ///\n",
    "\t\t   if (inlist(year, \"1999-2000\", \"2000-2001\", \"2001-2002\", ///\n",
    "\t\t\t\t\t\t\t\"2002-2003\", \"2003-2004\", \"2004-2005\", ///\n",
    "\t\t\t\t\t\t\t\"2005-2006\", \"2006-2007\", \"2007-2008\") & ///\n",
    "\t\t   inlist(kat_group_dest, \"disaster\", \"nearby\") & ///\n",
    "\t\t   (urban_origin == \"urban\")), ///\n",
    "\t\t   vce(robust) fe"
   ]
  },
  {
   "cell_type": "markdown",
   "metadata": {},
   "source": [
    "#### Disaster (Urban)"
   ]
  },
  {
   "cell_type": "code",
   "execution_count": null,
   "metadata": {},
   "outputs": [],
   "source": [
    "eststo: xtreg exmpt_num pop_origin_in pop_destination_in i.time_kat i.treated_kat ///\n",
    "\t\t   if (inlist(year, \"1999-2000\", \"2000-2001\", \"2001-2002\", ///\n",
    "\t\t\t\t\t\t\t\"2002-2003\", \"2003-2004\", \"2004-2005\", ///\n",
    "\t\t\t\t\t\t\t\"2005-2006\", \"2006-2007\", \"2007-2008\") & ///\n",
    "\t\t   inlist(kat_group_dest, \"disaster\", \"nearby\") & ///\n",
    "\t\t   urban_origin == \"urban\" & ///\n",
    "\t\t   (kat_group_origin == \"disaster\")), ///\n",
    "\t\t   vce(robust) fe"
   ]
  },
  {
   "cell_type": "markdown",
   "metadata": {},
   "source": [
    "#### Nearby (Urban)"
   ]
  },
  {
   "cell_type": "code",
   "execution_count": null,
   "metadata": {},
   "outputs": [],
   "source": [
    "eststo: xtreg exmpt_num pop_origin_in pop_destination_in i.time_kat i.treated_kat ///\n",
    "\t\t\tif (inlist(year, \"1999-2000\", \"2000-2001\", \"2001-2002\", ///\n",
    "\t\t\t\t\t\t\t \"2002-2003\", \"2003-2004\", \"2004-2005\", ///\n",
    "\t\t\t\t\t\t\t \"2005-2006\", \"2006-2007\", \"2007-2008\") & ///\n",
    "\t\t   inlist(kat_group_dest, \"disaster\", \"nearby\") & ///\n",
    "\t\t   urban_origin == \"urban\" & ///\n",
    "\t\t   (kat_group_origin == \"nearby\")), ///\n",
    "\t\t   vce(robust) fe"
   ]
  },
  {
   "cell_type": "markdown",
   "metadata": {},
   "source": [
    "#### Distant (Urban)"
   ]
  },
  {
   "cell_type": "code",
   "execution_count": null,
   "metadata": {},
   "outputs": [],
   "source": [
    "eststo: xtreg exmpt_num pop_origin_in pop_destination_in i.time_kat i.treated_kat ///\n",
    "\t\t\tif (inlist(year, \"1999-2000\", \"2000-2001\", \"2001-2002\", ///\n",
    "\t\t\t\t\t\t\t \"2002-2003\", \"2003-2004\", \"2004-2005\", ///\n",
    "\t\t\t\t\t\t\t \"2005-2006\", \"2006-2007\", \"2007-2008\") & ///\n",
    "\t\t   inlist(kat_group_dest, \"disaster\", \"nearby\") & ///\n",
    "\t\t   urban_origin == \"urban\" & ///\n",
    "\t\t   (kat_group_origin == \"distant\")), ///\n",
    "\t\t   vce(robust) fe"
   ]
  },
  {
   "cell_type": "markdown",
   "metadata": {},
   "source": [
    "#### Storing the Estimates"
   ]
  },
  {
   "cell_type": "code",
   "execution_count": null,
   "metadata": {},
   "outputs": [],
   "source": [
    "esttab using \"diffindiff_results_kat.csv\", ///\n",
    "\treplace ar2 csv noomitted nolines label se\n",
    "\n",
    "eststo clear\t"
   ]
  },
  {
   "cell_type": "markdown",
   "metadata": {},
   "source": [
    "## Sandy Replication Analysis\n",
    "### Gravity Model\n",
    "#### Disaster-All"
   ]
  },
  {
   "cell_type": "code",
   "execution_count": null,
   "metadata": {},
   "outputs": [],
   "source": [
    "eststo: xtreg exmpt_num pop_origin_in pop_destination_in i.time_sandy ///\n",
    "\t\t\tif ((inlist(year, \"1999-2000\", \"2000-2001\", \"2001-2002\", ///\n",
    "\t\t\t\t\t\t\t  \"2002-2003\", \"2003-2004\", \"2004-2005\", ///\n",
    "\t\t\t\t\t\t\t  \"2007-2008\", \"2008-2009\", \"2009-2010\")) & ///\n",
    "\t\t\t(sandy_group_dest == \"disaster\")), ///\n",
    "\t\t\tvce(robust) fe"
   ]
  },
  {
   "cell_type": "markdown",
   "metadata": {},
   "source": [
    "#### Disaster-Disaster"
   ]
  },
  {
   "cell_type": "code",
   "execution_count": null,
   "metadata": {},
   "outputs": [],
   "source": [
    "eststo: xtreg exmpt_num pop_origin_in pop_destination_in i.time_sandy ///\n",
    "\t\t\tif ((inlist(year, \"1999-2000\", \"2000-2001\", \"2001-2002\", ///\n",
    "\t\t\t\t\t\t\t  \"2002-2003\", \"2003-2004\", \"2004-2005\", ///\n",
    "\t\t\t\t\t\t\t  \"2007-2008\", \"2008-2009\", \"2009-2010\")) & ///\n",
    "\t\t\t(inlist(sandy_group_dest, \"disaster\")) & ///\n",
    "\t\t\t(sandy_group_origin == \"disaster\")), ///\n",
    "\t\t\tvce(robust) fe"
   ]
  },
  {
   "cell_type": "markdown",
   "metadata": {},
   "source": [
    "#### Disaster-Nearby"
   ]
  },
  {
   "cell_type": "code",
   "execution_count": null,
   "metadata": {},
   "outputs": [],
   "source": [
    "eststo: xtreg exmpt_num pop_origin_in pop_destination_in i.time_sandy ///\n",
    "\t\t\tif ((inlist(year, \"1999-2000\", \"2000-2001\", \"2001-2002\", ///\n",
    "\t\t\t\t\t\t\t  \"2002-2003\", \"2003-2004\", \"2004-2005\", ///\n",
    "\t\t\t\t\t\t\t  \"2007-2008\", \"2008-2009\", \"2009-2010\")) & ///\n",
    "\t\t\t(inlist(sandy_group_dest, \"disaster\")) & ///\n",
    "\t\t\t(sandy_group_origin == \"nearby\")), ///\n",
    "\t\t\tvce(robust) fe"
   ]
  },
  {
   "cell_type": "markdown",
   "metadata": {},
   "source": [
    "#### Disaster-Distant"
   ]
  },
  {
   "cell_type": "code",
   "execution_count": null,
   "metadata": {},
   "outputs": [],
   "source": [
    "eststo: xtreg exmpt_num pop_origin_in pop_destination_in i.time_sandy ///\n",
    "\t\t\tif ((inlist(year, \"1999-2000\", \"2000-2001\", \"2001-2002\", ///\n",
    "\t\t\t\t\t\t\t  \"2002-2003\", \"2003-2004\", \"2004-2005\", ///\n",
    "\t\t\t\t\t\t\t  \"2007-2008\", \"2008-2009\", \"2009-2010\")) & ///\n",
    "\t\t\t(inlist(sandy_group_dest, \"disaster\")) & ///\n",
    "\t\t\t(sandy_group_origin == \"distant\")), ///\n",
    "\t\t\tvce(robust) fe"
   ]
  },
  {
   "cell_type": "markdown",
   "metadata": {},
   "source": [
    "#### Disaster-All (Urban)"
   ]
  },
  {
   "cell_type": "code",
   "execution_count": null,
   "metadata": {},
   "outputs": [],
   "source": [
    "eststo: xtreg exmpt_num pop_origin_in pop_destination_in i.time_sandy ///\n",
    "\t\t\tif ((inlist(year, \"1999-2000\", \"2000-2001\", \"2001-2002\", ///\n",
    "\t\t\t\t\t\t\t  \"2002-2003\", \"2003-2004\", \"2004-2005\", ///\n",
    "\t\t\t\t\t\t\t  \"2007-2008\", \"2008-2009\", \"2009-2010\")) & ///\n",
    "\t\t\t(inlist(sandy_group_dest, \"disaster\")) & ///\n",
    "\t\t\t(urban_origin == \"urban\")), ///\n",
    "\t\t\tvce(robust) fe"
   ]
  },
  {
   "cell_type": "markdown",
   "metadata": {},
   "source": [
    "#### Disaster-Disaster (Urban)"
   ]
  },
  {
   "cell_type": "code",
   "execution_count": null,
   "metadata": {},
   "outputs": [],
   "source": [
    "eststo: xtreg exmpt_num pop_origin_in pop_destination_in i.time_sandy ///\n",
    "\t\t\tif ((inlist(year, \"1999-2000\", \"2000-2001\", \"2001-2002\", ///\n",
    "\t\t\t\t\t\t\t  \"2002-2003\", \"2003-2004\", \"2004-2005\", ///\n",
    "\t\t\t\t\t\t\t  \"2007-2008\", \"2008-2009\", \"2009-2010\")) & ///\n",
    "\t\t\t(inlist(sandy_group_dest, \"disaster\")) & ///\n",
    "\t\t\t(urban_origin == \"urban\") & ///\n",
    "\t\t\t(sandy_group_origin == \"disaster\")), ///\n",
    "\t\t\tvce(robust) fe"
   ]
  },
  {
   "cell_type": "markdown",
   "metadata": {},
   "source": [
    "#### Disaster-Nearby (Urban)"
   ]
  },
  {
   "cell_type": "code",
   "execution_count": null,
   "metadata": {},
   "outputs": [],
   "source": [
    "eststo: xtreg exmpt_num pop_origin_in pop_destination_in i.time_sandy ///\n",
    "\t\t\tif ((inlist(year, \"1999-2000\", \"2000-2001\", \"2001-2002\", ///\n",
    "\t\t\t\t\t\t\t  \"2002-2003\", \"2003-2004\", \"2004-2005\", ///\n",
    "\t\t\t\t\t\t\t  \"2007-2008\", \"2008-2009\", \"2009-2010\")) & ///\n",
    "\t\t\t(inlist(sandy_group_dest, \"disaster\")) & ///\n",
    "\t\t\t(urban_origin == \"urban\") & ///\n",
    "\t\t\t(sandy_group_origin == \"nearby\")), ///\n",
    "\t\t\tvce(robust) fe"
   ]
  },
  {
   "cell_type": "markdown",
   "metadata": {},
   "source": [
    "#### Disaster-Distant (Urban)"
   ]
  },
  {
   "cell_type": "code",
   "execution_count": null,
   "metadata": {},
   "outputs": [],
   "source": [
    "eststo: xtreg exmpt_num pop_origin_in pop_destination_in i.time_sandy ///\n",
    "\t\t\tif ((inlist(year, \"1999-2000\", \"2000-2001\", \"2001-2002\", ///\n",
    "\t\t\t\t\t\t\t  \"2002-2003\", \"2003-2004\", \"2004-2005\", ///\n",
    "\t\t\t\t\t\t\t  \"2007-2008\", \"2008-2009\", \"2009-2010\")) & ///\n",
    "\t\t\t(inlist(sandy_group_dest, \"disaster\")) & ///\n",
    "\t\t\t(urban_origin == \"urban\") & ///\n",
    "\t\t\t(sandy_group_origin == \"distant\")), ///\n",
    "\t\t\tvce(robust) fe"
   ]
  },
  {
   "cell_type": "markdown",
   "metadata": {},
   "source": [
    "#### Storing the estimates"
   ]
  },
  {
   "cell_type": "code",
   "execution_count": null,
   "metadata": {},
   "outputs": [],
   "source": [
    "esttab using \"gravity_disaster_sandy.csv\", ///\n",
    "\t\treplace ar2 csv noomitted nolines label se\n",
    "\t\n",
    "eststo clear"
   ]
  },
  {
   "cell_type": "markdown",
   "metadata": {},
   "source": [
    "#### Nearby-All"
   ]
  },
  {
   "cell_type": "code",
   "execution_count": null,
   "metadata": {},
   "outputs": [],
   "source": [
    "eststo: xtreg exmpt_num pop_origin_in pop_destination_in i.time_sandy ///\n",
    "\t\t\tif ((inlist(year, \"1999-2000\", \"2000-2001\", \"2001-2002\", ///\n",
    "\t\t\t\t\t\t\t  \"2002-2003\", \"2003-2004\", \"2004-2005\", ///\n",
    "\t\t\t\t\t\t\t  \"2007-2008\", \"2008-2009\", \"2009-2010\")) & ///\n",
    "\t\t\t(sandy_group_dest == \"nearby\")), ///\n",
    "\t\t\tvce(robust) fe"
   ]
  },
  {
   "cell_type": "markdown",
   "metadata": {},
   "source": [
    "#### Nearby-Disaster"
   ]
  },
  {
   "cell_type": "code",
   "execution_count": null,
   "metadata": {},
   "outputs": [],
   "source": [
    "eststo: xtreg exmpt_num pop_origin_in pop_destination_in i.time_sandy ///\n",
    "\t\t\tif ((inlist(year, \"1999-2000\", \"2000-2001\", \"2001-2002\", ///\n",
    "\t\t\t\t\t\t\t  \"2002-2003\", \"2003-2004\", \"2004-2005\", ///\n",
    "\t\t\t\t\t\t\t  \"2007-2008\", \"2008-2009\", \"2009-2010\")) & ///\n",
    "\t\t\t(inlist(sandy_group_dest, \"nearby\")) & ///\n",
    "\t\t\t(sandy_group_origin == \"disaster\")), ///\n",
    "\t\t\tvce(robust) fe"
   ]
  },
  {
   "cell_type": "markdown",
   "metadata": {},
   "source": [
    "#### Nearby-Nearby"
   ]
  },
  {
   "cell_type": "code",
   "execution_count": null,
   "metadata": {},
   "outputs": [],
   "source": [
    "eststo: xtreg exmpt_num pop_origin_in pop_destination_in i.time_sandy ///\n",
    "\t\t\tif ((inlist(year, \"1999-2000\", \"2000-2001\", \"2001-2002\", ///\n",
    "\t\t\t\t\t\t\t  \"2002-2003\", \"2003-2004\", \"2004-2005\", ///\n",
    "\t\t\t\t\t\t\t  \"2007-2008\", \"2008-2009\", \"2009-2010\")) & ///\n",
    "\t\t\t(inlist(sandy_group_dest, \"nearby\")) & ///\n",
    "\t\t\t(sandy_group_origin == \"nearby\")), ///\n",
    "\t\t\tvce(robust) fe"
   ]
  },
  {
   "cell_type": "markdown",
   "metadata": {},
   "source": [
    "#### Nearby-Distant"
   ]
  },
  {
   "cell_type": "code",
   "execution_count": null,
   "metadata": {},
   "outputs": [],
   "source": [
    "eststo: xtreg exmpt_num pop_origin_in pop_destination_in i.time_sandy ///\n",
    "\t\t\tif ((inlist(year, \"1999-2000\", \"2000-2001\", \"2001-2002\", ///\n",
    "\t\t\t\t\t\t\t  \"2002-2003\", \"2003-2004\", \"2004-2005\", ///\n",
    "\t\t\t\t\t\t\t  \"2007-2008\", \"2008-2009\", \"2009-2010\")) & ///\n",
    "\t\t\t(inlist(sandy_group_dest, \"nearby\")) & ///\n",
    "\t\t\t(sandy_group_origin == \"distant\")), ///\n",
    "\t\t\tvce(robust) fe"
   ]
  },
  {
   "cell_type": "markdown",
   "metadata": {},
   "source": [
    "#### Nearby-All (Urban)"
   ]
  },
  {
   "cell_type": "code",
   "execution_count": null,
   "metadata": {},
   "outputs": [],
   "source": [
    "eststo: xtreg exmpt_num pop_origin_in pop_destination_in i.time_sandy ///\n",
    "\t\t\tif ((inlist(year, \"1999-2000\", \"2000-2001\", \"2001-2002\", ///\n",
    "\t\t\t\t\t\t\t  \"2002-2003\", \"2003-2004\", \"2004-2005\", ///\n",
    "\t\t\t\t\t\t\t  \"2007-2008\", \"2008-2009\", \"2009-2010\")) & ///\n",
    "\t\t\t(inlist(sandy_group_dest, \"nearby\")) & ///\n",
    "\t\t\t(urban_origin == \"urban\")), ///\n",
    "\t\t\tvce(robust) fe"
   ]
  },
  {
   "cell_type": "markdown",
   "metadata": {},
   "source": [
    "#### Nearby-Disaster (Urban)"
   ]
  },
  {
   "cell_type": "code",
   "execution_count": null,
   "metadata": {},
   "outputs": [],
   "source": [
    "eststo: xtreg exmpt_num pop_origin_in pop_destination_in i.time_sandy ///\n",
    "\t\t\tif ((inlist(year, \"1999-2000\", \"2000-2001\", \"2001-2002\", ///\n",
    "\t\t\t\t\t\t\t  \"2002-2003\", \"2003-2004\", \"2004-2005\", ///\n",
    "\t\t\t\t\t\t\t  \"2007-2008\", \"2008-2009\", \"2009-2010\")) & ///\n",
    "\t\t\t(inlist(sandy_group_dest, \"nearby\")) & ///\n",
    "\t\t\t(urban_origin == \"urban\") & ///\n",
    "\t\t\t(sandy_group_origin == \"disaster\")), ///\n",
    "\t\t\tvce(robust) fe"
   ]
  },
  {
   "cell_type": "markdown",
   "metadata": {},
   "source": [
    "#### Nearby-Nearby (Urban)"
   ]
  },
  {
   "cell_type": "code",
   "execution_count": null,
   "metadata": {},
   "outputs": [],
   "source": [
    "eststo: xtreg exmpt_num pop_origin_in pop_destination_in i.time_sandy ///\n",
    "\t\t\tif ((inlist(year, \"1999-2000\", \"2000-2001\", \"2001-2002\", ///\n",
    "\t\t\t\t\t\t\t  \"2002-2003\", \"2003-2004\", \"2004-2005\", ///\n",
    "\t\t\t\t\t\t\t  \"2007-2008\", \"2008-2009\", \"2009-2010\")) & ///\n",
    "\t\t\t(inlist(sandy_group_dest, \"nearby\")) & ///\n",
    "\t\t\t(urban_origin == \"urban\") & ///\n",
    "\t\t\t(sandy_group_origin == \"nearby\")), ///\n",
    "\t\t\tvce(robust) fe"
   ]
  },
  {
   "cell_type": "markdown",
   "metadata": {},
   "source": [
    "#### Nearby-Distant (Urban)"
   ]
  },
  {
   "cell_type": "code",
   "execution_count": null,
   "metadata": {},
   "outputs": [],
   "source": [
    "eststo: xtreg exmpt_num pop_origin_in pop_destination_in i.time_sandy ///\n",
    "\t\t\tif ((inlist(year, \"1999-2000\", \"2000-2001\", \"2001-2002\", ///\n",
    "\t\t\t\t\t\t\t  \"2002-2003\", \"2003-2004\", \"2004-2005\", ///\n",
    "\t\t\t\t\t\t\t  \"2007-2008\", \"2008-2009\", \"2009-2010\")) & ///\n",
    "\t\t\t(inlist(sandy_group_dest, \"nearby\")) & ///\n",
    "\t\t\t(urban_origin == \"urban\") & ///\n",
    "\t\t\t(sandy_group_origin == \"distant\")), ///\n",
    "\t\t\tvce(robust) fe"
   ]
  },
  {
   "cell_type": "markdown",
   "metadata": {},
   "source": [
    "#### Storing the estimates"
   ]
  },
  {
   "cell_type": "code",
   "execution_count": null,
   "metadata": {},
   "outputs": [],
   "source": [
    "esttab using \"gravity_nearby_sandy.csv\", ///\n",
    "\t\treplace ar2 csv noomitted nolines label se\n",
    "\t\n",
    "eststo clear"
   ]
  },
  {
   "cell_type": "markdown",
   "metadata": {},
   "source": [
    "### Difference-in-Differences Model\n",
    "#### All"
   ]
  },
  {
   "cell_type": "code",
   "execution_count": null,
   "metadata": {},
   "outputs": [],
   "source": [
    "eststo: xtreg exmpt_num pop_origin_in pop_destination_in i.time_sandy i.treated_sandy ///\n",
    "\t\t   if (inlist(year, \"1999-2000\", \"2000-2001\", \"2001-2002\", ///\n",
    "\t\t\t\t\t\t\t\"2002-2003\", \"2003-2004\", \"2004-2005\", ///\n",
    "\t\t\t\t\t\t\t\"2005-2006\", \"2006-2007\", \"2007-2008\") & ///\n",
    "\t\t   inlist(sandy_group_dest, \"disaster\", \"nearby\")), ///\n",
    "\t\t   vce(robust) fe"
   ]
  },
  {
   "cell_type": "markdown",
   "metadata": {},
   "source": [
    "#### Disaster"
   ]
  },
  {
   "cell_type": "code",
   "execution_count": null,
   "metadata": {},
   "outputs": [],
   "source": [
    "eststo: xtreg exmpt_num pop_origin_in pop_destination_in i.time_sandy i.treated_sandy ///\n",
    "\t\t   if (inlist(year, \"1999-2000\", \"2000-2001\", \"2001-2002\", ///\n",
    "\t\t\t\t\t\t\t\"2002-2003\", \"2003-2004\", \"2004-2005\", ///\n",
    "\t\t\t\t\t\t\t\"2005-2006\", \"2006-2007\", \"2007-2008\") & ///\n",
    "\t\t   inlist(sandy_group_dest, \"disaster\", \"nearby\") & ///\n",
    "\t\t   (sandy_group_origin == \"disaster\")), ///\n",
    "\t\t   vce(robust) fe"
   ]
  },
  {
   "cell_type": "markdown",
   "metadata": {},
   "source": [
    "#### Nearby"
   ]
  },
  {
   "cell_type": "code",
   "execution_count": null,
   "metadata": {},
   "outputs": [],
   "source": [
    "eststo: xtreg exmpt_num pop_origin_in pop_destination_in i.time_sandy i.treated_sandy ///\n",
    "\t\t   if (inlist(year, \"1999-2000\", \"2000-2001\", \"2001-2002\", ///\n",
    "\t\t\t\t\t\t\t\"2002-2003\", \"2003-2004\", \"2004-2005\", ///\n",
    "\t\t\t\t\t\t\t\"2005-2006\", \"2006-2007\", \"2007-2008\") & ///\n",
    "\t\t   inlist(sandy_group_dest, \"disaster\", \"nearby\") & ///\n",
    "\t\t   (urban_origin == \"urban\") & ///\n",
    "\t\t   (sandy_group_origin == \"nearby\")), ///\n",
    "\t\t   vce(robust) fe"
   ]
  },
  {
   "cell_type": "markdown",
   "metadata": {},
   "source": [
    "#### Distant"
   ]
  },
  {
   "cell_type": "code",
   "execution_count": null,
   "metadata": {},
   "outputs": [],
   "source": [
    "eststo: xtreg exmpt_num pop_origin_in pop_destination_in i.time_sandy i.treated_sandy ///\n",
    "\t\t   if (inlist(year, \"1999-2000\", \"2000-2001\", \"2001-2002\", ///\n",
    "\t\t\t\t\t\t\t\"2002-2003\", \"2003-2004\", \"2004-2005\", ///\n",
    "\t\t\t\t\t\t\t\"2005-2006\", \"2006-2007\", \"2007-2008\") & ///\n",
    "\t\t   inlist(sandy_group_dest, \"disaster\", \"nearby\") & ///\n",
    "\t\t   (urban_origin == \"urban\") & ///\n",
    "\t\t   (sandy_group_origin == \"distant\")), ///\n",
    "\t\t   vce(robust) fe"
   ]
  },
  {
   "cell_type": "markdown",
   "metadata": {},
   "source": [
    "#### All (Urban)"
   ]
  },
  {
   "cell_type": "code",
   "execution_count": null,
   "metadata": {},
   "outputs": [],
   "source": [
    "eststo: xtreg exmpt_num pop_origin_in pop_destination_in i.time_sandy i.treated_sandy ///\n",
    "\t\t   if (inlist(year, \"1999-2000\", \"2000-2001\", \"2001-2002\", ///\n",
    "\t\t\t\t\t\t\t\"2002-2003\", \"2003-2004\", \"2004-2005\", ///\n",
    "\t\t\t\t\t\t\t\"2005-2006\", \"2006-2007\", \"2007-2008\") & ///\n",
    "\t\t   inlist(sandy_group_dest, \"disaster\", \"nearby\") & ///\n",
    "\t\t   (urban_origin == \"urban\")), ///\n",
    "\t\t   vce(robust) fe"
   ]
  },
  {
   "cell_type": "markdown",
   "metadata": {},
   "source": [
    "#### Disaster (Urban)"
   ]
  },
  {
   "cell_type": "code",
   "execution_count": null,
   "metadata": {},
   "outputs": [],
   "source": [
    "eststo: xtreg exmpt_num pop_origin_in pop_destination_in i.time_sandy i.treated_sandy ///\n",
    "\t\t   if (inlist(year, \"1999-2000\", \"2000-2001\", \"2001-2002\", ///\n",
    "\t\t\t\t\t\t\t\"2002-2003\", \"2003-2004\", \"2004-2005\", ///\n",
    "\t\t\t\t\t\t\t\"2005-2006\", \"2006-2007\", \"2007-2008\") & ///\n",
    "\t\t   inlist(sandy_group_dest, \"disaster\", \"nearby\") & ///\n",
    "\t\t   urban_origin == \"urban\" & ///\n",
    "\t\t   (sandy_group_origin == \"disaster\")), ///\n",
    "\t\t   vce(robust) fe"
   ]
  },
  {
   "cell_type": "markdown",
   "metadata": {},
   "source": [
    "#### Nearby (Urban)"
   ]
  },
  {
   "cell_type": "code",
   "execution_count": null,
   "metadata": {},
   "outputs": [],
   "source": [
    "eststo: xtreg exmpt_num pop_origin_in pop_destination_in i.time_sandy i.treated_sandy ///\n",
    "\t\t\tif (inlist(year, \"1999-2000\", \"2000-2001\", \"2001-2002\", ///\n",
    "\t\t\t\t\t\t\t \"2002-2003\", \"2003-2004\", \"2004-2005\", ///\n",
    "\t\t\t\t\t\t\t \"2005-2006\", \"2006-2007\", \"2007-2008\") & ///\n",
    "\t\t   inlist(sandy_group_dest, \"disaster\", \"nearby\") & ///\n",
    "\t\t   urban_origin == \"urban\" & ///\n",
    "\t\t   (sandy_group_origin == \"nearby\")), ///\n",
    "\t\t   vce(robust) fe"
   ]
  },
  {
   "cell_type": "markdown",
   "metadata": {},
   "source": [
    "#### Distant (Urban)"
   ]
  },
  {
   "cell_type": "code",
   "execution_count": null,
   "metadata": {},
   "outputs": [],
   "source": [
    "eststo: xtreg exmpt_num pop_origin_in pop_destination_in i.time_sandy i.treated_sandy ///\n",
    "\t\t\tif (inlist(year, \"1999-2000\", \"2000-2001\", \"2001-2002\", ///\n",
    "\t\t\t\t\t\t\t \"2002-2003\", \"2003-2004\", \"2004-2005\", ///\n",
    "\t\t\t\t\t\t\t \"2005-2006\", \"2006-2007\", \"2007-2008\") & ///\n",
    "\t\t   inlist(sandy_group_dest, \"disaster\", \"nearby\") & ///\n",
    "\t\t   urban_origin == \"urban\" & ///\n",
    "\t\t   (sandy_group_origin == \"distant\")), ///\n",
    "\t\t   vce(robust) fe"
   ]
  },
  {
   "cell_type": "markdown",
   "metadata": {},
   "source": [
    "#### Storing the Estimates"
   ]
  },
  {
   "cell_type": "code",
   "execution_count": null,
   "metadata": {},
   "outputs": [],
   "source": [
    "esttab using \"diffindiff_results_sandy.csv\", ///\n",
    "\treplace ar2 csv noomitted nolines label se\n",
    "\n",
    "eststo clear\t"
   ]
  }
 ],
 "metadata": {
  "kernelspec": {
   "display_name": "Stata",
   "language": "stata",
   "name": "stata"
  },
  "language_info": {
   "codemirror_mode": "stata",
   "file_extension": ".do",
   "mimetype": "text/x-stata",
   "name": "stata",
   "version": "15.1"
  }
 },
 "nbformat": 4,
 "nbformat_minor": 2
}
