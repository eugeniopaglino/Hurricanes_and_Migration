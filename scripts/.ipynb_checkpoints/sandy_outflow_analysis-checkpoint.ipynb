{
 "cells": [
  {
   "cell_type": "markdown",
   "metadata": {},
   "source": [
    "# Sandy Ouflow Analysis\n",
    "## Organising the Dataset\n",
    "We import ```pandas```, ```numpy```, ```csv```, and ```os``` libraries"
   ]
  },
  {
   "cell_type": "code",
   "execution_count": 1,
   "metadata": {},
   "outputs": [],
   "source": [
    "import pandas as pd\n",
    "import numpy as np\n",
    "import csv\n",
    "import os"
   ]
  },
  {
   "cell_type": "markdown",
   "metadata": {},
   "source": [
    "We store the path to the ```IRS_migration_data``` repository folder in a string variable"
   ]
  },
  {
   "cell_type": "code",
   "execution_count": 2,
   "metadata": {},
   "outputs": [],
   "source": [
    "repo_path = os.getcwd()[0:len(os.getcwd())-7]"
   ]
  },
  {
   "cell_type": "markdown",
   "metadata": {},
   "source": [
    "We also create a new ```tables``` folder in which we will store the tables produced by this script, it will be a subfolder of your ```IRS_migration_data``` repository"
   ]
  },
  {
   "cell_type": "code",
   "execution_count": 33,
   "metadata": {},
   "outputs": [],
   "source": [
    "results_path = repo_path + 'tables/'\n",
    "if not os.path.exists(results_path):\n",
    "    os.makedirs(results_path)"
   ]
  },
  {
   "cell_type": "markdown",
   "metadata": {},
   "source": [
    "We upload the data on outflows from a csv file.\n",
    "It covers the period 1998-2015."
   ]
  },
  {
   "cell_type": "code",
   "execution_count": 3,
   "metadata": {},
   "outputs": [],
   "source": [
    "outflow_df = pd.read_csv(repo_path + 'outflows/outflow.csv')"
   ]
  },
  {
   "cell_type": "markdown",
   "metadata": {},
   "source": [
    "We print the first 10 lines of the dataframe we just created to see how it is structured"
   ]
  },
  {
   "cell_type": "code",
   "execution_count": 4,
   "metadata": {},
   "outputs": [
    {
     "data": {
      "text/html": [
       "<div>\n",
       "<style scoped>\n",
       "    .dataframe tbody tr th:only-of-type {\n",
       "        vertical-align: middle;\n",
       "    }\n",
       "\n",
       "    .dataframe tbody tr th {\n",
       "        vertical-align: top;\n",
       "    }\n",
       "\n",
       "    .dataframe thead th {\n",
       "        text-align: right;\n",
       "    }\n",
       "</style>\n",
       "<table border=\"1\" class=\"dataframe\">\n",
       "  <thead>\n",
       "    <tr style=\"text-align: right;\">\n",
       "      <th></th>\n",
       "      <th>year</th>\n",
       "      <th>state_code_origin</th>\n",
       "      <th>county_code_origin</th>\n",
       "      <th>origin</th>\n",
       "      <th>state_code_dest</th>\n",
       "      <th>county_code_dest</th>\n",
       "      <th>destination</th>\n",
       "      <th>state_abbrv</th>\n",
       "      <th>county_name</th>\n",
       "      <th>return_num</th>\n",
       "      <th>exmpt_num</th>\n",
       "      <th>aggr_agi</th>\n",
       "    </tr>\n",
       "  </thead>\n",
       "  <tbody>\n",
       "    <tr>\n",
       "      <th>0</th>\n",
       "      <td>1998-1999</td>\n",
       "      <td>0</td>\n",
       "      <td>0</td>\n",
       "      <td>0</td>\n",
       "      <td>96</td>\n",
       "      <td>0</td>\n",
       "      <td>96000</td>\n",
       "      <td>US</td>\n",
       "      <td>Total Mig - US &amp; For</td>\n",
       "      <td>6826974</td>\n",
       "      <td>13018600</td>\n",
       "      <td>272074430</td>\n",
       "    </tr>\n",
       "    <tr>\n",
       "      <th>1</th>\n",
       "      <td>1998-1999</td>\n",
       "      <td>0</td>\n",
       "      <td>0</td>\n",
       "      <td>0</td>\n",
       "      <td>97</td>\n",
       "      <td>0</td>\n",
       "      <td>97000</td>\n",
       "      <td>US</td>\n",
       "      <td>Total Mig - US</td>\n",
       "      <td>6711480</td>\n",
       "      <td>12800546</td>\n",
       "      <td>268111409</td>\n",
       "    </tr>\n",
       "    <tr>\n",
       "      <th>2</th>\n",
       "      <td>1998-1999</td>\n",
       "      <td>0</td>\n",
       "      <td>0</td>\n",
       "      <td>0</td>\n",
       "      <td>97</td>\n",
       "      <td>1</td>\n",
       "      <td>97001</td>\n",
       "      <td>US</td>\n",
       "      <td>Total Mig - US Same St</td>\n",
       "      <td>3803650</td>\n",
       "      <td>7221528</td>\n",
       "      <td>143410291</td>\n",
       "    </tr>\n",
       "    <tr>\n",
       "      <th>3</th>\n",
       "      <td>1998-1999</td>\n",
       "      <td>0</td>\n",
       "      <td>0</td>\n",
       "      <td>0</td>\n",
       "      <td>97</td>\n",
       "      <td>3</td>\n",
       "      <td>97003</td>\n",
       "      <td>US</td>\n",
       "      <td>Total Mig - US Diff St</td>\n",
       "      <td>2907830</td>\n",
       "      <td>5579018</td>\n",
       "      <td>124701118</td>\n",
       "    </tr>\n",
       "    <tr>\n",
       "      <th>4</th>\n",
       "      <td>1998-1999</td>\n",
       "      <td>0</td>\n",
       "      <td>0</td>\n",
       "      <td>0</td>\n",
       "      <td>98</td>\n",
       "      <td>0</td>\n",
       "      <td>98000</td>\n",
       "      <td>US</td>\n",
       "      <td>Total Mig - Foreign</td>\n",
       "      <td>115494</td>\n",
       "      <td>218054</td>\n",
       "      <td>3963021</td>\n",
       "    </tr>\n",
       "  </tbody>\n",
       "</table>\n",
       "</div>"
      ],
      "text/plain": [
       "        year  state_code_origin  county_code_origin  origin  state_code_dest  \\\n",
       "0  1998-1999                  0                   0       0               96   \n",
       "1  1998-1999                  0                   0       0               97   \n",
       "2  1998-1999                  0                   0       0               97   \n",
       "3  1998-1999                  0                   0       0               97   \n",
       "4  1998-1999                  0                   0       0               98   \n",
       "\n",
       "   county_code_dest  destination state_abbrv             county_name  \\\n",
       "0                 0        96000          US    Total Mig - US & For   \n",
       "1                 0        97000          US          Total Mig - US   \n",
       "2                 1        97001          US  Total Mig - US Same St   \n",
       "3                 3        97003          US  Total Mig - US Diff St   \n",
       "4                 0        98000          US     Total Mig - Foreign   \n",
       "\n",
       "   return_num  exmpt_num   aggr_agi  \n",
       "0     6826974   13018600  272074430  \n",
       "1     6711480   12800546  268111409  \n",
       "2     3803650    7221528  143410291  \n",
       "3     2907830    5579018  124701118  \n",
       "4      115494     218054    3963021  "
      ]
     },
     "execution_count": 4,
     "metadata": {},
     "output_type": "execute_result"
    }
   ],
   "source": [
    "outflow_df.head()"
   ]
  },
  {
   "cell_type": "markdown",
   "metadata": {},
   "source": [
    "We store in a numpy array the unique fip codes of destination and origin counties"
   ]
  },
  {
   "cell_type": "code",
   "execution_count": 5,
   "metadata": {},
   "outputs": [],
   "source": [
    "origins = outflow_df[(outflow_df['state_code_origin']<=56) & ((outflow_df['state_code_dest']<=56))]\n",
    "origin_codes = pd.unique(origins['origin'].values)\n",
    "destination_codes = np.append(origin_codes, [58000,59000,57009])"
   ]
  },
  {
   "cell_type": "markdown",
   "metadata": {},
   "source": [
    "We upload the cleaned and restructured datasets for the six period we will analyse:\n",
    "    \n",
    "* before Sandy (2010-2011);\n",
    "* and after Sandy (2012-2013)."
   ]
  },
  {
   "cell_type": "code",
   "execution_count": 7,
   "metadata": {},
   "outputs": [],
   "source": [
    "pre_1 = pd.read_csv(repo_path + 'outflows/1011out.csv')\n",
    "pre_1.rename(columns={'Unnamed: 0':''}, inplace=True)\n",
    "pre_1.set_index([''], inplace=True)\n",
    "new_col_names = list(map(int, pre_1.columns.values))\n",
    "pre_1.columns = new_col_names\n",
    "\n",
    "pre_2 = pd.read_csv(repo_path + 'outflows/1112out.csv')\n",
    "pre_2.rename(columns={'Unnamed: 0':''}, inplace=True)\n",
    "pre_2.set_index([''], inplace=True)\n",
    "new_col_names = list(map(int, pre_2.columns.values))\n",
    "pre_2.columns = new_col_names\n",
    "\n",
    "re_1 = pd.read_csv(repo_path + 'outflows/1213out.csv')\n",
    "re_1.rename(columns={'Unnamed: 0':''}, inplace=True)\n",
    "re_1.set_index([''], inplace=True)\n",
    "new_col_names = list(map(int, re_1.columns.values))\n",
    "re_1.columns = new_col_names\n",
    "\n",
    "re_2 = pd.read_csv(repo_path + 'outflows/1314out.csv')\n",
    "re_2.rename(columns={'Unnamed: 0':''}, inplace=True)\n",
    "re_2.set_index([''], inplace=True)\n",
    "new_col_names = list(map(int, re_2.columns.values))\n",
    "re_2.columns = new_col_names"
   ]
  },
  {
   "cell_type": "markdown",
   "metadata": {},
   "source": [
    "We adjust the estimates for all the years after 2011 in order to account for a change in methodology by the IRS. Since improvements in the collection mechanisms allowed the IRS to increase by 4.7 percent the coverage rate, we will decrease by 4.7 percent all the flows in order to make them comparable to their pre 2011 equivalents."
   ]
  },
  {
   "cell_type": "code",
   "execution_count": 8,
   "metadata": {},
   "outputs": [],
   "source": [
    "pre_2_adj = pre_2 * 0.963\n",
    "re_1_adj = re_1 * 0.963\n",
    "re_2_adj = re_2 * 0.963"
   ]
  },
  {
   "cell_type": "markdown",
   "metadata": {},
   "source": [
    "We import a set of csv files that contain the fip codes for different groups of counties we will use in the analysis."
   ]
  },
  {
   "cell_type": "code",
   "execution_count": 9,
   "metadata": {},
   "outputs": [],
   "source": [
    "disaster_sandy_counties_df = pd.read_csv(repo_path + 'county_groups/disaster_sandy_counties.csv', usecols = ['fip_code'])\n",
    "nearby_sandy_counties_df = pd.read_csv(repo_path + 'county_groups/nearby_sandy_counties.csv', usecols = ['fip_code'])\n",
    "distant_sandy_counties_df = pd.read_csv(repo_path + 'county_groups/distant_sandy_counties.csv', usecols = ['fip_code'])\n",
    "urban_nc_counties_df = pd.read_csv(repo_path + 'county_groups/urban_nc_counties.csv', usecols = ['fip_code'])"
   ]
  },
  {
   "cell_type": "markdown",
   "metadata": {},
   "source": [
    "We now convert the dataframes into lists and we add one list with all the counties"
   ]
  },
  {
   "cell_type": "code",
   "execution_count": 10,
   "metadata": {},
   "outputs": [],
   "source": [
    "disaster_sandy_counties = list(disaster_sandy_counties_df['fip_code'])\n",
    "nearby_sandy_counties = list(nearby_sandy_counties_df['fip_code'])\n",
    "distant_sandy_counties = list(distant_sandy_counties_df['fip_code'])\n",
    "urban_nc_counties = list(urban_nc_counties_df['fip_code'])\n",
    "all_nc_counties = disaster_sandy_counties + nearby_sandy_counties + distant_sandy_counties"
   ]
  },
  {
   "cell_type": "markdown",
   "metadata": {},
   "source": [
    "Finally, using list comprehension, we divide all the groups we have defined so far into urban and rural areas by looking at their 2010 Census population. If the proportion living in rural areas is equal or above 50% we classify the county as rural otherwise as urban."
   ]
  },
  {
   "cell_type": "code",
   "execution_count": 11,
   "metadata": {},
   "outputs": [],
   "source": [
    "disaster_sandy_urban_counties = [x for x in disaster_sandy_counties if x in urban_nc_counties]\n",
    "nearby_sandy_urban_counties = [x for x in nearby_sandy_counties if x in urban_nc_counties]\n",
    "distant_sandy_urban_counties = [x for x in distant_sandy_counties if x in urban_nc_counties]"
   ]
  },
  {
   "cell_type": "markdown",
   "metadata": {},
   "source": [
    "We now summarize the number of counties in each group:"
   ]
  },
  {
   "cell_type": "code",
   "execution_count": 12,
   "metadata": {
    "scrolled": true
   },
   "outputs": [
    {
     "name": "stdout",
     "output_type": "stream",
     "text": [
      "There are 41 disaster counties, of which 40 are urban.\n",
      "There are 132 nearby counties, of which 84 are urban.\n",
      "There are 2939 distant counties, of which 1123 are urban.\n",
      "There is a total of 3112 counties, of which 1247 are urban and the remaining 1865 are rural.\n"
     ]
    }
   ],
   "source": [
    "print('There are', len(disaster_sandy_counties), 'disaster counties, of which', \n",
    "      len(disaster_sandy_urban_counties), 'are urban.' )\n",
    "\n",
    "print('There are', len(nearby_sandy_counties), 'nearby counties, of which', \n",
    "      len(nearby_sandy_urban_counties), 'are urban.' )\n",
    "\n",
    "print('There are', len(distant_sandy_counties), 'distant counties, of which', \n",
    "      len(distant_sandy_urban_counties), 'are urban.' )\n",
    "\n",
    "print('There is a total of', len(all_nc_counties), 'counties, of which', \n",
    "      len(urban_nc_counties), 'are urban and the remaining',\n",
    "      len(all_nc_counties) - len(urban_nc_counties), 'are rural.' )"
   ]
  },
  {
   "cell_type": "markdown",
   "metadata": {},
   "source": [
    "## Ties Analysis\n",
    "\n",
    "We create six dataframes, one for each year considered, where we have the ties connecting each county to the others. Here a tie is defined as the presence of a flow of any size between two counties. Given that there has been a change in methodology in the IRS data collection such that before 2012 flows up to 10 households were recorded while after only flows up to 20 households are recoded, we need to use this latter threshold in order not to bias the results."
   ]
  },
  {
   "cell_type": "code",
   "execution_count": 13,
   "metadata": {},
   "outputs": [],
   "source": [
    "pre_1_ties = pre_1.drop([58000,59000,57009],axis=1).where(pre_1<20,1)\n",
    "pre_1_ties = pre_1_ties.where(pre_1_ties==1,0)\n",
    "\n",
    "pre_2_ties = pre_2.drop([58000,59000,57009],axis=1).where(pre_2<20,1)\n",
    "pre_2_ties = pre_2_ties.where(pre_2_ties==1,0)\n",
    "\n",
    "re_1_ties = re_1.drop([58000,59000,57009],axis=1).where(re_1<20,1)\n",
    "re_1_ties = re_1_ties.where(re_1_ties==1,0)\n",
    "\n",
    "re_2_ties = re_2.drop([58000,59000,57009],axis=1).where(re_2<20,1)\n",
    "re_2_ties = re_2_ties.where(re_2_ties==1,0)"
   ]
  },
  {
   "cell_type": "markdown",
   "metadata": {},
   "source": [
    "The final result is a matrix for each period whose rows and columns are all the counties in the dataset and where a 1 indicates the presence of a tie between the two counties and a 0 its absence. We consider a tie to exist if a positive flow was recorded at least in one of the three years composing the before and after periods."
   ]
  },
  {
   "cell_type": "code",
   "execution_count": 14,
   "metadata": {},
   "outputs": [],
   "source": [
    "pre_ties = (pre_1_ties + pre_2_ties)\n",
    "pre_ties = pre_ties.where(pre_ties==0,1)\n",
    "re_ties = (re_1_ties + re_2_ties)\n",
    "re_ties = re_ties.where(re_ties==0,1)"
   ]
  },
  {
   "cell_type": "markdown",
   "metadata": {},
   "source": [
    "Finally, we compute the number of unique ties in the before and recovery periods. A tie is unique if present only in one of the two periods."
   ]
  },
  {
   "cell_type": "code",
   "execution_count": 15,
   "metadata": {},
   "outputs": [],
   "source": [
    "ties = re_ties - pre_ties\n",
    "uties_pre = ties.where(ties==-1,0)*-1\n",
    "uties_re = ties.where(ties==1,0)"
   ]
  },
  {
   "cell_type": "code",
   "execution_count": 16,
   "metadata": {},
   "outputs": [],
   "source": [
    "for i in uties_pre.index:\n",
    "    uties_pre.loc[i, i] = 0\n",
    "for i in uties_re.index:\n",
    "    uties_re.loc[i, i] = 0"
   ]
  },
  {
   "cell_type": "markdown",
   "metadata": {},
   "source": [
    "We set up the table headers"
   ]
  },
  {
   "cell_type": "code",
   "execution_count": 17,
   "metadata": {},
   "outputs": [],
   "source": [
    "county_groups= ['All','Disaster Affected','Nearby','Distant',\n",
    "                   'All (Urban)', 'Disaster Affected (Urban)', 'Nearby (Urban)','Distant (Urban)']\n",
    "periods = ['Pre-Disaster','Recovery','% Change']"
   ]
  },
  {
   "cell_type": "markdown",
   "metadata": {},
   "source": [
    "We initialise the table"
   ]
  },
  {
   "cell_type": "code",
   "execution_count": 18,
   "metadata": {},
   "outputs": [],
   "source": [
    "ties_df = pd.DataFrame(0, index=county_groups, columns=periods)"
   ]
  },
  {
   "cell_type": "markdown",
   "metadata": {},
   "source": [
    "Finally we fill it"
   ]
  },
  {
   "cell_type": "code",
   "execution_count": 41,
   "metadata": {},
   "outputs": [
    {
     "data": {
      "text/html": [
       "<div>\n",
       "<style scoped>\n",
       "    .dataframe tbody tr th:only-of-type {\n",
       "        vertical-align: middle;\n",
       "    }\n",
       "\n",
       "    .dataframe tbody tr th {\n",
       "        vertical-align: top;\n",
       "    }\n",
       "\n",
       "    .dataframe thead th {\n",
       "        text-align: right;\n",
       "    }\n",
       "</style>\n",
       "<table border=\"1\" class=\"dataframe\">\n",
       "  <thead>\n",
       "    <tr style=\"text-align: right;\">\n",
       "      <th></th>\n",
       "      <th>Pre-Disaster</th>\n",
       "      <th>Recovery</th>\n",
       "      <th>% Change</th>\n",
       "    </tr>\n",
       "  </thead>\n",
       "  <tbody>\n",
       "    <tr>\n",
       "      <th>All</th>\n",
       "      <td>265.0</td>\n",
       "      <td>420.0</td>\n",
       "      <td>58.5</td>\n",
       "    </tr>\n",
       "    <tr>\n",
       "      <th>Disaster Affected</th>\n",
       "      <td>30.0</td>\n",
       "      <td>37.0</td>\n",
       "      <td>23.3</td>\n",
       "    </tr>\n",
       "    <tr>\n",
       "      <th>Nearby</th>\n",
       "      <td>71.0</td>\n",
       "      <td>94.0</td>\n",
       "      <td>32.4</td>\n",
       "    </tr>\n",
       "    <tr>\n",
       "      <th>Distant</th>\n",
       "      <td>164.0</td>\n",
       "      <td>289.0</td>\n",
       "      <td>76.2</td>\n",
       "    </tr>\n",
       "    <tr>\n",
       "      <th>All (Urban)</th>\n",
       "      <td>258.0</td>\n",
       "      <td>412.0</td>\n",
       "      <td>59.7</td>\n",
       "    </tr>\n",
       "    <tr>\n",
       "      <th>Disaster Affected (Urban)</th>\n",
       "      <td>29.0</td>\n",
       "      <td>37.0</td>\n",
       "      <td>27.6</td>\n",
       "    </tr>\n",
       "    <tr>\n",
       "      <th>Nearby (Urban)</th>\n",
       "      <td>68.0</td>\n",
       "      <td>90.0</td>\n",
       "      <td>32.4</td>\n",
       "    </tr>\n",
       "    <tr>\n",
       "      <th>Distant (Urban)</th>\n",
       "      <td>161.0</td>\n",
       "      <td>285.0</td>\n",
       "      <td>77.0</td>\n",
       "    </tr>\n",
       "  </tbody>\n",
       "</table>\n",
       "</div>"
      ],
      "text/plain": [
       "                           Pre-Disaster  Recovery  % Change\n",
       "All                               265.0     420.0      58.5\n",
       "Disaster Affected                  30.0      37.0      23.3\n",
       "Nearby                             71.0      94.0      32.4\n",
       "Distant                           164.0     289.0      76.2\n",
       "All (Urban)                       258.0     412.0      59.7\n",
       "Disaster Affected (Urban)          29.0      37.0      27.6\n",
       "Nearby (Urban)                     68.0      90.0      32.4\n",
       "Distant (Urban)                   161.0     285.0      77.0"
      ]
     },
     "execution_count": 41,
     "metadata": {},
     "output_type": "execute_result"
    }
   ],
   "source": [
    "ties_df.loc['All',\n",
    "            'Pre-Disaster'] = uties_pre.loc[disaster_sandy_counties,\n",
    "                                            all_nc_counties].sum(axis=1).sum(axis=0)\n",
    "ties_df.loc['All',\n",
    "            'Recovery'] = uties_re.loc[disaster_sandy_counties,\n",
    "                                       all_nc_counties].sum(axis=1).sum(axis=0)\n",
    "\n",
    "ties_df.loc['Disaster Affected',\n",
    "            'Pre-Disaster'] = uties_pre.loc[disaster_sandy_counties,\n",
    "                                            disaster_sandy_counties].sum(axis=1).sum(axis=0)\n",
    "ties_df.loc['Disaster Affected',\n",
    "            'Recovery'] = uties_re.loc[disaster_sandy_counties,\n",
    "                                       disaster_sandy_counties].sum(axis=1).sum(axis=0)\n",
    "\n",
    "ties_df.loc['Nearby',\n",
    "            'Pre-Disaster'] = uties_pre.loc[disaster_sandy_counties,\n",
    "                                            nearby_sandy_counties].sum(axis=1).sum(axis=0)\n",
    "ties_df.loc['Nearby',\n",
    "            'Recovery'] = uties_re.loc[disaster_sandy_counties,\n",
    "                                       nearby_sandy_counties].sum(axis=1).sum(axis=0)\n",
    "\n",
    "ties_df.loc['Distant',\n",
    "            'Pre-Disaster'] = uties_pre.loc[disaster_sandy_counties,\n",
    "                                            distant_sandy_counties].sum(axis=1).sum(axis=0)\n",
    "ties_df.loc['Distant',\n",
    "            'Recovery'] = uties_re.loc[disaster_sandy_counties,\n",
    "                                       distant_sandy_counties].sum(axis=1).sum(axis=0)\n",
    "\n",
    "ties_df.loc['All (Urban)',\n",
    "            'Pre-Disaster'] = uties_pre.loc[disaster_sandy_counties,\n",
    "                                            urban_nc_counties].sum(axis=1).sum(axis=0)\n",
    "ties_df.loc['All (Urban)',\n",
    "            'Recovery'] = uties_re.loc[disaster_sandy_counties,\n",
    "                                       urban_nc_counties].sum(axis=1).sum(axis=0)\n",
    "\n",
    "ties_df.loc['Disaster Affected (Urban)',\n",
    "            'Pre-Disaster'] = uties_pre.loc[disaster_sandy_counties,\n",
    "                                            disaster_sandy_urban_counties].sum(axis=1).sum(axis=0)\n",
    "ties_df.loc['Disaster Affected (Urban)',\n",
    "            'Recovery'] = uties_re.loc[disaster_sandy_counties,\n",
    "                                       disaster_sandy_urban_counties].sum(axis=1).sum(axis=0)\n",
    "\n",
    "ties_df.loc['Nearby (Urban)',\n",
    "            'Pre-Disaster'] = uties_pre.loc[disaster_sandy_counties,\n",
    "                                            nearby_sandy_urban_counties].sum(axis=1).sum(axis=0)\n",
    "ties_df.loc['Nearby (Urban)',\n",
    "            'Recovery'] = uties_re.loc[disaster_sandy_counties,\n",
    "                                       nearby_sandy_urban_counties].sum(axis=1).sum(axis=0)\n",
    "\n",
    "ties_df.loc['Distant (Urban)',\n",
    "            'Pre-Disaster'] = uties_pre.loc[disaster_sandy_counties,\n",
    "                                            distant_sandy_urban_counties].sum(axis=1).sum(axis=0)\n",
    "ties_df.loc['Distant (Urban)',\n",
    "            'Recovery'] = uties_re.loc[disaster_sandy_counties,\n",
    "                                       distant_sandy_urban_counties].sum(axis=1).sum(axis=0)\n",
    "\n",
    "ties_df.loc[:,'% Change'] = (ties_df.loc[:,'Recovery'] - ties_df.loc[:,'Pre-Disaster'])/ties_df.loc[:,'Pre-Disaster']*100\n",
    "\n",
    "ties_df.loc[:,'% Change'] = ties_df.loc[:,'% Change'].round(decimals=1)\n",
    "ties_df"
   ]
  },
  {
   "cell_type": "markdown",
   "metadata": {},
   "source": [
    "To export the table to a csv file, uncomment the following line"
   ]
  },
  {
   "cell_type": "code",
   "execution_count": 34,
   "metadata": {},
   "outputs": [],
   "source": [
    "#ties_df.to_csv(results_path + 'outties_table_sandy.csv')"
   ]
  },
  {
   "cell_type": "markdown",
   "metadata": {},
   "source": [
    "## Flows Analysis\n",
    "We apply the same adjustment to flows, removing all flows below 20 households"
   ]
  },
  {
   "cell_type": "code",
   "execution_count": 20,
   "metadata": {},
   "outputs": [],
   "source": [
    "pre_1_flows = pre_1.where(pre_1>=20,0)\n",
    "pre_2_flows = pre_2.where(pre_2>=20,0)\n",
    "re_1_flows = re_1.where(re_1>=20,0)\n",
    "re_2_flows = re_2.where(re_2>=20,0)"
   ]
  },
  {
   "cell_type": "markdown",
   "metadata": {},
   "source": [
    "We create to dataframes with the same structure as the ones with the ties but containing average flows for the two periods respectively"
   ]
  },
  {
   "cell_type": "code",
   "execution_count": 21,
   "metadata": {},
   "outputs": [],
   "source": [
    "pre_avg = (pre_1_flows + pre_2_flows)/2\n",
    "re_avg = (re_1_flows + re_2_flows)/2\n",
    "\n",
    "pre_avg = pre_avg.round(decimals=0)\n",
    "re_avg = re_avg.round(decimals=0)\n",
    "\n",
    "pre_flows = pre_avg\n",
    "re_flows = re_avg"
   ]
  },
  {
   "cell_type": "markdown",
   "metadata": {},
   "source": [
    "We remove flows in the main diagonal as these represent household that remained in the same counties and are thus not interesting in our migration analysis "
   ]
  },
  {
   "cell_type": "code",
   "execution_count": 22,
   "metadata": {},
   "outputs": [],
   "source": [
    "for i in pre_flows.index:\n",
    "    pre_flows.loc[i, i] = 0\n",
    "for i in re_flows.index:\n",
    "    re_flows.loc[i, i] = 0"
   ]
  },
  {
   "cell_type": "markdown",
   "metadata": {},
   "source": [
    "We initialise the flows table as before"
   ]
  },
  {
   "cell_type": "code",
   "execution_count": 23,
   "metadata": {},
   "outputs": [],
   "source": [
    "flows_df = pd.DataFrame(0, index=county_groups, columns=periods)"
   ]
  },
  {
   "cell_type": "markdown",
   "metadata": {},
   "source": [
    "and now we fill it"
   ]
  },
  {
   "cell_type": "code",
   "execution_count": 24,
   "metadata": {},
   "outputs": [
    {
     "data": {
      "text/html": [
       "<div>\n",
       "<style scoped>\n",
       "    .dataframe tbody tr th:only-of-type {\n",
       "        vertical-align: middle;\n",
       "    }\n",
       "\n",
       "    .dataframe tbody tr th {\n",
       "        vertical-align: top;\n",
       "    }\n",
       "\n",
       "    .dataframe thead th {\n",
       "        text-align: right;\n",
       "    }\n",
       "</style>\n",
       "<table border=\"1\" class=\"dataframe\">\n",
       "  <thead>\n",
       "    <tr style=\"text-align: right;\">\n",
       "      <th></th>\n",
       "      <th>Pre-Disaster</th>\n",
       "      <th>Recovery</th>\n",
       "      <th>% Change</th>\n",
       "    </tr>\n",
       "  </thead>\n",
       "  <tbody>\n",
       "    <tr>\n",
       "      <th>All</th>\n",
       "      <td>474131.0</td>\n",
       "      <td>506697.0</td>\n",
       "      <td>6.9</td>\n",
       "    </tr>\n",
       "    <tr>\n",
       "      <th>Disaster Affected</th>\n",
       "      <td>325889.0</td>\n",
       "      <td>341816.0</td>\n",
       "      <td>4.9</td>\n",
       "    </tr>\n",
       "    <tr>\n",
       "      <th>Nearby</th>\n",
       "      <td>56717.0</td>\n",
       "      <td>58540.0</td>\n",
       "      <td>3.2</td>\n",
       "    </tr>\n",
       "    <tr>\n",
       "      <th>Distant</th>\n",
       "      <td>91525.0</td>\n",
       "      <td>106341.0</td>\n",
       "      <td>16.2</td>\n",
       "    </tr>\n",
       "    <tr>\n",
       "      <th>All (Urban)</th>\n",
       "      <td>471649.0</td>\n",
       "      <td>503973.0</td>\n",
       "      <td>6.9</td>\n",
       "    </tr>\n",
       "    <tr>\n",
       "      <th>Disaster Affected (Urban)</th>\n",
       "      <td>324970.0</td>\n",
       "      <td>340879.0</td>\n",
       "      <td>4.9</td>\n",
       "    </tr>\n",
       "    <tr>\n",
       "      <th>Nearby (Urban)</th>\n",
       "      <td>55296.0</td>\n",
       "      <td>56949.0</td>\n",
       "      <td>3.0</td>\n",
       "    </tr>\n",
       "    <tr>\n",
       "      <th>Distant (Urban)</th>\n",
       "      <td>91383.0</td>\n",
       "      <td>106145.0</td>\n",
       "      <td>16.2</td>\n",
       "    </tr>\n",
       "  </tbody>\n",
       "</table>\n",
       "</div>"
      ],
      "text/plain": [
       "                           Pre-Disaster  Recovery  % Change\n",
       "All                            474131.0  506697.0       6.9\n",
       "Disaster Affected              325889.0  341816.0       4.9\n",
       "Nearby                          56717.0   58540.0       3.2\n",
       "Distant                         91525.0  106341.0      16.2\n",
       "All (Urban)                    471649.0  503973.0       6.9\n",
       "Disaster Affected (Urban)      324970.0  340879.0       4.9\n",
       "Nearby (Urban)                  55296.0   56949.0       3.0\n",
       "Distant (Urban)                 91383.0  106145.0      16.2"
      ]
     },
     "execution_count": 24,
     "metadata": {},
     "output_type": "execute_result"
    }
   ],
   "source": [
    "flows_df.loc['All',\n",
    "            'Pre-Disaster'] = pre_avg.loc[disaster_sandy_counties,\n",
    "                                         all_nc_counties].sum(axis=1).sum(axis=0)\n",
    "flows_df.loc['All',\n",
    "            'Recovery'] = re_avg.loc[disaster_sandy_counties,\n",
    "                                    all_nc_counties].sum(axis=1).sum(axis=0)\n",
    "\n",
    "flows_df.loc['Disaster Affected',\n",
    "            'Pre-Disaster'] = pre_avg.loc[disaster_sandy_counties, \n",
    "                                          disaster_sandy_counties].sum(axis=1).sum(axis=0)\n",
    "flows_df.loc['Disaster Affected',\n",
    "            'Recovery'] = re_avg.loc[disaster_sandy_counties, \n",
    "                                     disaster_sandy_counties].sum(axis=1).sum(axis=0)\n",
    "\n",
    "flows_df.loc['Nearby',\n",
    "            'Pre-Disaster'] = pre_avg.loc[disaster_sandy_counties, \n",
    "                                          nearby_sandy_counties].sum(axis=1).sum(axis=0)\n",
    "flows_df.loc['Nearby',\n",
    "            'Recovery'] = re_avg.loc[disaster_sandy_counties, \n",
    "                                     nearby_sandy_counties].sum(axis=1).sum(axis=0)\n",
    "\n",
    "flows_df.loc['Distant',\n",
    "            'Pre-Disaster'] = pre_avg.loc[disaster_sandy_counties, \n",
    "                                          distant_sandy_counties].sum(axis=1).sum(axis=0)\n",
    "flows_df.loc['Distant',\n",
    "            'Recovery'] = re_avg.loc[disaster_sandy_counties, \n",
    "                                     distant_sandy_counties].sum(axis=1).sum(axis=0)\n",
    "\n",
    "flows_df.loc['All (Urban)',\n",
    "            'Pre-Disaster'] = pre_avg.loc[disaster_sandy_counties, \n",
    "                                          urban_nc_counties].sum(axis=1).sum(axis=0)\n",
    "flows_df.loc['All (Urban)',\n",
    "            'Recovery'] = re_avg.loc[disaster_sandy_counties, \n",
    "                                     urban_nc_counties].sum(axis=1).sum(axis=0)\n",
    "\n",
    "flows_df.loc['Disaster Affected (Urban)',\n",
    "            'Pre-Disaster'] = pre_avg.loc[disaster_sandy_counties, \n",
    "                                          disaster_sandy_urban_counties].sum(axis=1).sum(axis=0)\n",
    "flows_df.loc['Disaster Affected (Urban)',\n",
    "            'Recovery'] = re_avg.loc[disaster_sandy_counties, \n",
    "                                     disaster_sandy_urban_counties].sum(axis=1).sum(axis=0)\n",
    "\n",
    "flows_df.loc['Nearby (Urban)',\n",
    "            'Pre-Disaster'] = pre_avg.loc[disaster_sandy_counties, \n",
    "                                          nearby_sandy_urban_counties].sum(axis=1).sum(axis=0)\n",
    "flows_df.loc['Nearby (Urban)',\n",
    "            'Recovery'] = re_avg.loc[disaster_sandy_counties, \n",
    "                                     nearby_sandy_urban_counties].sum(axis=1).sum(axis=0)\n",
    "\n",
    "flows_df.loc['Distant (Urban)',\n",
    "            'Pre-Disaster'] = pre_avg.loc[disaster_sandy_counties, \n",
    "                                          distant_sandy_urban_counties].sum(axis=1).sum(axis=0)\n",
    "flows_df.loc['Distant (Urban)',\n",
    "            'Recovery'] = re_avg.loc[disaster_sandy_counties, \n",
    "                                     distant_sandy_urban_counties].sum(axis=1).sum(axis=0)\n",
    "\n",
    "flows_df.loc[:,'% Change'] = (flows_df.loc[:,'Recovery'] - flows_df.loc[:,'Pre-Disaster'])/flows_df.loc[:,'Pre-Disaster']*100\n",
    "flows_df.loc[:,'% Change'] = flows_df.loc[:,'% Change'].round(decimals=1)\n",
    "flows_df"
   ]
  },
  {
   "cell_type": "markdown",
   "metadata": {},
   "source": [
    "To export the table to a csv file, uncomment the following line"
   ]
  },
  {
   "cell_type": "code",
   "execution_count": 25,
   "metadata": {},
   "outputs": [],
   "source": [
    "#flows_df.to_csv(results_path + outflows_table_sandy.csv')"
   ]
  },
  {
   "cell_type": "markdown",
   "metadata": {},
   "source": [
    "## Adjusted Data From 2011\n",
    "We now repeat the analysis this time using the adjusted data"
   ]
  },
  {
   "cell_type": "code",
   "execution_count": 26,
   "metadata": {},
   "outputs": [],
   "source": [
    "pre_2_ties_adj = pre_2_adj.drop([58000,59000,57009],axis=1).where(pre_2_adj<20,1)\n",
    "pre_2_ties_adj = pre_2_ties_adj.where(pre_2_ties_adj==1,0)\n",
    "\n",
    "re_1_ties_adj = re_1_adj.drop([58000,59000,57009],axis=1).where(re_1_adj<20,1)\n",
    "re_1_ties_adj = re_1_ties_adj.where(re_1_ties_adj==1,0)\n",
    "\n",
    "re_2_ties_adj = re_2_adj.drop([58000,59000,57009],axis=1).where(re_2_adj<20,1)\n",
    "re_2_ties_adj = re_2_ties_adj.where(re_2_ties_adj==1,0)"
   ]
  },
  {
   "cell_type": "markdown",
   "metadata": {},
   "source": [
    "The final result is a matrix for each period whose rows and columns are all the counties in the dataset and where a 1 indicates the presence of a tie between the two counties and a 0 its absence. We consider a tie to exist if a positive flow was recorded at least in one of the three years composing the before and after periods."
   ]
  },
  {
   "cell_type": "code",
   "execution_count": 27,
   "metadata": {},
   "outputs": [],
   "source": [
    "pre_ties_adj = (pre_1_ties + pre_2_ties_adj)\n",
    "pre_ties_adj = pre_ties_adj.where(pre_ties_adj==0,1)\n",
    "re_ties_adj = (re_1_ties_adj + re_2_ties_adj)\n",
    "re_ties_adj = re_ties_adj.where(re_ties_adj==0,1)"
   ]
  },
  {
   "cell_type": "markdown",
   "metadata": {},
   "source": [
    "Finally, we compute the number of unique ties in the before and recovery periods. A tie is unique if present only in one of the two periods."
   ]
  },
  {
   "cell_type": "code",
   "execution_count": 28,
   "metadata": {},
   "outputs": [],
   "source": [
    "ties_adj = re_ties_adj - pre_ties_adj\n",
    "uties_pre_adj = ties_adj.where(ties_adj==-1,0)*-1\n",
    "uties_re_adj = ties_adj.where(ties_adj==1,0)"
   ]
  },
  {
   "cell_type": "code",
   "execution_count": 29,
   "metadata": {},
   "outputs": [],
   "source": [
    "for i in uties_pre_adj.index:\n",
    "    uties_pre_adj.loc[i, i] = 0\n",
    "for i in uties_re_adj.index:\n",
    "    uties_re_adj.loc[i, i] = 0"
   ]
  },
  {
   "cell_type": "markdown",
   "metadata": {},
   "source": [
    "We initialise the table"
   ]
  },
  {
   "cell_type": "code",
   "execution_count": 30,
   "metadata": {},
   "outputs": [],
   "source": [
    "ties_adj_df = pd.DataFrame(0, index=county_groups, columns=periods)"
   ]
  },
  {
   "cell_type": "markdown",
   "metadata": {},
   "source": [
    "Finally we fill it"
   ]
  },
  {
   "cell_type": "code",
   "execution_count": 31,
   "metadata": {},
   "outputs": [
    {
     "data": {
      "text/html": [
       "<div>\n",
       "<style scoped>\n",
       "    .dataframe tbody tr th:only-of-type {\n",
       "        vertical-align: middle;\n",
       "    }\n",
       "\n",
       "    .dataframe tbody tr th {\n",
       "        vertical-align: top;\n",
       "    }\n",
       "\n",
       "    .dataframe thead th {\n",
       "        text-align: right;\n",
       "    }\n",
       "</style>\n",
       "<table border=\"1\" class=\"dataframe\">\n",
       "  <thead>\n",
       "    <tr style=\"text-align: right;\">\n",
       "      <th></th>\n",
       "      <th>Pre-Disaster</th>\n",
       "      <th>Recovery</th>\n",
       "      <th>% Change</th>\n",
       "    </tr>\n",
       "  </thead>\n",
       "  <tbody>\n",
       "    <tr>\n",
       "      <th>All</th>\n",
       "      <td>254.0</td>\n",
       "      <td>378.0</td>\n",
       "      <td>48.8</td>\n",
       "    </tr>\n",
       "    <tr>\n",
       "      <th>Disaster Affected</th>\n",
       "      <td>29.0</td>\n",
       "      <td>33.0</td>\n",
       "      <td>13.8</td>\n",
       "    </tr>\n",
       "    <tr>\n",
       "      <th>Nearby</th>\n",
       "      <td>76.0</td>\n",
       "      <td>88.0</td>\n",
       "      <td>15.8</td>\n",
       "    </tr>\n",
       "    <tr>\n",
       "      <th>Distant</th>\n",
       "      <td>149.0</td>\n",
       "      <td>257.0</td>\n",
       "      <td>72.5</td>\n",
       "    </tr>\n",
       "    <tr>\n",
       "      <th>All (Urban)</th>\n",
       "      <td>246.0</td>\n",
       "      <td>370.0</td>\n",
       "      <td>50.4</td>\n",
       "    </tr>\n",
       "    <tr>\n",
       "      <th>Disaster Affected (Urban)</th>\n",
       "      <td>28.0</td>\n",
       "      <td>33.0</td>\n",
       "      <td>17.9</td>\n",
       "    </tr>\n",
       "    <tr>\n",
       "      <th>Nearby (Urban)</th>\n",
       "      <td>71.0</td>\n",
       "      <td>84.0</td>\n",
       "      <td>18.3</td>\n",
       "    </tr>\n",
       "    <tr>\n",
       "      <th>Distant (Urban)</th>\n",
       "      <td>147.0</td>\n",
       "      <td>253.0</td>\n",
       "      <td>72.1</td>\n",
       "    </tr>\n",
       "  </tbody>\n",
       "</table>\n",
       "</div>"
      ],
      "text/plain": [
       "                           Pre-Disaster  Recovery  % Change\n",
       "All                               254.0     378.0      48.8\n",
       "Disaster Affected                  29.0      33.0      13.8\n",
       "Nearby                             76.0      88.0      15.8\n",
       "Distant                           149.0     257.0      72.5\n",
       "All (Urban)                       246.0     370.0      50.4\n",
       "Disaster Affected (Urban)          28.0      33.0      17.9\n",
       "Nearby (Urban)                     71.0      84.0      18.3\n",
       "Distant (Urban)                   147.0     253.0      72.1"
      ]
     },
     "execution_count": 31,
     "metadata": {},
     "output_type": "execute_result"
    }
   ],
   "source": [
    "ties_adj_df.loc['All',\n",
    "            'Pre-Disaster'] = uties_pre_adj.loc[disaster_sandy_counties,\n",
    "                                            all_nc_counties].sum(axis=1).sum(axis=0)\n",
    "ties_adj_df.loc['All',\n",
    "            'Recovery'] = uties_re_adj.loc[disaster_sandy_counties,\n",
    "                                       all_nc_counties].sum(axis=1).sum(axis=0)\n",
    "\n",
    "ties_adj_df.loc['Disaster Affected',\n",
    "            'Pre-Disaster'] = uties_pre_adj.loc[disaster_sandy_counties,\n",
    "                                            disaster_sandy_counties].sum(axis=1).sum(axis=0)\n",
    "ties_adj_df.loc['Disaster Affected',\n",
    "            'Recovery'] = uties_re_adj.loc[disaster_sandy_counties,\n",
    "                                       disaster_sandy_counties].sum(axis=1).sum(axis=0)\n",
    "\n",
    "ties_adj_df.loc['Nearby',\n",
    "            'Pre-Disaster'] = uties_pre_adj.loc[disaster_sandy_counties,\n",
    "                                            nearby_sandy_counties].sum(axis=1).sum(axis=0)\n",
    "ties_adj_df.loc['Nearby',\n",
    "            'Recovery'] = uties_re_adj.loc[disaster_sandy_counties,\n",
    "                                       nearby_sandy_counties].sum(axis=1).sum(axis=0)\n",
    "\n",
    "ties_adj_df.loc['Distant',\n",
    "            'Pre-Disaster'] = uties_pre_adj.loc[disaster_sandy_counties,\n",
    "                                            distant_sandy_counties].sum(axis=1).sum(axis=0)\n",
    "ties_adj_df.loc['Distant',\n",
    "            'Recovery'] = uties_re_adj.loc[disaster_sandy_counties,\n",
    "                                       distant_sandy_counties].sum(axis=1).sum(axis=0)\n",
    "\n",
    "ties_adj_df.loc['All (Urban)',\n",
    "            'Pre-Disaster'] = uties_pre_adj.loc[disaster_sandy_counties,\n",
    "                                            urban_nc_counties].sum(axis=1).sum(axis=0)\n",
    "ties_adj_df.loc['All (Urban)',\n",
    "            'Recovery'] = uties_re_adj.loc[disaster_sandy_counties,\n",
    "                                       urban_nc_counties].sum(axis=1).sum(axis=0)\n",
    "\n",
    "ties_adj_df.loc['Disaster Affected (Urban)',\n",
    "            'Pre-Disaster'] = uties_pre_adj.loc[disaster_sandy_counties,\n",
    "                                            disaster_sandy_urban_counties].sum(axis=1).sum(axis=0)\n",
    "ties_adj_df.loc['Disaster Affected (Urban)',\n",
    "            'Recovery'] = uties_re_adj.loc[disaster_sandy_counties,\n",
    "                                       disaster_sandy_urban_counties].sum(axis=1).sum(axis=0)\n",
    "\n",
    "ties_adj_df.loc['Nearby (Urban)',\n",
    "            'Pre-Disaster'] = uties_pre_adj.loc[disaster_sandy_counties,\n",
    "                                            nearby_sandy_urban_counties].sum(axis=1).sum(axis=0)\n",
    "ties_adj_df.loc['Nearby (Urban)',\n",
    "            'Recovery'] = uties_re_adj.loc[disaster_sandy_counties,\n",
    "                                       nearby_sandy_urban_counties].sum(axis=1).sum(axis=0)\n",
    "\n",
    "ties_adj_df.loc['Distant (Urban)',\n",
    "            'Pre-Disaster'] = uties_pre_adj.loc[disaster_sandy_counties,\n",
    "                                            distant_sandy_urban_counties].sum(axis=1).sum(axis=0)\n",
    "ties_adj_df.loc['Distant (Urban)',\n",
    "            'Recovery'] = uties_re_adj.loc[disaster_sandy_counties,\n",
    "                                       distant_sandy_urban_counties].sum(axis=1).sum(axis=0)\n",
    "\n",
    "ties_adj_df.loc[:,'% Change'] = (ties_adj_df.loc[:,'Recovery'] - ties_adj_df.loc[:,'Pre-Disaster'])/ties_adj_df.loc[:,'Pre-Disaster']*100\n",
    "\n",
    "ties_adj_df.loc[:,'% Change'] = ties_adj_df.loc[:,'% Change'].round(decimals=1)\n",
    "ties_adj_df"
   ]
  },
  {
   "cell_type": "markdown",
   "metadata": {},
   "source": [
    "To export the table to a csv file, uncomment the following line"
   ]
  },
  {
   "cell_type": "code",
   "execution_count": 35,
   "metadata": {},
   "outputs": [],
   "source": [
    "#ties_adj_df.to_csv(results_path + 'outties_table_adj.csv')"
   ]
  },
  {
   "cell_type": "markdown",
   "metadata": {},
   "source": [
    "## Flows Analysis\n",
    "We apply the same adjustment to flows, removing all flows below 20 households"
   ]
  },
  {
   "cell_type": "code",
   "execution_count": 36,
   "metadata": {},
   "outputs": [],
   "source": [
    "pre_2_flows_adj = pre_2_adj.where(pre_2_adj>=20,0)\n",
    "re_1_flows_adj = re_1_adj.where(re_1_adj>=20,0)\n",
    "re_2_flows_adj = re_2_adj.where(re_2_adj>=20,0)"
   ]
  },
  {
   "cell_type": "markdown",
   "metadata": {},
   "source": [
    "We create to dataframes with the same structure as the ones with the ties but containing average flows for the two periods respectively"
   ]
  },
  {
   "cell_type": "code",
   "execution_count": 37,
   "metadata": {},
   "outputs": [],
   "source": [
    "pre_avg_adj = (pre_2_flows + pre_2_flows_adj)/3\n",
    "re_avg_adj = (re_1_flows_adj + re_2_flows_adj)/2\n",
    "\n",
    "pre_avg_adj = pre_avg_adj.round(decimals=0)\n",
    "re_avg_adj = re_avg_adj.round(decimals=0)\n",
    "\n",
    "pre_flows_adj = pre_avg_adj\n",
    "re_flows_adj = re_avg_adj"
   ]
  },
  {
   "cell_type": "markdown",
   "metadata": {},
   "source": [
    "We remove flows in the main diagonal as these represent household that remained in the same counties and are thus not interesting in our migration analysis "
   ]
  },
  {
   "cell_type": "code",
   "execution_count": 38,
   "metadata": {},
   "outputs": [],
   "source": [
    "for i in pre_flows_adj.index:\n",
    "    pre_flows_adj.loc[i, i] = 0\n",
    "for i in re_flows_adj.index:\n",
    "    re_flows_adj.loc[i, i] = 0"
   ]
  },
  {
   "cell_type": "markdown",
   "metadata": {},
   "source": [
    "We initialise the flows table as before"
   ]
  },
  {
   "cell_type": "code",
   "execution_count": 39,
   "metadata": {},
   "outputs": [],
   "source": [
    "flows_adj_df = pd.DataFrame(0, index=county_groups, columns=periods)"
   ]
  },
  {
   "cell_type": "markdown",
   "metadata": {},
   "source": [
    "and now we fill it"
   ]
  },
  {
   "cell_type": "code",
   "execution_count": 48,
   "metadata": {},
   "outputs": [
    {
     "data": {
      "text/html": [
       "<div>\n",
       "<style scoped>\n",
       "    .dataframe tbody tr th:only-of-type {\n",
       "        vertical-align: middle;\n",
       "    }\n",
       "\n",
       "    .dataframe tbody tr th {\n",
       "        vertical-align: top;\n",
       "    }\n",
       "\n",
       "    .dataframe thead th {\n",
       "        text-align: right;\n",
       "    }\n",
       "</style>\n",
       "<table border=\"1\" class=\"dataframe\">\n",
       "  <thead>\n",
       "    <tr style=\"text-align: right;\">\n",
       "      <th></th>\n",
       "      <th>Pre-Disaster</th>\n",
       "      <th>Recovery</th>\n",
       "      <th>% Change</th>\n",
       "    </tr>\n",
       "  </thead>\n",
       "  <tbody>\n",
       "    <tr>\n",
       "      <th>All</th>\n",
       "      <td>490208.0</td>\n",
       "      <td>486037.0</td>\n",
       "      <td>-0.9</td>\n",
       "    </tr>\n",
       "    <tr>\n",
       "      <th>Disaster Affected (Coastline)</th>\n",
       "      <td>334472.0</td>\n",
       "      <td>328916.0</td>\n",
       "      <td>-1.7</td>\n",
       "    </tr>\n",
       "    <tr>\n",
       "      <th>Nearby</th>\n",
       "      <td>57470.0</td>\n",
       "      <td>55895.0</td>\n",
       "      <td>-2.7</td>\n",
       "    </tr>\n",
       "    <tr>\n",
       "      <th>Distant</th>\n",
       "      <td>98266.0</td>\n",
       "      <td>101226.0</td>\n",
       "      <td>3.0</td>\n",
       "    </tr>\n",
       "    <tr>\n",
       "      <th>All (Urban)</th>\n",
       "      <td>487602.0</td>\n",
       "      <td>483459.0</td>\n",
       "      <td>-0.8</td>\n",
       "    </tr>\n",
       "    <tr>\n",
       "      <th>Disaster Affected (Urban)</th>\n",
       "      <td>333466.0</td>\n",
       "      <td>328014.0</td>\n",
       "      <td>-1.6</td>\n",
       "    </tr>\n",
       "    <tr>\n",
       "      <th>Nearby (Urban)</th>\n",
       "      <td>56032.0</td>\n",
       "      <td>54400.0</td>\n",
       "      <td>-2.9</td>\n",
       "    </tr>\n",
       "    <tr>\n",
       "      <th>Distant (Urban)</th>\n",
       "      <td>98104.0</td>\n",
       "      <td>101045.0</td>\n",
       "      <td>3.0</td>\n",
       "    </tr>\n",
       "  </tbody>\n",
       "</table>\n",
       "</div>"
      ],
      "text/plain": [
       "                               Pre-Disaster  Recovery  % Change\n",
       "All                                490208.0  486037.0      -0.9\n",
       "Disaster Affected (Coastline)      334472.0  328916.0      -1.7\n",
       "Nearby                              57470.0   55895.0      -2.7\n",
       "Distant                             98266.0  101226.0       3.0\n",
       "All (Urban)                        487602.0  483459.0      -0.8\n",
       "Disaster Affected (Urban)          333466.0  328014.0      -1.6\n",
       "Nearby (Urban)                      56032.0   54400.0      -2.9\n",
       "Distant (Urban)                     98104.0  101045.0       3.0"
      ]
     },
     "execution_count": 48,
     "metadata": {},
     "output_type": "execute_result"
    }
   ],
   "source": [
    "flows_adj_df.loc['All',\n",
    "            'Pre-Disaster'] = pre_flows_adj.loc[disaster_sandy_counties,\n",
    "                                         all_nc_counties].sum(axis=1).sum(axis=0)\n",
    "flows_adj_df.loc['All',\n",
    "            'Recovery'] = re_flows_adj.loc[disaster_sandy_counties,\n",
    "                                    all_nc_counties].sum(axis=1).sum(axis=0)\n",
    "\n",
    "flows_adj_df.loc['Disaster Affected',\n",
    "            'Pre-Disaster'] = pre_flows_adj.loc[disaster_sandy_counties, \n",
    "                                          disaster_sandy_counties].sum(axis=1).sum(axis=0)\n",
    "flows_adj_df.loc['Disaster Affected',\n",
    "            'Recovery'] = re_flows_adj.loc[disaster_sandy_counties, \n",
    "                                     disaster_sandy_counties].sum(axis=1).sum(axis=0)\n",
    "\n",
    "flows_adj_df.loc['Nearby',\n",
    "            'Pre-Disaster'] = pre_flows_adj.loc[disaster_sandy_counties, \n",
    "                                          nearby_sandy_counties].sum(axis=1).sum(axis=0)\n",
    "flows_adj_df.loc['Nearby',\n",
    "            'Recovery'] = re_flows_adj.loc[disaster_sandy_counties, \n",
    "                                     nearby_sandy_counties].sum(axis=1).sum(axis=0)\n",
    "\n",
    "flows_adj_df.loc['Distant',\n",
    "            'Pre-Disaster'] = pre_flows_adj.loc[disaster_sandy_counties, \n",
    "                                          distant_sandy_counties].sum(axis=1).sum(axis=0)\n",
    "flows_adj_df.loc['Distant',\n",
    "            'Recovery'] = re_flows_adj.loc[disaster_sandy_counties, \n",
    "                                     distant_sandy_counties].sum(axis=1).sum(axis=0)\n",
    "\n",
    "flows_adj_df.loc['All (Urban)',\n",
    "            'Pre-Disaster'] = pre_flows_adj.loc[disaster_sandy_counties, \n",
    "                                          urban_nc_counties].sum(axis=1).sum(axis=0)\n",
    "flows_adj_df.loc['All (Urban)',\n",
    "            'Recovery'] = re_flows_adj.loc[disaster_sandy_counties, \n",
    "                                     urban_nc_counties].sum(axis=1).sum(axis=0)\n",
    "\n",
    "flows_adj_df.loc['Disaster Affected (Urban)',\n",
    "            'Pre-Disaster'] = pre_flows_adj.loc[disaster_sandy_counties, \n",
    "                                          disaster_sandy_urban_counties].sum(axis=1).sum(axis=0)\n",
    "flows_adj_df.loc['Disaster Affected (Urban)',\n",
    "            'Recovery'] = re_flows_adj.loc[disaster_sandy_counties, \n",
    "                                     disaster_sandy_urban_counties].sum(axis=1).sum(axis=0)\n",
    "\n",
    "flows_adj_df.loc['Nearby (Urban)',\n",
    "            'Pre-Disaster'] = pre_flows_adj.loc[disaster_sandy_counties, \n",
    "                                          nearby_sandy_urban_counties].sum(axis=1).sum(axis=0)\n",
    "flows_adj_df.loc['Nearby (Urban)',\n",
    "            'Recovery'] = re_flows_adj.loc[disaster_sandy_counties, \n",
    "                                     nearby_sandy_urban_counties].sum(axis=1).sum(axis=0)\n",
    "\n",
    "flows_adj_df.loc['Distant (Urban)',\n",
    "            'Pre-Disaster'] = pre_flows_adj.loc[disaster_sandy_counties, \n",
    "                                          distant_sandy_urban_counties].sum(axis=1).sum(axis=0)\n",
    "flows_adj_df.loc['Distant (Urban)',\n",
    "            'Recovery'] = re_flows_adj.loc[disaster_sandy_counties, \n",
    "                                     distant_sandy_urban_counties].sum(axis=1).sum(axis=0)\n",
    "\n",
    "flows_adj_df.loc[:,'% Change'] = (flows_adj_df.loc[:,'Recovery'] - flows_adj_df.loc[:,'Pre-Disaster'])/flows_adj_df.loc[:,'Pre-Disaster']*100\n",
    "flows_adj_df.loc[:,'% Change'] = flows_adj_df.loc[:,'% Change'].round(decimals=1)\n",
    "flows_adj_df"
   ]
  },
  {
   "cell_type": "markdown",
   "metadata": {},
   "source": [
    "To export the table to a csv file, uncomment the following line"
   ]
  },
  {
   "cell_type": "code",
   "execution_count": 40,
   "metadata": {},
   "outputs": [],
   "source": [
    "#flows_adj_df.to_csv(results_path + 'outflows_table_adj.csv')"
   ]
  }
 ],
 "metadata": {
  "kernelspec": {
   "display_name": "Python 3",
   "language": "python",
   "name": "python3"
  },
  "language_info": {
   "codemirror_mode": {
    "name": "ipython",
    "version": 3
   },
   "file_extension": ".py",
   "mimetype": "text/x-python",
   "name": "python",
   "nbconvert_exporter": "python",
   "pygments_lexer": "ipython3",
   "version": "3.6.7"
  }
 },
 "nbformat": 4,
 "nbformat_minor": 2
}
