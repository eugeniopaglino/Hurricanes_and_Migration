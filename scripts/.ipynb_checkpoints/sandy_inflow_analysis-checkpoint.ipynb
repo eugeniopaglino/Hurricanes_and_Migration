{
 "cells": [
  {
   "cell_type": "markdown",
   "metadata": {},
   "source": [
    "# Sandy Inflow Analysis\n",
    "## Organising the Dataset\n",
    "We import ```pandas```, ```numpy```, ```csv```, and ```os``` libraries"
   ]
  },
  {
   "cell_type": "code",
   "execution_count": 11,
   "metadata": {},
   "outputs": [],
   "source": [
    "import pandas as pd\n",
    "import numpy as np\n",
    "import csv\n",
    "import os"
   ]
  },
  {
   "cell_type": "markdown",
   "metadata": {},
   "source": [
    "We store the path to the ```IRS_migration_data``` repository folder in a string variable"
   ]
  },
  {
   "cell_type": "code",
   "execution_count": 19,
   "metadata": {},
   "outputs": [],
   "source": [
    "repo_path = os.getcwd()[0:len(os.getcwd())-7]"
   ]
  },
  {
   "cell_type": "markdown",
   "metadata": {},
   "source": [
    "We also create a new ```tables``` folder in which we will store the tables produced by this script, it will be a subfolder of your ```IRS_migration_data``` repository. If such a folder already exists, a new one will not be created."
   ]
  },
  {
   "cell_type": "code",
   "execution_count": null,
   "metadata": {},
   "outputs": [],
   "source": [
    "results_path = repo_path + 'tables/'\n",
    "if not os.path.exists(results_path):\n",
    "    os.makedirs(results_path)"
   ]
  },
  {
   "cell_type": "markdown",
   "metadata": {},
   "source": [
    "We upload the data on inflows from a csv file.\n",
    "It covers the period 1998-2015."
   ]
  },
  {
   "cell_type": "code",
   "execution_count": 20,
   "metadata": {},
   "outputs": [],
   "source": [
    "inflow_df = pd.read_csv(repo_path + 'inflows/inflow.csv')"
   ]
  },
  {
   "cell_type": "markdown",
   "metadata": {},
   "source": [
    "We print the first 10 lines of the dataframe we just created to see how it is structured"
   ]
  },
  {
   "cell_type": "code",
   "execution_count": 21,
   "metadata": {},
   "outputs": [
    {
     "data": {
      "text/html": [
       "<div>\n",
       "<style scoped>\n",
       "    .dataframe tbody tr th:only-of-type {\n",
       "        vertical-align: middle;\n",
       "    }\n",
       "\n",
       "    .dataframe tbody tr th {\n",
       "        vertical-align: top;\n",
       "    }\n",
       "\n",
       "    .dataframe thead th {\n",
       "        text-align: right;\n",
       "    }\n",
       "</style>\n",
       "<table border=\"1\" class=\"dataframe\">\n",
       "  <thead>\n",
       "    <tr style=\"text-align: right;\">\n",
       "      <th></th>\n",
       "      <th>year</th>\n",
       "      <th>state_code_dest</th>\n",
       "      <th>county_code_dest</th>\n",
       "      <th>destination</th>\n",
       "      <th>state_code_origin</th>\n",
       "      <th>county_code_origin</th>\n",
       "      <th>origin</th>\n",
       "      <th>state_abbrv</th>\n",
       "      <th>county_name</th>\n",
       "      <th>return_num</th>\n",
       "      <th>exmpt_num</th>\n",
       "      <th>aggr_agi</th>\n",
       "    </tr>\n",
       "  </thead>\n",
       "  <tbody>\n",
       "    <tr>\n",
       "      <th>0</th>\n",
       "      <td>1998-1999</td>\n",
       "      <td>0</td>\n",
       "      <td>0</td>\n",
       "      <td>0</td>\n",
       "      <td>96</td>\n",
       "      <td>0</td>\n",
       "      <td>96000</td>\n",
       "      <td>US</td>\n",
       "      <td>Total Mig - US &amp; For</td>\n",
       "      <td>6916177</td>\n",
       "      <td>13132561</td>\n",
       "      <td>272835496</td>\n",
       "    </tr>\n",
       "    <tr>\n",
       "      <th>1</th>\n",
       "      <td>1998-1999</td>\n",
       "      <td>0</td>\n",
       "      <td>0</td>\n",
       "      <td>0</td>\n",
       "      <td>97</td>\n",
       "      <td>0</td>\n",
       "      <td>97000</td>\n",
       "      <td>US</td>\n",
       "      <td>Total Mig - US</td>\n",
       "      <td>6711480</td>\n",
       "      <td>12800546</td>\n",
       "      <td>268111409</td>\n",
       "    </tr>\n",
       "    <tr>\n",
       "      <th>2</th>\n",
       "      <td>1998-1999</td>\n",
       "      <td>0</td>\n",
       "      <td>0</td>\n",
       "      <td>0</td>\n",
       "      <td>97</td>\n",
       "      <td>1</td>\n",
       "      <td>97001</td>\n",
       "      <td>US</td>\n",
       "      <td>Total Mig - US Same St</td>\n",
       "      <td>3803650</td>\n",
       "      <td>7221528</td>\n",
       "      <td>143410291</td>\n",
       "    </tr>\n",
       "    <tr>\n",
       "      <th>3</th>\n",
       "      <td>1998-1999</td>\n",
       "      <td>0</td>\n",
       "      <td>0</td>\n",
       "      <td>0</td>\n",
       "      <td>97</td>\n",
       "      <td>3</td>\n",
       "      <td>97003</td>\n",
       "      <td>US</td>\n",
       "      <td>Total Mig - US Diff St</td>\n",
       "      <td>2907830</td>\n",
       "      <td>5579018</td>\n",
       "      <td>124701118</td>\n",
       "    </tr>\n",
       "    <tr>\n",
       "      <th>4</th>\n",
       "      <td>1998-1999</td>\n",
       "      <td>0</td>\n",
       "      <td>0</td>\n",
       "      <td>0</td>\n",
       "      <td>98</td>\n",
       "      <td>0</td>\n",
       "      <td>98000</td>\n",
       "      <td>US</td>\n",
       "      <td>Total Mig - Foreign</td>\n",
       "      <td>204697</td>\n",
       "      <td>332015</td>\n",
       "      <td>4724087</td>\n",
       "    </tr>\n",
       "  </tbody>\n",
       "</table>\n",
       "</div>"
      ],
      "text/plain": [
       "        year  state_code_dest  county_code_dest  destination  \\\n",
       "0  1998-1999                0                 0            0   \n",
       "1  1998-1999                0                 0            0   \n",
       "2  1998-1999                0                 0            0   \n",
       "3  1998-1999                0                 0            0   \n",
       "4  1998-1999                0                 0            0   \n",
       "\n",
       "   state_code_origin  county_code_origin  origin state_abbrv  \\\n",
       "0                 96                   0   96000          US   \n",
       "1                 97                   0   97000          US   \n",
       "2                 97                   1   97001          US   \n",
       "3                 97                   3   97003          US   \n",
       "4                 98                   0   98000          US   \n",
       "\n",
       "              county_name  return_num  exmpt_num   aggr_agi  \n",
       "0    Total Mig - US & For     6916177   13132561  272835496  \n",
       "1          Total Mig - US     6711480   12800546  268111409  \n",
       "2  Total Mig - US Same St     3803650    7221528  143410291  \n",
       "3  Total Mig - US Diff St     2907830    5579018  124701118  \n",
       "4     Total Mig - Foreign      204697     332015    4724087  "
      ]
     },
     "execution_count": 21,
     "metadata": {},
     "output_type": "execute_result"
    }
   ],
   "source": [
    "inflow_df.head()"
   ]
  },
  {
   "cell_type": "markdown",
   "metadata": {},
   "source": [
    "We store in a numpy array the unique fip codes of destination and origin counties"
   ]
  },
  {
   "cell_type": "code",
   "execution_count": 22,
   "metadata": {},
   "outputs": [],
   "source": [
    "destinations = inflow_df[(inflow_df['state_code_dest']<=56) & ((inflow_df['state_code_origin']<=56))]\n",
    "destination_codes = pd.unique(destinations['destination'].values)\n",
    "origin_codes = np.append(destination_codes, [58000,59000,57009])"
   ]
  },
  {
   "cell_type": "markdown",
   "metadata": {},
   "source": [
    "We upload the cleaned and restructured datasets for the six period we will analyse:\n",
    "    \n",
    "* before Sandy (2010-2011);\n",
    "* and after Sandy (2012-2013)."
   ]
  },
  {
   "cell_type": "code",
   "execution_count": 24,
   "metadata": {},
   "outputs": [],
   "source": [
    "pre_1 = pd.read_csv(repo_path + 'inflows/1011in.csv')\n",
    "pre_1.rename(columns={'Unnamed: 0':''}, inplace=True)\n",
    "pre_1.set_index([''], inplace=True)\n",
    "new_col_names = list(map(int, pre_1.columns.values))\n",
    "pre_1.columns = new_col_names\n",
    "\n",
    "pre_2 = pd.read_csv(repo_path + 'inflows/1112in.csv')\n",
    "pre_2.rename(columns={'Unnamed: 0':''}, inplace=True)\n",
    "pre_2.set_index([''], inplace=True)\n",
    "new_col_names = list(map(int, pre_2.columns.values))\n",
    "pre_2.columns = new_col_names\n",
    "\n",
    "re_1 = pd.read_csv(repo_path + 'inflows/1213in.csv')\n",
    "re_1.rename(columns={'Unnamed: 0':''}, inplace=True)\n",
    "re_1.set_index([''], inplace=True)\n",
    "new_col_names = list(map(int, re_1.columns.values))\n",
    "re_1.columns = new_col_names\n",
    "\n",
    "re_2 = pd.read_csv(repo_path + 'inflows/1314in.csv')\n",
    "re_2.rename(columns={'Unnamed: 0':''}, inplace=True)\n",
    "re_2.set_index([''], inplace=True)\n",
    "new_col_names = list(map(int, re_2.columns.values))\n",
    "re_2.columns = new_col_names"
   ]
  },
  {
   "cell_type": "markdown",
   "metadata": {},
   "source": [
    "We adjust the estimates for all the years after 2011 (included) in order to account for a change in methodology by the IRS. Since improvements in the collection mechanisms allowed the IRS to increase by 4.7 percent the coverage rate, we will decrease by 4.7 percent all the flows in order to make them comparable to their pre 2011 equivalents."
   ]
  },
  {
   "cell_type": "code",
   "execution_count": 27,
   "metadata": {},
   "outputs": [],
   "source": [
    "pre_2_adj = pre_2 * 0.963\n",
    "re_1_adj = re_1 * 0.963\n",
    "re_2_adj = re_2 * 0.963"
   ]
  },
  {
   "cell_type": "markdown",
   "metadata": {},
   "source": [
    "We import a set of csv files that contain the fip codes for different groups of counties we will use in the analysis."
   ]
  },
  {
   "cell_type": "code",
   "execution_count": 37,
   "metadata": {},
   "outputs": [],
   "source": [
    "disaster_sandy_counties_df = pd.read_csv(repo_path + 'county_groups/disaster_sandy_counties.csv', usecols = ['fip_code'])\n",
    "nearby_sandy_counties_df = pd.read_csv(repo_path + 'county_groups/nearby_sandy_counties.csv', usecols = ['fip_code'])\n",
    "distant_sandy_counties_df = pd.read_csv(repo_path + 'county_groups/distant_sandy_counties.csv', usecols = ['fip_code'])\n",
    "urban_nc_counties_df = pd.read_csv(repo_path + 'county_groups/urban_nc_counties.csv', usecols = ['fip_code'])"
   ]
  },
  {
   "cell_type": "markdown",
   "metadata": {},
   "source": [
    "We now convert the dataframes into lists and we add one list with all the counties"
   ]
  },
  {
   "cell_type": "code",
   "execution_count": 44,
   "metadata": {},
   "outputs": [],
   "source": [
    "disaster_sandy_counties = list(disaster_sandy_counties_df['fip_code'])\n",
    "nearby_sandy_counties = list(nearby_sandy_counties_df['fip_code'])\n",
    "distant_sandy_counties = list(distant_sandy_counties_df['fip_code'])\n",
    "urban_nc_counties = list(urban_nc_counties_df['fip_code'])\n",
    "all_nc_counties = disaster_sandy_counties + nearby_sandy_counties + distant_sandy_counties"
   ]
  },
  {
   "cell_type": "markdown",
   "metadata": {},
   "source": [
    "Finally, using list comprehension, we divide all the groups we have defined so far into urban and rural areas by looking at their 2010 Census population. If the proportion living in rural areas is equal or above 50% we classify the county as rural otherwise as urban."
   ]
  },
  {
   "cell_type": "code",
   "execution_count": 43,
   "metadata": {},
   "outputs": [],
   "source": [
    "disaster_sandy_urban_counties = [x for x in disaster_sandy_counties if x in urban_nc_counties]\n",
    "nearby_sandy_urban_counties = [x for x in nearby_sandy_counties if x in urban_nc_counties]\n",
    "distant_sandy_urban_counties = [x for x in distant_sandy_counties if x in urban_nc_counties]"
   ]
  },
  {
   "cell_type": "markdown",
   "metadata": {},
   "source": [
    "We now summarize the number of counties in each group:"
   ]
  },
  {
   "cell_type": "code",
   "execution_count": 48,
   "metadata": {
    "scrolled": true
   },
   "outputs": [
    {
     "name": "stdout",
     "output_type": "stream",
     "text": [
      "There are 41 disaster counties, of which 40 are urban.\n",
      "There are 132 nearby counties, of which 84 are urban.\n",
      "There are 2939 distant counties, of which 1123 are urban.\n",
      "There is a total of 3112 counties, of which 1247 are urban and the remaining 1865 are rural.\n"
     ]
    }
   ],
   "source": [
    "print('There are', len(disaster_sandy_counties), 'disaster counties, of which', \n",
    "      len(disaster_sandy_urban_counties), 'are urban.' )\n",
    "\n",
    "print('There are', len(nearby_sandy_counties), 'nearby counties, of which', \n",
    "      len(nearby_sandy_urban_counties), 'are urban.' )\n",
    "\n",
    "print('There are', len(distant_sandy_counties), 'distant counties, of which', \n",
    "      len(distant_sandy_urban_counties), 'are urban.' )\n",
    "\n",
    "print('There is a total of', len(all_nc_counties), 'counties, of which', \n",
    "      len(urban_nc_counties), 'are urban and the remaining',\n",
    "      len(all_nc_counties) - len(urban_nc_counties), 'are rural.' )"
   ]
  },
  {
   "cell_type": "markdown",
   "metadata": {},
   "source": [
    "## Ties Analysis\n",
    "\n",
    "We create six dataframes, one for each year considered, where we have the ties connecting each county to the others. Here a tie is defined as the presence of a flow of any size between two counties. Given that there has been a change in methodology in the IRS data collection such that before 2012 flows up to 10 households were recorded while after only flows up to 20 households are recoded, we need to use this latter threshold in order not to bias the results."
   ]
  },
  {
   "cell_type": "code",
   "execution_count": 49,
   "metadata": {},
   "outputs": [],
   "source": [
    "pre_1_ties = pre_1.drop([58000,59000,57009],axis=1).where(pre_1<20,1)\n",
    "pre_1_ties = pre_1_ties.where(pre_1_ties==1,0)\n",
    "\n",
    "pre_2_ties = pre_2.drop([58000,59000,57009],axis=1).where(pre_2<20,1)\n",
    "pre_2_ties = pre_2_ties.where(pre_2_ties==1,0)\n",
    "\n",
    "re_1_ties = re_1.drop([58000,59000,57009],axis=1).where(re_1<20,1)\n",
    "re_1_ties = re_1_ties.where(re_1_ties==1,0)\n",
    "\n",
    "re_2_ties = re_2.drop([58000,59000,57009],axis=1).where(re_2<20,1)\n",
    "re_2_ties = re_2_ties.where(re_2_ties==1,0)"
   ]
  },
  {
   "cell_type": "markdown",
   "metadata": {},
   "source": [
    "The final result is a matrix for each period whose rows and columns are all the counties in the dataset and where a 1 indicates the presence of a tie between the two counties and a 0 its absence. We consider a tie to exist if a positive flow was recorded at least in one of the three years composing the before and after periods."
   ]
  },
  {
   "cell_type": "code",
   "execution_count": 50,
   "metadata": {},
   "outputs": [],
   "source": [
    "pre_ties = (pre_1_ties + pre_2_ties)\n",
    "pre_ties = pre_ties.where(pre_ties==0,1)\n",
    "re_ties = (re_1_ties + re_2_ties)\n",
    "re_ties = re_ties.where(re_ties==0,1)"
   ]
  },
  {
   "cell_type": "markdown",
   "metadata": {},
   "source": [
    "Finally, we compute the number of unique ties in the before and recovery periods. A tie is unique if present only in one of the two periods."
   ]
  },
  {
   "cell_type": "code",
   "execution_count": 51,
   "metadata": {},
   "outputs": [],
   "source": [
    "ties = re_ties - pre_ties\n",
    "uties_pre = ties.where(ties==-1,0)*-1\n",
    "uties_re = ties.where(ties==1,0)"
   ]
  },
  {
   "cell_type": "code",
   "execution_count": 52,
   "metadata": {},
   "outputs": [],
   "source": [
    "for i in uties_pre.index:\n",
    "    uties_pre.loc[i, i] = 0\n",
    "for i in uties_re.index:\n",
    "    uties_re.loc[i, i] = 0"
   ]
  },
  {
   "cell_type": "markdown",
   "metadata": {},
   "source": [
    "We set up the table headers"
   ]
  },
  {
   "cell_type": "code",
   "execution_count": 60,
   "metadata": {},
   "outputs": [],
   "source": [
    "county_groups= ['All','Disaster Affected','Nearby','Distant',\n",
    "                   'All (Urban)', 'Disaster Affected (Urban)', 'Nearby (Urban)','Distant (Urban)']\n",
    "periods = ['Pre-Disaster','Recovery','% Change']"
   ]
  },
  {
   "cell_type": "markdown",
   "metadata": {},
   "source": [
    "We initialise the table"
   ]
  },
  {
   "cell_type": "code",
   "execution_count": 61,
   "metadata": {},
   "outputs": [],
   "source": [
    "ties_df = pd.DataFrame(0, index=county_groups, columns=periods)"
   ]
  },
  {
   "cell_type": "markdown",
   "metadata": {},
   "source": [
    "Finally we fill it"
   ]
  },
  {
   "cell_type": "code",
   "execution_count": 62,
   "metadata": {},
   "outputs": [
    {
     "data": {
      "text/html": [
       "<div>\n",
       "<style scoped>\n",
       "    .dataframe tbody tr th:only-of-type {\n",
       "        vertical-align: middle;\n",
       "    }\n",
       "\n",
       "    .dataframe tbody tr th {\n",
       "        vertical-align: top;\n",
       "    }\n",
       "\n",
       "    .dataframe thead th {\n",
       "        text-align: right;\n",
       "    }\n",
       "</style>\n",
       "<table border=\"1\" class=\"dataframe\">\n",
       "  <thead>\n",
       "    <tr style=\"text-align: right;\">\n",
       "      <th></th>\n",
       "      <th>Pre-Disaster</th>\n",
       "      <th>Recovery</th>\n",
       "      <th>% Change</th>\n",
       "    </tr>\n",
       "  </thead>\n",
       "  <tbody>\n",
       "    <tr>\n",
       "      <th>All</th>\n",
       "      <td>258.0</td>\n",
       "      <td>241.0</td>\n",
       "      <td>-6.6</td>\n",
       "    </tr>\n",
       "    <tr>\n",
       "      <th>Disaster Affected</th>\n",
       "      <td>30.0</td>\n",
       "      <td>37.0</td>\n",
       "      <td>23.3</td>\n",
       "    </tr>\n",
       "    <tr>\n",
       "      <th>Nearby</th>\n",
       "      <td>50.0</td>\n",
       "      <td>56.0</td>\n",
       "      <td>12.0</td>\n",
       "    </tr>\n",
       "    <tr>\n",
       "      <th>Distant</th>\n",
       "      <td>178.0</td>\n",
       "      <td>148.0</td>\n",
       "      <td>-16.9</td>\n",
       "    </tr>\n",
       "    <tr>\n",
       "      <th>All (Urban)</th>\n",
       "      <td>252.0</td>\n",
       "      <td>234.0</td>\n",
       "      <td>-7.1</td>\n",
       "    </tr>\n",
       "    <tr>\n",
       "      <th>Disaster Affected (Urban)</th>\n",
       "      <td>29.0</td>\n",
       "      <td>37.0</td>\n",
       "      <td>27.6</td>\n",
       "    </tr>\n",
       "    <tr>\n",
       "      <th>Nearby (Urban)</th>\n",
       "      <td>48.0</td>\n",
       "      <td>51.0</td>\n",
       "      <td>6.2</td>\n",
       "    </tr>\n",
       "    <tr>\n",
       "      <th>Distant (Urban)</th>\n",
       "      <td>175.0</td>\n",
       "      <td>146.0</td>\n",
       "      <td>-16.6</td>\n",
       "    </tr>\n",
       "  </tbody>\n",
       "</table>\n",
       "</div>"
      ],
      "text/plain": [
       "                           Pre-Disaster  Recovery  % Change\n",
       "All                               258.0     241.0      -6.6\n",
       "Disaster Affected                  30.0      37.0      23.3\n",
       "Nearby                             50.0      56.0      12.0\n",
       "Distant                           178.0     148.0     -16.9\n",
       "All (Urban)                       252.0     234.0      -7.1\n",
       "Disaster Affected (Urban)          29.0      37.0      27.6\n",
       "Nearby (Urban)                     48.0      51.0       6.2\n",
       "Distant (Urban)                   175.0     146.0     -16.6"
      ]
     },
     "execution_count": 62,
     "metadata": {},
     "output_type": "execute_result"
    }
   ],
   "source": [
    "ties_df.loc['All',\n",
    "            'Pre-Disaster'] = uties_pre.loc[disaster_sandy_counties,\n",
    "                                            all_nc_counties].sum(axis=1).sum(axis=0)\n",
    "ties_df.loc['All',\n",
    "            'Recovery'] = uties_re.loc[disaster_sandy_counties,\n",
    "                                       all_nc_counties].sum(axis=1).sum(axis=0)\n",
    "\n",
    "ties_df.loc['Disaster Affected',\n",
    "            'Pre-Disaster'] = uties_pre.loc[disaster_sandy_counties,\n",
    "                                            disaster_sandy_counties].sum(axis=1).sum(axis=0)\n",
    "ties_df.loc['Disaster Affected',\n",
    "            'Recovery'] = uties_re.loc[disaster_sandy_counties,\n",
    "                                       disaster_sandy_counties].sum(axis=1).sum(axis=0)\n",
    "\n",
    "ties_df.loc['Nearby',\n",
    "            'Pre-Disaster'] = uties_pre.loc[disaster_sandy_counties,\n",
    "                                            nearby_sandy_counties].sum(axis=1).sum(axis=0)\n",
    "ties_df.loc['Nearby',\n",
    "            'Recovery'] = uties_re.loc[disaster_sandy_counties,\n",
    "                                       nearby_sandy_counties].sum(axis=1).sum(axis=0)\n",
    "\n",
    "ties_df.loc['Distant',\n",
    "            'Pre-Disaster'] = uties_pre.loc[disaster_sandy_counties,\n",
    "                                            distant_sandy_counties].sum(axis=1).sum(axis=0)\n",
    "ties_df.loc['Distant',\n",
    "            'Recovery'] = uties_re.loc[disaster_sandy_counties,\n",
    "                                       distant_sandy_counties].sum(axis=1).sum(axis=0)\n",
    "\n",
    "ties_df.loc['All (Urban)',\n",
    "            'Pre-Disaster'] = uties_pre.loc[disaster_sandy_counties,\n",
    "                                            urban_nc_counties].sum(axis=1).sum(axis=0)\n",
    "ties_df.loc['All (Urban)',\n",
    "            'Recovery'] = uties_re.loc[disaster_sandy_counties,\n",
    "                                       urban_nc_counties].sum(axis=1).sum(axis=0)\n",
    "\n",
    "ties_df.loc['Disaster Affected (Urban)',\n",
    "            'Pre-Disaster'] = uties_pre.loc[disaster_sandy_counties,\n",
    "                                            disaster_sandy_urban_counties].sum(axis=1).sum(axis=0)\n",
    "ties_df.loc['Disaster Affected (Urban)',\n",
    "            'Recovery'] = uties_re.loc[disaster_sandy_counties,\n",
    "                                       disaster_sandy_urban_counties].sum(axis=1).sum(axis=0)\n",
    "\n",
    "ties_df.loc['Nearby (Urban)',\n",
    "            'Pre-Disaster'] = uties_pre.loc[disaster_sandy_counties,\n",
    "                                            nearby_sandy_urban_counties].sum(axis=1).sum(axis=0)\n",
    "ties_df.loc['Nearby (Urban)',\n",
    "            'Recovery'] = uties_re.loc[disaster_sandy_counties,\n",
    "                                       nearby_sandy_urban_counties].sum(axis=1).sum(axis=0)\n",
    "\n",
    "ties_df.loc['Distant (Urban)',\n",
    "            'Pre-Disaster'] = uties_pre.loc[disaster_sandy_counties,\n",
    "                                            distant_sandy_urban_counties].sum(axis=1).sum(axis=0)\n",
    "ties_df.loc['Distant (Urban)',\n",
    "            'Recovery'] = uties_re.loc[disaster_sandy_counties,\n",
    "                                       distant_sandy_urban_counties].sum(axis=1).sum(axis=0)\n",
    "\n",
    "ties_df.loc[:,'% Change'] = (ties_df.loc[:,'Recovery'] - ties_df.loc[:,'Pre-Disaster'])/ties_df.loc[:,'Pre-Disaster']*100\n",
    "\n",
    "ties_df.loc[:,'% Change'] = ties_df.loc[:,'% Change'].round(decimals=1)\n",
    "ties_df"
   ]
  },
  {
   "cell_type": "markdown",
   "metadata": {},
   "source": [
    "To export the table to a csv file, uncomment the following line"
   ]
  },
  {
   "cell_type": "code",
   "execution_count": 28,
   "metadata": {},
   "outputs": [],
   "source": [
    "#ties_df.to_csv(results_path + 'inties_table_sandy.csv')"
   ]
  },
  {
   "cell_type": "markdown",
   "metadata": {},
   "source": [
    "## Flows Analysis\n",
    "We apply the same adjustment to flows, removing all flows below 20 households"
   ]
  },
  {
   "cell_type": "code",
   "execution_count": 63,
   "metadata": {},
   "outputs": [],
   "source": [
    "pre_1_flows = pre_1.where(pre_1>=20,0)\n",
    "pre_2_flows = pre_2.where(pre_2>=20,0)\n",
    "re_1_flows = re_1.where(re_1>=20,0)\n",
    "re_2_flows = re_2.where(re_2>=20,0)"
   ]
  },
  {
   "cell_type": "markdown",
   "metadata": {},
   "source": [
    "We create to dataframes with the same structure as the ones with the ties but containing average flows for the two periods respectively"
   ]
  },
  {
   "cell_type": "code",
   "execution_count": 64,
   "metadata": {},
   "outputs": [],
   "source": [
    "pre_avg = (pre_1_flows + pre_2_flows)/2\n",
    "re_avg = (re_1_flows + re_2_flows)/2\n",
    "\n",
    "pre_avg = pre_avg.round(decimals=0)\n",
    "re_avg = re_avg.round(decimals=0)\n",
    "\n",
    "pre_flows = pre_avg\n",
    "re_flows = re_avg"
   ]
  },
  {
   "cell_type": "markdown",
   "metadata": {},
   "source": [
    "We remove flows in the main diagonal as these represent household that remained in the same counties and are thus not interesting in our migration analysis"
   ]
  },
  {
   "cell_type": "code",
   "execution_count": 65,
   "metadata": {},
   "outputs": [],
   "source": [
    "for i in pre_flows.index:\n",
    "    pre_flows.loc[i, i] = 0\n",
    "for i in re_flows.index:\n",
    "    re_flows.loc[i, i] = 0"
   ]
  },
  {
   "cell_type": "markdown",
   "metadata": {},
   "source": [
    "We initialise the flows table as before"
   ]
  },
  {
   "cell_type": "code",
   "execution_count": 66,
   "metadata": {},
   "outputs": [],
   "source": [
    "flows_df = pd.DataFrame(0, index=county_groups, columns=periods)"
   ]
  },
  {
   "cell_type": "markdown",
   "metadata": {},
   "source": [
    "and now we fill it"
   ]
  },
  {
   "cell_type": "code",
   "execution_count": 68,
   "metadata": {},
   "outputs": [
    {
     "data": {
      "text/html": [
       "<div>\n",
       "<style scoped>\n",
       "    .dataframe tbody tr th:only-of-type {\n",
       "        vertical-align: middle;\n",
       "    }\n",
       "\n",
       "    .dataframe tbody tr th {\n",
       "        vertical-align: top;\n",
       "    }\n",
       "\n",
       "    .dataframe thead th {\n",
       "        text-align: right;\n",
       "    }\n",
       "</style>\n",
       "<table border=\"1\" class=\"dataframe\">\n",
       "  <thead>\n",
       "    <tr style=\"text-align: right;\">\n",
       "      <th></th>\n",
       "      <th>Pre-Disaster</th>\n",
       "      <th>Recovery</th>\n",
       "      <th>% Change</th>\n",
       "    </tr>\n",
       "  </thead>\n",
       "  <tbody>\n",
       "    <tr>\n",
       "      <th>All</th>\n",
       "      <td>439425.0</td>\n",
       "      <td>452139.0</td>\n",
       "      <td>2.9</td>\n",
       "    </tr>\n",
       "    <tr>\n",
       "      <th>Disaster Affected</th>\n",
       "      <td>325898.0</td>\n",
       "      <td>341816.0</td>\n",
       "      <td>4.9</td>\n",
       "    </tr>\n",
       "    <tr>\n",
       "      <th>Nearby</th>\n",
       "      <td>47163.0</td>\n",
       "      <td>46670.0</td>\n",
       "      <td>-1.0</td>\n",
       "    </tr>\n",
       "    <tr>\n",
       "      <th>Distant</th>\n",
       "      <td>66364.0</td>\n",
       "      <td>63653.0</td>\n",
       "      <td>-4.1</td>\n",
       "    </tr>\n",
       "    <tr>\n",
       "      <th>All (Urban)</th>\n",
       "      <td>437728.0</td>\n",
       "      <td>450414.0</td>\n",
       "      <td>2.9</td>\n",
       "    </tr>\n",
       "    <tr>\n",
       "      <th>Disaster Affected (Urban)</th>\n",
       "      <td>325106.0</td>\n",
       "      <td>341044.0</td>\n",
       "      <td>4.9</td>\n",
       "    </tr>\n",
       "    <tr>\n",
       "      <th>Nearby (Urban)</th>\n",
       "      <td>46387.0</td>\n",
       "      <td>45820.0</td>\n",
       "      <td>-1.2</td>\n",
       "    </tr>\n",
       "    <tr>\n",
       "      <th>Distant (Urban)</th>\n",
       "      <td>66235.0</td>\n",
       "      <td>63550.0</td>\n",
       "      <td>-4.1</td>\n",
       "    </tr>\n",
       "  </tbody>\n",
       "</table>\n",
       "</div>"
      ],
      "text/plain": [
       "                           Pre-Disaster  Recovery  % Change\n",
       "All                            439425.0  452139.0       2.9\n",
       "Disaster Affected              325898.0  341816.0       4.9\n",
       "Nearby                          47163.0   46670.0      -1.0\n",
       "Distant                         66364.0   63653.0      -4.1\n",
       "All (Urban)                    437728.0  450414.0       2.9\n",
       "Disaster Affected (Urban)      325106.0  341044.0       4.9\n",
       "Nearby (Urban)                  46387.0   45820.0      -1.2\n",
       "Distant (Urban)                 66235.0   63550.0      -4.1"
      ]
     },
     "execution_count": 68,
     "metadata": {},
     "output_type": "execute_result"
    }
   ],
   "source": [
    "flows_df.loc['All',\n",
    "            'Pre-Disaster'] = pre_avg.loc[disaster_sandy_counties,\n",
    "                                         all_nc_counties].sum(axis=1).sum(axis=0)\n",
    "flows_df.loc['All',\n",
    "            'Recovery'] = re_avg.loc[disaster_sandy_counties,\n",
    "                                    all_nc_counties].sum(axis=1).sum(axis=0)\n",
    "\n",
    "flows_df.loc['Disaster Affected',\n",
    "            'Pre-Disaster'] = pre_avg.loc[disaster_sandy_counties, \n",
    "                                          disaster_sandy_counties].sum(axis=1).sum(axis=0)\n",
    "flows_df.loc['Disaster Affected',\n",
    "            'Recovery'] = re_avg.loc[disaster_sandy_counties, \n",
    "                                     disaster_sandy_counties].sum(axis=1).sum(axis=0)\n",
    "\n",
    "flows_df.loc['Nearby',\n",
    "            'Pre-Disaster'] = pre_avg.loc[disaster_sandy_counties, \n",
    "                                          nearby_sandy_counties].sum(axis=1).sum(axis=0)\n",
    "flows_df.loc['Nearby',\n",
    "            'Recovery'] = re_avg.loc[disaster_sandy_counties, \n",
    "                                     nearby_sandy_counties].sum(axis=1).sum(axis=0)\n",
    "\n",
    "flows_df.loc['Distant',\n",
    "            'Pre-Disaster'] = pre_avg.loc[disaster_sandy_counties, \n",
    "                                          distant_sandy_counties].sum(axis=1).sum(axis=0)\n",
    "flows_df.loc['Distant',\n",
    "            'Recovery'] = re_avg.loc[disaster_sandy_counties, \n",
    "                                     distant_sandy_counties].sum(axis=1).sum(axis=0)\n",
    "\n",
    "flows_df.loc['All (Urban)',\n",
    "            'Pre-Disaster'] = pre_avg.loc[disaster_sandy_counties, \n",
    "                                          urban_nc_counties].sum(axis=1).sum(axis=0)\n",
    "flows_df.loc['All (Urban)',\n",
    "            'Recovery'] = re_avg.loc[disaster_sandy_counties, \n",
    "                                     urban_nc_counties].sum(axis=1).sum(axis=0)\n",
    "\n",
    "flows_df.loc['Disaster Affected (Urban)',\n",
    "            'Pre-Disaster'] = pre_avg.loc[disaster_sandy_counties, \n",
    "                                          disaster_sandy_urban_counties].sum(axis=1).sum(axis=0)\n",
    "flows_df.loc['Disaster Affected (Urban)',\n",
    "            'Recovery'] = re_avg.loc[disaster_sandy_counties, \n",
    "                                     disaster_sandy_urban_counties].sum(axis=1).sum(axis=0)\n",
    "\n",
    "flows_df.loc['Nearby (Urban)',\n",
    "            'Pre-Disaster'] = pre_avg.loc[disaster_sandy_counties, \n",
    "                                          nearby_sandy_urban_counties].sum(axis=1).sum(axis=0)\n",
    "flows_df.loc['Nearby (Urban)',\n",
    "            'Recovery'] = re_avg.loc[disaster_sandy_counties, \n",
    "                                     nearby_sandy_urban_counties].sum(axis=1).sum(axis=0)\n",
    "\n",
    "flows_df.loc['Distant (Urban)',\n",
    "            'Pre-Disaster'] = pre_avg.loc[disaster_sandy_counties, \n",
    "                                          distant_sandy_urban_counties].sum(axis=1).sum(axis=0)\n",
    "flows_df.loc['Distant (Urban)',\n",
    "            'Recovery'] = re_avg.loc[disaster_sandy_counties, \n",
    "                                     distant_sandy_urban_counties].sum(axis=1).sum(axis=0)\n",
    "\n",
    "flows_df.loc[:,'% Change'] = (flows_df.loc[:,'Recovery'] - flows_df.loc[:,'Pre-Disaster'])/flows_df.loc[:,'Pre-Disaster']*100\n",
    "flows_df.loc[:,'% Change'] = flows_df.loc[:,'% Change'].round(decimals=1)\n",
    "flows_df"
   ]
  },
  {
   "cell_type": "markdown",
   "metadata": {},
   "source": [
    "To export the table to a csv file, uncomment the following line"
   ]
  },
  {
   "cell_type": "code",
   "execution_count": 34,
   "metadata": {},
   "outputs": [],
   "source": [
    "#flows_df.to_csv(results_path + 'inflows_table_sandy.csv')"
   ]
  },
  {
   "cell_type": "markdown",
   "metadata": {},
   "source": [
    "## Adjusted Data After 2011\n",
    "We now repeat the analysis this time using the adjusted data"
   ]
  },
  {
   "cell_type": "code",
   "execution_count": 69,
   "metadata": {},
   "outputs": [],
   "source": [
    "pre_2_ties_adj = pre_2_adj.drop([58000,59000,57009],axis=1).where(pre_2_adj<20,1)\n",
    "pre_2_ties_adj = pre_2_ties_adj.where(pre_2_ties_adj==1,0)\n",
    "\n",
    "re_1_ties_adj = re_1_adj.drop([58000,59000,57009],axis=1).where(re_1_adj<20,1)\n",
    "re_1_ties_adj = re_1_ties_adj.where(re_1_ties_adj==1,0)\n",
    "\n",
    "re_2_ties_adj = re_2_adj.drop([58000,59000,57009],axis=1).where(re_2_adj<20,1)\n",
    "re_2_ties_adj = re_2_ties_adj.where(re_2_ties_adj==1,0)"
   ]
  },
  {
   "cell_type": "markdown",
   "metadata": {},
   "source": [
    "The final result is a matrix for each period whose rows and columns are all the counties in the dataset and where a 1 indicates the presence of a tie between the two counties and a 0 its absence. We consider a tie to exist if a positive flow was recorded at least in one of the three years composing the before and after periods."
   ]
  },
  {
   "cell_type": "code",
   "execution_count": 70,
   "metadata": {},
   "outputs": [],
   "source": [
    "pre_ties_adj = (pre_1_ties + pre_2_ties_adj)\n",
    "pre_ties_adj = pre_ties_adj.where(pre_ties_adj==0,1)\n",
    "re_ties_adj = (re_1_ties_adj + re_2_ties_adj)\n",
    "re_ties_adj = re_ties_adj.where(re_ties_adj==0,1)"
   ]
  },
  {
   "cell_type": "markdown",
   "metadata": {},
   "source": [
    "Finally, we compute the number of unique ties in the before and recovery periods. A tie is unique if present only in one of the two periods."
   ]
  },
  {
   "cell_type": "code",
   "execution_count": 71,
   "metadata": {},
   "outputs": [],
   "source": [
    "ties_adj = re_ties_adj - pre_ties_adj\n",
    "uties_pre_adj = ties_adj.where(ties_adj==-1,0)*-1\n",
    "uties_re_adj = ties_adj.where(ties_adj==1,0)"
   ]
  },
  {
   "cell_type": "code",
   "execution_count": 72,
   "metadata": {},
   "outputs": [],
   "source": [
    "for i in uties_pre_adj.index:\n",
    "    uties_pre_adj.loc[i, i] = 0\n",
    "for i in uties_re_adj.index:\n",
    "    uties_re_adj.loc[i, i] = 0"
   ]
  },
  {
   "cell_type": "markdown",
   "metadata": {},
   "source": [
    "We initialise the table"
   ]
  },
  {
   "cell_type": "code",
   "execution_count": 73,
   "metadata": {},
   "outputs": [],
   "source": [
    "ties_adj_df = pd.DataFrame(0, index=county_groups, columns=periods)"
   ]
  },
  {
   "cell_type": "markdown",
   "metadata": {},
   "source": [
    "Finally we fill it"
   ]
  },
  {
   "cell_type": "code",
   "execution_count": 74,
   "metadata": {},
   "outputs": [
    {
     "data": {
      "text/html": [
       "<div>\n",
       "<style scoped>\n",
       "    .dataframe tbody tr th:only-of-type {\n",
       "        vertical-align: middle;\n",
       "    }\n",
       "\n",
       "    .dataframe tbody tr th {\n",
       "        vertical-align: top;\n",
       "    }\n",
       "\n",
       "    .dataframe thead th {\n",
       "        text-align: right;\n",
       "    }\n",
       "</style>\n",
       "<table border=\"1\" class=\"dataframe\">\n",
       "  <thead>\n",
       "    <tr style=\"text-align: right;\">\n",
       "      <th></th>\n",
       "      <th>Pre-Disaster</th>\n",
       "      <th>Recovery</th>\n",
       "      <th>% Change</th>\n",
       "    </tr>\n",
       "  </thead>\n",
       "  <tbody>\n",
       "    <tr>\n",
       "      <th>All</th>\n",
       "      <td>257.0</td>\n",
       "      <td>197.0</td>\n",
       "      <td>-23.3</td>\n",
       "    </tr>\n",
       "    <tr>\n",
       "      <th>Disaster Affected</th>\n",
       "      <td>29.0</td>\n",
       "      <td>33.0</td>\n",
       "      <td>13.8</td>\n",
       "    </tr>\n",
       "    <tr>\n",
       "      <th>Nearby</th>\n",
       "      <td>52.0</td>\n",
       "      <td>38.0</td>\n",
       "      <td>-26.9</td>\n",
       "    </tr>\n",
       "    <tr>\n",
       "      <th>Distant</th>\n",
       "      <td>176.0</td>\n",
       "      <td>126.0</td>\n",
       "      <td>-28.4</td>\n",
       "    </tr>\n",
       "    <tr>\n",
       "      <th>All (Urban)</th>\n",
       "      <td>250.0</td>\n",
       "      <td>192.0</td>\n",
       "      <td>-23.2</td>\n",
       "    </tr>\n",
       "    <tr>\n",
       "      <th>Disaster Affected (Urban)</th>\n",
       "      <td>28.0</td>\n",
       "      <td>33.0</td>\n",
       "      <td>17.9</td>\n",
       "    </tr>\n",
       "    <tr>\n",
       "      <th>Nearby (Urban)</th>\n",
       "      <td>50.0</td>\n",
       "      <td>35.0</td>\n",
       "      <td>-30.0</td>\n",
       "    </tr>\n",
       "    <tr>\n",
       "      <th>Distant (Urban)</th>\n",
       "      <td>172.0</td>\n",
       "      <td>124.0</td>\n",
       "      <td>-27.9</td>\n",
       "    </tr>\n",
       "  </tbody>\n",
       "</table>\n",
       "</div>"
      ],
      "text/plain": [
       "                           Pre-Disaster  Recovery  % Change\n",
       "All                               257.0     197.0     -23.3\n",
       "Disaster Affected                  29.0      33.0      13.8\n",
       "Nearby                             52.0      38.0     -26.9\n",
       "Distant                           176.0     126.0     -28.4\n",
       "All (Urban)                       250.0     192.0     -23.2\n",
       "Disaster Affected (Urban)          28.0      33.0      17.9\n",
       "Nearby (Urban)                     50.0      35.0     -30.0\n",
       "Distant (Urban)                   172.0     124.0     -27.9"
      ]
     },
     "execution_count": 74,
     "metadata": {},
     "output_type": "execute_result"
    }
   ],
   "source": [
    "ties_adj_df.loc['All',\n",
    "            'Pre-Disaster'] = uties_pre_adj.loc[disaster_sandy_counties,\n",
    "                                            all_nc_counties].sum(axis=1).sum(axis=0)\n",
    "ties_adj_df.loc['All',\n",
    "            'Recovery'] = uties_re_adj.loc[disaster_sandy_counties,\n",
    "                                       all_nc_counties].sum(axis=1).sum(axis=0)\n",
    "\n",
    "ties_adj_df.loc['Disaster Affected',\n",
    "            'Pre-Disaster'] = uties_pre_adj.loc[disaster_sandy_counties,\n",
    "                                            disaster_sandy_counties].sum(axis=1).sum(axis=0)\n",
    "ties_adj_df.loc['Disaster Affected',\n",
    "            'Recovery'] = uties_re_adj.loc[disaster_sandy_counties,\n",
    "                                       disaster_sandy_counties].sum(axis=1).sum(axis=0)\n",
    "\n",
    "ties_adj_df.loc['Nearby',\n",
    "            'Pre-Disaster'] = uties_pre_adj.loc[disaster_sandy_counties,\n",
    "                                            nearby_sandy_counties].sum(axis=1).sum(axis=0)\n",
    "ties_adj_df.loc['Nearby',\n",
    "            'Recovery'] = uties_re_adj.loc[disaster_sandy_counties,\n",
    "                                       nearby_sandy_counties].sum(axis=1).sum(axis=0)\n",
    "\n",
    "ties_adj_df.loc['Distant',\n",
    "            'Pre-Disaster'] = uties_pre_adj.loc[disaster_sandy_counties,\n",
    "                                            distant_sandy_counties].sum(axis=1).sum(axis=0)\n",
    "ties_adj_df.loc['Distant',\n",
    "            'Recovery'] = uties_re_adj.loc[disaster_sandy_counties,\n",
    "                                       distant_sandy_counties].sum(axis=1).sum(axis=0)\n",
    "\n",
    "ties_adj_df.loc['All (Urban)',\n",
    "            'Pre-Disaster'] = uties_pre_adj.loc[disaster_sandy_counties,\n",
    "                                            urban_nc_counties].sum(axis=1).sum(axis=0)\n",
    "ties_adj_df.loc['All (Urban)',\n",
    "            'Recovery'] = uties_re_adj.loc[disaster_sandy_counties,\n",
    "                                       urban_nc_counties].sum(axis=1).sum(axis=0)\n",
    "\n",
    "ties_adj_df.loc['Disaster Affected (Urban)',\n",
    "            'Pre-Disaster'] = uties_pre_adj.loc[disaster_sandy_counties,\n",
    "                                            disaster_sandy_urban_counties].sum(axis=1).sum(axis=0)\n",
    "ties_adj_df.loc['Disaster Affected (Urban)',\n",
    "            'Recovery'] = uties_re_adj.loc[disaster_sandy_counties,\n",
    "                                       disaster_sandy_urban_counties].sum(axis=1).sum(axis=0)\n",
    "\n",
    "ties_adj_df.loc['Nearby (Urban)',\n",
    "            'Pre-Disaster'] = uties_pre_adj.loc[disaster_sandy_counties,\n",
    "                                            nearby_sandy_urban_counties].sum(axis=1).sum(axis=0)\n",
    "ties_adj_df.loc['Nearby (Urban)',\n",
    "            'Recovery'] = uties_re_adj.loc[disaster_sandy_counties,\n",
    "                                       nearby_sandy_urban_counties].sum(axis=1).sum(axis=0)\n",
    "\n",
    "ties_adj_df.loc['Distant (Urban)',\n",
    "            'Pre-Disaster'] = uties_pre_adj.loc[disaster_sandy_counties,\n",
    "                                            distant_sandy_urban_counties].sum(axis=1).sum(axis=0)\n",
    "ties_adj_df.loc['Distant (Urban)',\n",
    "            'Recovery'] = uties_re_adj.loc[disaster_sandy_counties,\n",
    "                                       distant_sandy_urban_counties].sum(axis=1).sum(axis=0)\n",
    "\n",
    "ties_adj_df.loc[:,'% Change'] = (ties_adj_df.loc[:,'Recovery'] - ties_adj_df.loc[:,'Pre-Disaster'])/ties_adj_df.loc[:,'Pre-Disaster']*100\n",
    "\n",
    "ties_adj_df.loc[:,'% Change'] = ties_adj_df.loc[:,'% Change'].round(decimals=1)\n",
    "ties_adj_df"
   ]
  },
  {
   "cell_type": "markdown",
   "metadata": {},
   "source": [
    "To export the table to a csv file, uncomment the following line"
   ]
  },
  {
   "cell_type": "code",
   "execution_count": 41,
   "metadata": {},
   "outputs": [],
   "source": [
    "#ties_adj_df.to_csv(results_path + 'inties_table_adj.csv')"
   ]
  },
  {
   "cell_type": "markdown",
   "metadata": {},
   "source": [
    "## Flows Analysis\n",
    "We apply the same adjustment to flows, removing all flows below 20 households"
   ]
  },
  {
   "cell_type": "code",
   "execution_count": 78,
   "metadata": {},
   "outputs": [],
   "source": [
    "pre_2_flows_adj = pre_2_adj.where(pre_2_adj>=20,0)\n",
    "re_1_flows_adj = re_1_adj.where(re_1_adj>=20,0)\n",
    "re_2_flows_adj = re_2_adj.where(re_2_adj>=20,0)"
   ]
  },
  {
   "cell_type": "markdown",
   "metadata": {},
   "source": [
    "We create to dataframes with the same structure as the ones with the ties but containing average flows for the two periods respectively"
   ]
  },
  {
   "cell_type": "code",
   "execution_count": 79,
   "metadata": {},
   "outputs": [],
   "source": [
    "pre_avg_adj = (pre_1_flows + pre_2_flows_adj)/2\n",
    "re_avg_adj = (re_1_flows_adj + re_2_flows_adj)/2\n",
    "\n",
    "pre_avg_adj = pre_avg_adj.round(decimals=0)\n",
    "re_avg_adj = re_avg_adj.round(decimals=0)\n",
    "\n",
    "pre_flows_adj = pre_avg_adj\n",
    "re_flows_adj = re_avg_adj"
   ]
  },
  {
   "cell_type": "markdown",
   "metadata": {},
   "source": [
    "We remove flows in the main diagonal as these represent household that remained in the same counties and are thus not interesting in our migration analysis "
   ]
  },
  {
   "cell_type": "code",
   "execution_count": 80,
   "metadata": {},
   "outputs": [],
   "source": [
    "for i in pre_flows_adj.index:\n",
    "    pre_flows_adj.loc[i, i] = 0\n",
    "for i in re_flows_adj.index:\n",
    "    re_flows_adj.loc[i, i] = 0"
   ]
  },
  {
   "cell_type": "markdown",
   "metadata": {},
   "source": [
    "We initialise the flows table as before"
   ]
  },
  {
   "cell_type": "code",
   "execution_count": 81,
   "metadata": {},
   "outputs": [],
   "source": [
    "flows_adj_df = pd.DataFrame(0, index=county_groups, columns=periods)"
   ]
  },
  {
   "cell_type": "markdown",
   "metadata": {},
   "source": [
    "and now we fill it"
   ]
  },
  {
   "cell_type": "code",
   "execution_count": 83,
   "metadata": {},
   "outputs": [
    {
     "data": {
      "text/html": [
       "<div>\n",
       "<style scoped>\n",
       "    .dataframe tbody tr th:only-of-type {\n",
       "        vertical-align: middle;\n",
       "    }\n",
       "\n",
       "    .dataframe tbody tr th {\n",
       "        vertical-align: top;\n",
       "    }\n",
       "\n",
       "    .dataframe thead th {\n",
       "        text-align: right;\n",
       "    }\n",
       "</style>\n",
       "<table border=\"1\" class=\"dataframe\">\n",
       "  <thead>\n",
       "    <tr style=\"text-align: right;\">\n",
       "      <th></th>\n",
       "      <th>Pre-Disaster</th>\n",
       "      <th>Recovery</th>\n",
       "      <th>% Change</th>\n",
       "    </tr>\n",
       "  </thead>\n",
       "  <tbody>\n",
       "    <tr>\n",
       "      <th>All</th>\n",
       "      <td>429818.0</td>\n",
       "      <td>433609.0</td>\n",
       "      <td>0.9</td>\n",
       "    </tr>\n",
       "    <tr>\n",
       "      <th>Disaster Affected</th>\n",
       "      <td>319329.0</td>\n",
       "      <td>328916.0</td>\n",
       "      <td>3.0</td>\n",
       "    </tr>\n",
       "    <tr>\n",
       "      <th>Nearby</th>\n",
       "      <td>46058.0</td>\n",
       "      <td>44442.0</td>\n",
       "      <td>-3.5</td>\n",
       "    </tr>\n",
       "    <tr>\n",
       "      <th>Distant</th>\n",
       "      <td>64431.0</td>\n",
       "      <td>60251.0</td>\n",
       "      <td>-6.5</td>\n",
       "    </tr>\n",
       "    <tr>\n",
       "      <th>All (Urban)</th>\n",
       "      <td>428159.0</td>\n",
       "      <td>432000.0</td>\n",
       "      <td>0.9</td>\n",
       "    </tr>\n",
       "    <tr>\n",
       "      <th>Disaster Affected (Urban)</th>\n",
       "      <td>318553.0</td>\n",
       "      <td>328172.0</td>\n",
       "      <td>3.0</td>\n",
       "    </tr>\n",
       "    <tr>\n",
       "      <th>Nearby (Urban)</th>\n",
       "      <td>45302.0</td>\n",
       "      <td>43667.0</td>\n",
       "      <td>-3.6</td>\n",
       "    </tr>\n",
       "    <tr>\n",
       "      <th>Distant (Urban)</th>\n",
       "      <td>64304.0</td>\n",
       "      <td>60161.0</td>\n",
       "      <td>-6.4</td>\n",
       "    </tr>\n",
       "    <tr>\n",
       "      <th>Disaster Affected (Coastline)</th>\n",
       "      <td>319329.0</td>\n",
       "      <td>328916.0</td>\n",
       "      <td>3.0</td>\n",
       "    </tr>\n",
       "  </tbody>\n",
       "</table>\n",
       "</div>"
      ],
      "text/plain": [
       "                               Pre-Disaster  Recovery  % Change\n",
       "All                                429818.0  433609.0       0.9\n",
       "Disaster Affected                  319329.0  328916.0       3.0\n",
       "Nearby                              46058.0   44442.0      -3.5\n",
       "Distant                             64431.0   60251.0      -6.5\n",
       "All (Urban)                        428159.0  432000.0       0.9\n",
       "Disaster Affected (Urban)          318553.0  328172.0       3.0\n",
       "Nearby (Urban)                      45302.0   43667.0      -3.6\n",
       "Distant (Urban)                     64304.0   60161.0      -6.4\n",
       "Disaster Affected (Coastline)      319329.0  328916.0       3.0"
      ]
     },
     "execution_count": 83,
     "metadata": {},
     "output_type": "execute_result"
    }
   ],
   "source": [
    "flows_adj_df.loc['All',\n",
    "            'Pre-Disaster'] = pre_flows_adj.loc[disaster_sandy_counties,\n",
    "                                         all_nc_counties].sum(axis=1).sum(axis=0)\n",
    "flows_adj_df.loc['All',\n",
    "            'Recovery'] = re_flows_adj.loc[disaster_sandy_counties,\n",
    "                                    all_nc_counties].sum(axis=1).sum(axis=0)\n",
    "\n",
    "flows_adj_df.loc['Disaster Affected',\n",
    "            'Pre-Disaster'] = pre_flows_adj.loc[disaster_sandy_counties, \n",
    "                                          disaster_sandy_counties].sum(axis=1).sum(axis=0)\n",
    "flows_adj_df.loc['Disaster Affected',\n",
    "            'Recovery'] = re_flows_adj.loc[disaster_sandy_counties, \n",
    "                                     disaster_sandy_counties].sum(axis=1).sum(axis=0)\n",
    "\n",
    "flows_adj_df.loc['Nearby',\n",
    "            'Pre-Disaster'] = pre_flows_adj.loc[disaster_sandy_counties, \n",
    "                                          nearby_sandy_counties].sum(axis=1).sum(axis=0)\n",
    "flows_adj_df.loc['Nearby',\n",
    "            'Recovery'] = re_flows_adj.loc[disaster_sandy_counties, \n",
    "                                     nearby_sandy_counties].sum(axis=1).sum(axis=0)\n",
    "\n",
    "flows_adj_df.loc['Distant',\n",
    "            'Pre-Disaster'] = pre_flows_adj.loc[disaster_sandy_counties, \n",
    "                                          distant_sandy_counties].sum(axis=1).sum(axis=0)\n",
    "flows_adj_df.loc['Distant',\n",
    "            'Recovery'] = re_flows_adj.loc[disaster_sandy_counties, \n",
    "                                     distant_sandy_counties].sum(axis=1).sum(axis=0)\n",
    "\n",
    "flows_adj_df.loc['All (Urban)',\n",
    "            'Pre-Disaster'] = pre_flows_adj.loc[disaster_sandy_counties, \n",
    "                                          urban_nc_counties].sum(axis=1).sum(axis=0)\n",
    "flows_adj_df.loc['All (Urban)',\n",
    "            'Recovery'] = re_flows_adj.loc[disaster_sandy_counties, \n",
    "                                     urban_nc_counties].sum(axis=1).sum(axis=0)\n",
    "\n",
    "flows_adj_df.loc['Disaster Affected (Urban)',\n",
    "            'Pre-Disaster'] = pre_flows_adj.loc[disaster_sandy_counties, \n",
    "                                          disaster_sandy_urban_counties].sum(axis=1).sum(axis=0)\n",
    "flows_adj_df.loc['Disaster Affected (Urban)',\n",
    "            'Recovery'] = re_flows_adj.loc[disaster_sandy_counties, \n",
    "                                     disaster_sandy_urban_counties].sum(axis=1).sum(axis=0)\n",
    "\n",
    "flows_adj_df.loc['Nearby (Urban)',\n",
    "            'Pre-Disaster'] = pre_flows_adj.loc[disaster_sandy_counties, \n",
    "                                          nearby_sandy_urban_counties].sum(axis=1).sum(axis=0)\n",
    "flows_adj_df.loc['Nearby (Urban)',\n",
    "            'Recovery'] = re_flows_adj.loc[disaster_sandy_counties, \n",
    "                                     nearby_sandy_urban_counties].sum(axis=1).sum(axis=0)\n",
    "\n",
    "flows_adj_df.loc['Distant (Urban)',\n",
    "            'Pre-Disaster'] = pre_flows_adj.loc[disaster_sandy_counties, \n",
    "                                          distant_sandy_urban_counties].sum(axis=1).sum(axis=0)\n",
    "flows_adj_df.loc['Distant (Urban)',\n",
    "            'Recovery'] = re_flows_adj.loc[disaster_sandy_counties, \n",
    "                                     distant_sandy_urban_counties].sum(axis=1).sum(axis=0)\n",
    "\n",
    "flows_adj_df.loc[:,'% Change'] = (flows_adj_df.loc[:,'Recovery'] - flows_adj_df.loc[:,'Pre-Disaster'])/flows_adj_df.loc[:,'Pre-Disaster']*100\n",
    "flows_adj_df.loc[:,'% Change'] = flows_adj_df.loc[:,'% Change'].round(decimals=1)\n",
    "flows_adj_df"
   ]
  },
  {
   "cell_type": "markdown",
   "metadata": {},
   "source": [
    "To export the table to a csv file, uncomment the following line"
   ]
  },
  {
   "cell_type": "code",
   "execution_count": null,
   "metadata": {},
   "outputs": [],
   "source": [
    "#flows_adj_df.to_csv(results_path + 'inflows_table_adj.csv')"
   ]
  }
 ],
 "metadata": {
  "kernelspec": {
   "display_name": "Python 3",
   "language": "python",
   "name": "python3"
  },
  "language_info": {
   "codemirror_mode": {
    "name": "ipython",
    "version": 3
   },
   "file_extension": ".py",
   "mimetype": "text/x-python",
   "name": "python",
   "nbconvert_exporter": "python",
   "pygments_lexer": "ipython3",
   "version": "3.6.7"
  }
 },
 "nbformat": 4,
 "nbformat_minor": 2
}
